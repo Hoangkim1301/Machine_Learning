{
 "cells": [
  {
   "cell_type": "markdown",
   "metadata": {},
   "source": [
    "# Übungszettel 10: Logistische Regression und Evaluation (Musterlösung)\n",
    "\n",
    "## Maschinelles Lernen - WiSe 23/24\n",
    "\n",
    "### Abgabe 17.01.2024, 23:55 Uhr\n",
    "\n",
    "*Hinweise:*\n",
    "- Übungsaufgaben **müssen** in Gruppen von 3-4 Personen abgegeben werden. **Einzelabgaben werden nicht korrigiert bzw. bewertet.**\n",
    "- **<span style=\"color:red;\">Es werden auf diesem Übungszettel die letzten zwei Aufgaben bewertet</span>**, die übrigen Aufgaben dienen zur selbstständigen Vertiefung des Vorlesungsstoffs. Für diese Aufgaben werden nach der Abgabe Musterlösungen bereitgestellt.\n",
    "- Die Lösungen sollen in diesem IPython Notebook realisiert werden, wobei Teilaufgaben und Zwischenergebnisse ausgegeben bzw. visualisiert werden sollen.\n",
    "- Für die Abgabe sollen Sie dieses IPython Notebook und ggf. zugehörige Dateien in ein **Ziparchiv** packen und im Ilias hochladen. Das Ziparchiv soll nach folgendem Muster benannt werden:\n",
    "`UebungXX_Nachname1_Nachname2_Nachname3.zip`, wobei die Nachnamen in alphabetischer Reihenfolge angegeben und Umlaute ggf. ersetzt werden sollen. Bei Nichtbefolgung dieser Vorgabe können Punkte abgezogen werden."
   ]
  },
  {
   "cell_type": "markdown",
   "metadata": {},
   "source": [
    "## Aufgabe 1: Logistische Regression\n",
    "\n",
    "In dieser Aufgabe betrachten wir die logistische Regression mit Hypothese \n",
    "$$ h_\\theta(x) = \\frac{1}{1+e^{-\\theta^Tx}}$$\n",
    "und \n",
    "$$ \\theta = \\begin{bmatrix} \\theta_0 \\\\\n",
    " \\theta_1\\\\\n",
    " \\vdots \\\\ \\theta_n \\end{bmatrix} \n",
    " $$"
   ]
  },
  {
   "cell_type": "markdown",
   "metadata": {},
   "source": [
    "a) Zeigen Sie, dass \n",
    "$$\n",
    "\\frac{\\partial J(\\theta)}{\\partial\\theta_j} = \\dfrac{1}{m}\\sum_{i=1}^m (h_\\theta(x_i) - y_i)x_i\n",
    "$$\n",
    "für die logistische Regression mit Cross-Entropy Loss \n",
    "$$\n",
    "J(\\theta) = -\\frac{1}{m}\\sum_{i=1}^m y_i\\log(h_\\theta(x_i))+(1-y_i)(\\log(1-h_\\theta(x_i))\n",
    "$$"
   ]
  },
  {
   "cell_type": "markdown",
   "metadata": {},
   "source": [
    "$$ \\text{Hier können Sie Ihre Lösung in } \\mathrm{L\\!\\!^{{}_{A}} \\!\\!\\!\\!\\!\\;\\; T\\!_{\\displaystyle E} \\! X} \\text{ einfügen...} $$\n",
    "\n",
    "![Bild](https://via.placeholder.com/500x80?text=...oder+ein+Bild+einbinden.)"
   ]
  },
  {
   "cell_type": "markdown",
   "metadata": {},
   "source": [
    "b) Zeigen Sie, dass \n",
    "$$\n",
    "\\frac{\\partial J(\\theta)}{\\partial\\theta_j} = \\dfrac{1}{m}\\sum_{i=1}^m (h_\\theta(x_i) - y_i)x_i + \\frac{\\lambda}{m}\\theta_j\n",
    "$$\n",
    "für die logistische Regression mit Cross-Entropy Loss mit Regularisierung\n",
    "$$\n",
    "J(\\theta) = -\\frac{1}{m}\\sum_{i=1}^m y_i\\log(h_\\theta(x_i))+(1-y_i)(\\log(1-h_\\theta(x_i)) + \\frac{\\lambda}{2m} \\sum_{j=1}^n \\theta_{j}^2\n",
    "$$ \n"
   ]
  },
  {
   "cell_type": "markdown",
   "metadata": {},
   "source": [
    "$$ \\text{Hier können Sie Ihre Lösung in } \\mathrm{L\\!\\!^{{}_{A}} \\!\\!\\!\\!\\!\\;\\; T\\!_{\\displaystyle E} \\! X} \\text{ einfügen...} $$\n",
    "\n",
    "![Bild](https://via.placeholder.com/500x80?text=...oder+ein+Bild+einbinden.)"
   ]
  },
  {
   "cell_type": "markdown",
   "metadata": {},
   "source": [
    "## **Aufgabe 2: Evaluation (bewertet: 1,5+0,5+1+1+1 Punkte)**\n",
    "\n",
    "Stellen Sie sich vor, dass Sie an einem Spam-Erkennungssystem arbeiten. Bei dem Problem der Spamerkennung handelt es sich um ein binäres Klassifikationsproblem, bei dem *Spam* die positive Klasse und *kein Spam* die negative Klasse ist. \n",
    "\n",
    "Nehmen Sie an, dass sie 2 Modelle (*Modell A* und *Modell B*) trainiert haben und wollen diese nun bewerten. Dazu existiert ein gelabelter Testdatensatz *D* mit E-Mails, die entweder Spam sind, oder nicht.\n",
    "\n",
    "Der folgende Beispielcode läd die Vorhersagen der Modelle (*predictions*) auf beiden Datensätzen, sowie die Labels des Testdatensatzes (*ground truth*). Dabei ist jede Vorhersage ein Wahrscheinlichkeitswert zwischen 0 und 1, und jedes Groundtruth-Label ist entweder 0 (kein Spam) oder 1 (Spam)."
   ]
  },
  {
   "cell_type": "code",
   "execution_count": 1,
   "metadata": {},
   "outputs": [],
   "source": [
    "import numpy as np\n",
    "import pickle as pkl\n",
    "\n",
    "# Dataset\n",
    "gt = pkl.load(open('data.pkl','rb'))\n",
    "\n",
    "# Predictions\n",
    "pr_a, pr_b = pkl.load(open('predictions.pkl','rb'))"
   ]
  },
  {
   "cell_type": "markdown",
   "metadata": {},
   "source": [
    "Ein Modell kann als binäre Klassifizierer genutzt werden, indem ein Grenzwert für die vorhergesagte Wahrscheinlichkeit festgelegt wird, ab dem eine E-Mail als Spam klassifiziert wird. \n",
    "\n",
    "Betrachten Sie die Vorhersagen von Modell A und B auf dem Testdatensatz. Eine E-Mail soll als \"Spam\" klassifiziert werden, wenn das Modell eine Wahrscheinlichkeit > 0.5 ausgibt. "
   ]
  },
  {
   "cell_type": "markdown",
   "metadata": {},
   "source": [
    "a) Berechnen Sie zunächst die true positives (TP), false positives (FP), true negatives (TN) und false negatives (FN).\n",
    "\n",
    "Beurteilen Sie nun die Qualität des binären Klassifikators, indem sie die folgenden Gütemaße basierend auf den ermittelten TP, FP, TN und FN berechnen:\n",
    "\n",
    "* Recall (auch Sensitivität oder true positive rate)\n",
    "* Precision (auch Genauigkeit)\n",
    "* Accuracy (auch Treffergenauigkeit)"
   ]
  },
  {
   "cell_type": "code",
   "execution_count": null,
   "metadata": {},
   "outputs": [],
   "source": []
  },
  {
   "cell_type": "markdown",
   "metadata": {},
   "source": [
    "b) Wie könnte ein Modell auf einfache Weise einen Recall von 1 bzw. 100% erreichen?"
   ]
  },
  {
   "cell_type": "markdown",
   "metadata": {},
   "source": []
  },
  {
   "cell_type": "markdown",
   "metadata": {},
   "source": [
    "c) Beschreiben Sie den Vorteil des F-Measure und berechnen Sie diesen für die Vorhersagen von Modell A und B auf dem Testdatensatz D."
   ]
  },
  {
   "cell_type": "markdown",
   "metadata": {},
   "source": []
  },
  {
   "cell_type": "code",
   "execution_count": null,
   "metadata": {},
   "outputs": [],
   "source": []
  },
  {
   "cell_type": "markdown",
   "metadata": {},
   "source": [
    "d) Die ROC-Kurve (receiver operating characteristic) ist ein zweidimensionaler Graph, in dem die Falsch-Positiv-Rate auf der X-Achse und die Richtig-Positiv-Rate auf der Y-Achse abgetragen werden. Mit einer ROC Kurve kann die Performance eines binären Klassifizierers visuell beurteilt werden. \n",
    "\n",
    "Plotten Sie die ROC-Kurven für die Vorhersagen von Modell A und B auf dem Testdatensatz D und beschreiben Sie die Plots. \n",
    "\n",
    "Berechnen Sie auch die AUC (area under curve). Welches Modell ist besser?"
   ]
  },
  {
   "cell_type": "code",
   "execution_count": null,
   "metadata": {},
   "outputs": [],
   "source": []
  },
  {
   "cell_type": "markdown",
   "metadata": {},
   "source": []
  },
  {
   "cell_type": "markdown",
   "metadata": {},
   "source": [
    "e) Plotten Sie nun auch die Recall-Precision Kurve für die Vorhersagen von Modell A und B auf dem Testdatensatz D und beschreiben Sie die Plots. \n",
    "\n",
    "Berechnen Sie jeweils auch die AUC."
   ]
  },
  {
   "cell_type": "code",
   "execution_count": null,
   "metadata": {},
   "outputs": [],
   "source": []
  },
  {
   "cell_type": "markdown",
   "metadata": {},
   "source": []
  },
  {
   "cell_type": "markdown",
   "metadata": {},
   "source": [
    "## **Aufgabe 3: Image-Retrieval (bewertet: 1,5+0,5 Punkte)**\n",
    "\n",
    "In dieser Aufgabe soll ein Modell ausgewertet werden, das 3 Objektklassen auf Bildern erkennen soll. Auf einem Bild können dabei auch mehrere Klassen vorkommen. Gegeben sei folgender annotierter Testdatensatz:\n",
    "\n",
    "\n",
    "| Bild-ID | Person | Auto | Hund |\n",
    "| :------:|:------:|:----:| ----:|\n",
    "| 1       | 1      |1     | 1    |\n",
    "| 2       | 1      |0     | 0    |\n",
    "| 3       | 0      |1     | 0    |\n",
    "| 4       | 0      |0     | 1    |\n",
    "| 5       | 0      |1     | 1    |\n",
    "\n",
    "Dabei bedeutet 1, dass die Klasse im Bild vorkommt, und 0, dass die Klasse nicht vorkommt.\n",
    "\n",
    "Für die 3 Klassen liefert das Modell nun folgende Vorhersagen auf dem Datensatz (jeweils eine Wahrscheinlichkeit, dass die Klasse vorkommt):\n",
    "\n",
    "| Bild-ID | Person | \n",
    "| :------:|:------:|\n",
    "| 1       | 0,99   |\n",
    "| 2       | 0,80   |\n",
    "| 3       | 0,85   |\n",
    "| 4       | 0,19   |\n",
    "| 5       | 0,35   |\n",
    "\n",
    "| Bild-ID | Auto   | \n",
    "| :------:|:------:|\n",
    "| 1       | 0,92   |\n",
    "| 2       | 0,10   |\n",
    "| 3       | 0,11   |\n",
    "| 4       | 0,12   |\n",
    "| 5       | 0,85   |\n",
    "\n",
    "| Bild-ID | Hund   | \n",
    "| :------:|:------:|\n",
    "| 1       | 0,92   |\n",
    "| 2       | 0,10   |\n",
    "| 3       | 0,12   |\n",
    "| 4       | 0,90   |\n",
    "| 5       | 0,85   |"
   ]
  },
  {
   "cell_type": "markdown",
   "metadata": {},
   "source": [
    "a) Berechnen Sie für jede Klasse die Average Precision (AP) von Hand.\n",
    "\n",
    "Für welche Klasse funktioniert das Modell am besten, für welche am schlechtesten?"
   ]
  },
  {
   "cell_type": "markdown",
   "metadata": {},
   "source": [
    "$$ \\text{Hier können Sie Ihre Lösung in } \\mathrm{L\\!\\!^{{}_{A}} \\!\\!\\!\\!\\!\\;\\; T\\!_{\\displaystyle E} \\! X} \\text{ einfügen...} $$\n",
    "\n",
    "![Bild](https://via.placeholder.com/500x80?text=...oder+ein+Bild+einbinden.)"
   ]
  },
  {
   "cell_type": "markdown",
   "metadata": {},
   "source": []
  },
  {
   "cell_type": "markdown",
   "metadata": {},
   "source": [
    "b) Berechnen Sie die mean Average Precision (mAP)."
   ]
  },
  {
   "cell_type": "markdown",
   "metadata": {},
   "source": [
    "$$ \\text{Hier können Sie Ihre Lösung in } \\mathrm{L\\!\\!^{{}_{A}} \\!\\!\\!\\!\\!\\;\\; T\\!_{\\displaystyle E} \\! X} \\text{ einfügen...} $$\n",
    "\n",
    "![Bild](https://via.placeholder.com/500x80?text=...oder+ein+Bild+einbinden.)"
   ]
  }
 ],
 "metadata": {
  "kernelspec": {
   "display_name": "Python 3",
   "language": "python",
   "name": "python3"
  },
  "language_info": {
   "codemirror_mode": {
    "name": "ipython",
    "version": 3
   },
   "file_extension": ".py",
   "mimetype": "text/x-python",
   "name": "python",
   "nbconvert_exporter": "python",
   "pygments_lexer": "ipython3",
   "version": "3.8.10"
  }
 },
 "nbformat": 4,
 "nbformat_minor": 4
}
