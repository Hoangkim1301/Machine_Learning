{
 "cells": [
  {
   "cell_type": "markdown",
   "metadata": {},
   "source": [
    "# Übungszettel 3: Matplotlib, Pandas, PCA (Musterlösung)\n",
    "\n",
    "## Maschinelles Lernen - WiSe 23/24\n",
    "\n",
    "### Abgabe 08.11.2023, 23:55 Uhr\n",
    "\n",
    "*Hinweise:*\n",
    "- Übungsaufgaben **müssen** in Gruppen von 3-4 Personen abgegeben werden. \n",
    "- Es wird pro Übungszettel nur eine Aufgabe bewertet, die übrigen Aufgaben dienen zur selbstständigen Vertiefung des Vorlesungsstoffs. Für diese Aufgaben werden nach der Abgabe Musterlösungen bereitgestellt.\n",
    "- Die Lösungen sollen in diesem IPython Notebook realisiert werden, wobei Teilaufgaben und Zwischenergebnisse ausgegeben bzw. visualisiert werden sollen.\n",
    "- Für die Abgabe sollen Sie dieses IPython Notebook und ggf. zugehörige Dateien in ein **Ziparchiv** packen und im Ilias hochladen. Das Ziparchiv soll nach folgendem Muster benannt werden:\n",
    "`UebungXX_Nachname1_Nachname2_Nachname3.zip`, wobei die Nachnamen in alphabetischer Reihenfolge angegeben und Umlaute ggf. ersetzt werden sollen."
   ]
  },
  {
   "cell_type": "markdown",
   "metadata": {},
   "source": [
    "---\n",
    "## Aufgabe 1: Matplotlib und Numpy\n",
    "*Hinweis:* Nutzen Sie die Bibliotheken `matplotlib` und `numpy`. Ziel der Übungsaufgabe ist es, sich mit diesen Bibliotheken vertraut zu machen. Damit Plots Bilder innerhalb der IPython Notebook-Datei eingebunden werden, kann der Befehl `%matplotlib inline` benutzt werden."
   ]
  },
  {
   "cell_type": "markdown",
   "metadata": {},
   "source": [
    "a) Verwenden Sie in dieser Aufgabe Slicing\n",
    "\n",
    "* Generieren Sie zunächst ein Numpy Array `a_3d` mit der Shape `(3,300)`, welches nur Nullen enthält. Erzeugen Sie dann ein weiteres Array `a_2d` mit der Shape `(2,300)`, welches normalverteilte Zufallszahlen ($\\mu=0, \\sigma^2=1$) enthält. Weisen Sie dieses Array den ersten beiden Dimensionen von `a_3d` zu.\n",
    "* Generieren Sie ein weiteres Array `b_3d`, indem die `a_3d` kopieren (`copy()`). Generieren Sie 300 weitere normalverteilte Zufallszahlen, diesmal mit ($\\mu=1, \\sigma^2=0.5$) und weisen Sie diese der 2. Dimension von `b_3d` zu.\n",
    "* Erzeugen Sie einen 2D Scatterplot von den jeweils ersten beiden Dimensionen von `a_3d` und `b_3d`\n"
   ]
  },
  {
   "cell_type": "code",
   "execution_count": null,
   "metadata": {},
   "outputs": [],
   "source": []
  },
  {
   "cell_type": "markdown",
   "metadata": {},
   "source": [
    "b) Verwenden Sie in dieser Aufgabe Numpy und Broadcasting.\n",
    "\n",
    "* Ziehen Sie von den ersten 150 Werten in der 2. Dimension von `a_3d` den Wert 5 ab\n",
    "* Addieren Sie zu den restlichen 150 Werten in der 2. Dimension von `a_3d` den Wert 5 \n",
    "* Multiplizieren Sie die Werte in der 1. Dimension von `b_3d` mit 1.5, die in der 2. Dimension mit 0.5\n",
    "\n",
    "Visualisieren Sie die ersten beiden Dimensionen der beiden Arrays in einem Scatterplot."
   ]
  },
  {
   "cell_type": "code",
   "execution_count": null,
   "metadata": {},
   "outputs": [],
   "source": []
  },
  {
   "cell_type": "markdown",
   "metadata": {},
   "source": [
    "c) Tauschen Sie die 2. und 3. Dimension von `b_3d` und visualisieren Sie `a_3d`und `b_3d` als 3D Scatterplot."
   ]
  },
  {
   "cell_type": "code",
   "execution_count": null,
   "metadata": {},
   "outputs": [],
   "source": []
  },
  {
   "cell_type": "markdown",
   "metadata": {
    "tags": []
   },
   "source": [
    "---\n",
    "## Aufgabe 2: Pandas, Matplotlib, Scipy\n",
    "\n",
    "In dieser Aufgabe sollen Sie sich mit der Funktionsweise der Bibliotheken `pandas` und `scipy` vertraut machen."
   ]
  },
  {
   "cell_type": "markdown",
   "metadata": {},
   "source": [
    "a) Lesen Sie die Datei https://raw.githubusercontent.com/owid/co2-data/master/owid-co2-data.csv mit `pandas` ein. \n",
    "\n",
    "Erstellen Sie mit `matplotlib` jeweils ein Balkendiagramm für die Variablen `year` (x-Achse) und `co2` (Höhe der Balken) für folgende Werte der Spalte `country`:\n",
    "* `Germany`\n",
    "* `United States`\n",
    "* ein weiteres Land Ihrer Wahl"
   ]
  },
  {
   "cell_type": "code",
   "execution_count": null,
   "metadata": {},
   "outputs": [],
   "source": []
  },
  {
   "cell_type": "markdown",
   "metadata": {},
   "source": [
    "b) Erstellen Sie eine neue Spalte mit den Pro-Kopf Emissionen, indem sie die Werte der Spalte `co2` durch die der Spalte `population` teilen.\n",
    "\n",
    "Erstellen Sie einen weiteren Plot, auf dem die Balkendiagramme der Emissionen pro Kopf ab dem Jahr 1990 (`year >= 1990`) nach Ländern gruppiert dargestellt werden (für die gleichen drei Länder wie in der vorherigen Aufgabe). \n",
    "\n",
    "*Tipp:* Nutzen Sie dafür die Library `seaborn`."
   ]
  },
  {
   "cell_type": "code",
   "execution_count": null,
   "metadata": {},
   "outputs": [],
   "source": []
  },
  {
   "cell_type": "markdown",
   "metadata": {},
   "source": [
    "c) Berechnen Sie die Pearson-Korrelation und sowie den Spearman-Rangkorrelationskoeffizienten für die Spalten `population` und `co2` mit `year >= 1900`, jeweils für `country=World` und `country=Germany` mithilfe der Bibliothek `scipy`."
   ]
  },
  {
   "cell_type": "code",
   "execution_count": null,
   "metadata": {},
   "outputs": [],
   "source": []
  },
  {
   "cell_type": "markdown",
   "metadata": {},
   "source": [
    "---\n",
    "## Aufgabe 3:  Levenshtein Distanz"
   ]
  },
  {
   "cell_type": "markdown",
   "metadata": {},
   "source": [
    "a) Implementieren Sie eine Funktion `levenshtein_distance(s1, s2, del_cost, ins_cost, sub_cost)` in Python, die die Levenshtein Distanz zwischen zwei Strings `s1` und `s2` berechnet. \n",
    "Über die Parameter `del_cost`, `ins_cost` und `sub_cost` werden die Kosten für Löschen, Einfügen und Ersetzen übergeben.\n",
    "\n",
    "Beachten Sie, dass die Implementierung effizient sein muss. Nutzen Sie dazu die Methode der [Dynamischen Programmierung](https://de.wikipedia.org/wiki/Dynamische_Programmierung), wie in dem als pdf angehängten Beispiel gezeigt."
   ]
  },
  {
   "cell_type": "code",
   "execution_count": null,
   "metadata": {},
   "outputs": [],
   "source": []
  },
  {
   "cell_type": "markdown",
   "metadata": {},
   "source": [
    "b) Wenden Sie die Funktion aus a) jeweils paarweise auf die Strings \"Maschinelles Lernen\", \"Machine Learning\" und \"Vorlesung Maschinelles Lernen\" mit unterschiedlichen Kosten für Löschen, Einfügen und Ersetzen an. Nutzen Sie folgende Werte:\n",
    "\n",
    "* `del_cost=0.5`, `ins_cost=0.5` und `sub_cost=0.5`\n",
    "* `del_cost=2`, `ins_cost=0.5` und `sub_cost=0.5`\n",
    "* `del_cost=0.5`, `ins_cost=0.5` und `sub_cost=2`"
   ]
  },
  {
   "cell_type": "code",
   "execution_count": null,
   "metadata": {},
   "outputs": [],
   "source": []
  },
  {
   "cell_type": "markdown",
   "metadata": {},
   "source": [
    "c) Erweitern Sie die Funktion aus a) um einen Parameter `return_matrix=False`. Wenn dieser auf `True` gesetzt ist, soll die Funktion die Editier-Distanz-Matrix zurückliefern.\n",
    "Berechnen Sie die Matrix und visualisieren Sie diese mithilfe von `matplotlib` für `s1='Maschinelles Lernen'`, `s2='Machine Learning'` mit `del_cost=0.5`, `ins_cost=0.5` und `sub_cost=0.5`."
   ]
  },
  {
   "cell_type": "code",
   "execution_count": null,
   "metadata": {},
   "outputs": [],
   "source": []
  },
  {
   "cell_type": "markdown",
   "metadata": {},
   "source": [
    "---\n",
    "\n",
    "## **Aufgabe 3: PCA (bewertet: 1+3+1 Punkte)**"
   ]
  },
  {
   "cell_type": "markdown",
   "metadata": {},
   "source": [
    "a) Beschreiben Sie, welchen Zweck die PCA verfolgt bzw. unter welchen Umständen eine PCA sinnvoll ist."
   ]
  },
  {
   "cell_type": "markdown",
   "metadata": {},
   "source": []
  },
  {
   "cell_type": "markdown",
   "metadata": {},
   "source": [
    "b) Gegeben seien die folgenden 6 Datenpunkte $(x,y) \\in \\mathbb{R}^2$:\n",
    "\n",
    "| x   | y   | \n",
    "| :-- |:----| \n",
    "| 1   | 0   | \n",
    "| 2   | 0   | \n",
    "| 3   | 0   | \n",
    "| 5   | 6   | \n",
    "| 6   | 6   | \n",
    "| 7   | 6   | \n",
    "\n",
    "Führen Sie eine PCA auf den gegebenen Daten von Hand durch. Bestimmen Sie dazu zunächst die Kovarianzmatrix und berechnen Sie daraus die Eigenwerte und Eigenvektoren."
   ]
  },
  {
   "cell_type": "markdown",
   "metadata": {},
   "source": [
    "$$ \\text{Hier können Sie Ihre Lösung in } \\mathrm{L\\!\\!^{{}_{A}} \\!\\!\\!\\!\\!\\;\\; T\\!_{\\displaystyle E} \\! X} \\text{ einfügen...} $$\n",
    "\n",
    "![Bild](https://via.placeholder.com/500x80?text=...oder+ein+Bild+einbinden.)"
   ]
  },
  {
   "cell_type": "markdown",
   "metadata": {},
   "source": [
    "c) Nutzen Sie die Klasse `PCA` aus `sklearn.decomposition` und führen Sie die PCA auf den Daten aus b) durch. Visualisieren Sie die Daten vor und nach der PCA."
   ]
  },
  {
   "cell_type": "code",
   "execution_count": null,
   "metadata": {},
   "outputs": [],
   "source": []
  }
 ],
 "metadata": {
  "kernelspec": {
   "display_name": "Python 3",
   "language": "python",
   "name": "python3"
  },
  "language_info": {
   "codemirror_mode": {
    "name": "ipython",
    "version": 3
   },
   "file_extension": ".py",
   "mimetype": "text/x-python",
   "name": "python",
   "nbconvert_exporter": "python",
   "pygments_lexer": "ipython3",
   "version": "3.8.10"
  }
 },
 "nbformat": 4,
 "nbformat_minor": 4
}
