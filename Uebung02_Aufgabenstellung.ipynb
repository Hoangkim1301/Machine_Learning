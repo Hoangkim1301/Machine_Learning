{
 "cells": [
  {
   "cell_type": "markdown",
   "metadata": {},
   "source": [
    "# Übungszettel 2: Python, Korrelation\n",
    "\n",
    "## Maschinelles Lernen - WiSe 23/24\n",
    "\n",
    "### Abgabe 01.11.2023, 23:55 Uhr\n",
    "\n",
    "*Hinweise:*\n",
    "- Übungsaufgaben **müssen** in Gruppen von 3-4 Personen abgegeben werden. \n",
    "- Es wird pro Übungszettel nur eine Aufgabe bewertet, die übrigen Aufgaben dienen zur selbstständigen Vertiefung des Vorlesungsstoffs. Für diese Aufgaben werden nach der Abgabe Musterlösungen bereitgestellt.\n",
    "- Die Lösungen sollen in diesem IPython Notebook realisiert werden, wobei Teilaufgaben und Zwischenergebnisse ausgegeben bzw. visualisiert werden sollen.\n",
    "- Für die Abgabe sollen Sie dieses IPython Notebook und ggf. zugehörige Dateien in ein **Ziparchiv** packen und im Ilias hochladen. Das Ziparchiv soll nach folgendem Muster benannt werden:\n",
    "`UebungXX_Nachname1_Nachname2_Nachname3.zip`, wobei die Nachnamen in alphabetischer Reihenfolge angegeben und Umlaute ggf. ersetzt werden sollen."
   ]
  },
  {
   "cell_type": "markdown",
   "metadata": {},
   "source": [
    "--- \n",
    "\n",
    "## Aufgabe 1: Objektorientierte Programmierung\n",
    "\n",
    "a) Schreiben Sie eine Klasse `Dice`, die einen Würfel modelliert. Diese soll die Würfe in einer Liste speichern. Die Klasse soll über folgende Funktionen verfügen:\n",
    "\n",
    "* `roll` - generiert zufällig einen Wert zwischen 1 und 6 und fügt ihn der Historie hinzu\n",
    "* `history(start, end)` - gibt die Würfe zwischen `start` und `end` aus (für ungültige Eingaben soll eine Exception `InvalidIntervalError` geworfen werden)\n",
    "* `mean` - gibt den Mittelwert der bereits geworfenen Würfe aus\n",
    "* `var` - gibt die Varianz der bereits geworfenen Würfe aus"
   ]
  },
  {
   "cell_type": "code",
   "execution_count": null,
   "metadata": {},
   "outputs": [],
   "source": []
  },
  {
   "cell_type": "markdown",
   "metadata": {},
   "source": [
    "---\n",
    "\n",
    "## Aufgabe 2: Webscraping, Dateien ein- und auslesen"
   ]
  },
  {
   "cell_type": "markdown",
   "metadata": {},
   "source": [
    "a) Lesen Sie den Inhalt von https://de.wikipedia.org/wiki/Philipps-Universit%C3%A4t_Marburg ein. Wählen Sie darin alle Bereiche die vom HTML Tag `<div>` mit Attribut `id=\"mw-content-text\"` eingeschlossen werden. Entfernen Sie dann jeweils alle HTML-Tags. Speichern sie den gesamten extrahierten Text in der Datei `Uni_Marburg_Wikipedia.txt`.\n",
    "\n",
    "*Tipp:* Nutzen Sie die Bibliotheken `beautifulsoup4` und `requests`."
   ]
  },
  {
   "cell_type": "code",
   "execution_count": null,
   "metadata": {},
   "outputs": [],
   "source": []
  },
  {
   "cell_type": "markdown",
   "metadata": {},
   "source": [
    "b) Lesen Sie die Datei `Uni_Marburg_Wikipedia.txt` ein. Lassen Sie berechnen, wie oft das Wort Informatik vorkommt. Welches sind die 10 Worte, mit mehr als 3 Buchstaben, die im Text am häufigsten vorkommen? Geben Sie diese sortiert zusammen mit ihrer Häufigkeit aus."
   ]
  },
  {
   "cell_type": "code",
   "execution_count": null,
   "metadata": {},
   "outputs": [],
   "source": []
  },
  {
   "cell_type": "markdown",
   "metadata": {},
   "source": [
    "---\n",
    "## Aufgabe 3: Pearson-Korrelation\n",
    "\n",
    "Berechnen Sie die Korrelationskoeffizienten für die folgenden Merkmale:\n",
    "\n",
    "co2     | year\n",
    "--------|-----\n",
    "792.793 | 2014\n",
    "795.940 | 2015\n",
    "801.655 | 2016\n",
    "797.966 | 2017\n",
    "759.002 | 2018"
   ]
  },
  {
   "cell_type": "markdown",
   "metadata": {},
   "source": [
    "a) Berechnen Sie die Pearson-Korrelation von Hand und geben Sie den Rechenweg an.\n",
    "\n",
    "Für die Darstellung des Rechenweges können Sie LaTex in Markdown benutzen. Alternativ können Sie auch ein Foto des Rechenweges einbinden."
   ]
  },
  {
   "cell_type": "markdown",
   "metadata": {},
   "source": [
    "$ \\text{Hier können Sie Ihre Lösung in } \\mathrm{L\\!\\!^{{}_{A}} \\!\\!\\!\\!\\!\\;\\; T\\!_{\\displaystyle E} \\! X} \\text{ einfügen...} $\n",
    "\n",
    "![Bild](https://via.placeholder.com/500x80?text=...oder+ein+Bild+einbinden.)"
   ]
  },
  {
   "cell_type": "markdown",
   "metadata": {},
   "source": [
    "b) Schreiben Sie eine Funktion welche die Pearson-Korrelation zwischen zwei Merkmalen berechnet. In dieser Teilaufgabe dürfen Sie keine Pakete und insbesondere kein Numpy verwenden."
   ]
  },
  {
   "cell_type": "code",
   "execution_count": null,
   "metadata": {},
   "outputs": [],
   "source": []
  },
  {
   "cell_type": "markdown",
   "metadata": {},
   "source": [
    "c) Überprüfen Sie Ihr Ergebnis aus Aufgabenteil a) mit Ihrer Implementierung."
   ]
  },
  {
   "cell_type": "code",
   "execution_count": null,
   "metadata": {},
   "outputs": [],
   "source": []
  },
  {
   "cell_type": "markdown",
   "metadata": {},
   "source": [
    "---\n",
    "## **Aufgabe 4: Spearman-Rangkorrelation (bewertet, 0,5 + 2,5 + 1,5 + 0,5 Punkte)**\n",
    "\n",
    "Berechnen Sie die Spearman-Rangkorrelationskoeffizienten für die folgenden Merkmale:\n",
    "\n",
    "co2     | year\n",
    "--------|-----\n",
    "792.793 | 2014\n",
    "795.940 | 2015\n",
    "801.655 | 2016\n",
    "797.966 | 2017\n",
    "759.002 | 2018"
   ]
  },
  {
   "cell_type": "markdown",
   "metadata": {},
   "source": [
    "a) Stellen Sie eine Tabelle mit den Rängen für die beiden Merkmale auf."
   ]
  },
  {
   "cell_type": "markdown",
   "metadata": {},
   "source": [
    "Hier können Sie Ihre Lösung in Markdown einfügen...\n",
    "\n",
    "![Bild](https://via.placeholder.com/500x80?text=...oder+ein+Bild+einbinden.)"
   ]
  },
  {
   "cell_type": "markdown",
   "metadata": {},
   "source": [
    "b) Berechnen Sie den Spearman-Rangkorrelationskoeffizienten von Hand und geben Sie den Rechenweg an. Für die Darstellung des Rechenweges können Sie LaTex in Markdown benutzen. Alternativ können Sie auch ein Foto des Rechenweges einbinden."
   ]
  },
  {
   "cell_type": "markdown",
   "metadata": {},
   "source": [
    "$ \\text{Hier können Sie Ihre Lösung in } \\mathrm{L\\!\\!^{{}_{A}} \\!\\!\\!\\!\\!\\;\\; T\\!_{\\displaystyle E} \\! X} \\text{ einfügen...} $\n",
    "\n",
    "![Bild](https://via.placeholder.com/500x80?text=...oder+ein+Bild+einbinden.)"
   ]
  },
  {
   "cell_type": "markdown",
   "metadata": {},
   "source": [
    "c) Schreiben Sie eine Funktion welche den Spearman-Rangkorrelationskoeffizienten zwischen zwei Merkmalen berechnet. In dieser Teilaufgabe dürfen Sie keine Pakete und insbesondere kein Numpy verwenden. "
   ]
  },
  {
   "cell_type": "code",
   "execution_count": null,
   "metadata": {},
   "outputs": [],
   "source": []
  },
  {
   "cell_type": "markdown",
   "metadata": {},
   "source": [
    "d) Überprüfen Sie Ihr Ergebnis aus Aufgabenteil b) mit Ihrer Implementierung."
   ]
  },
  {
   "cell_type": "code",
   "execution_count": null,
   "metadata": {},
   "outputs": [],
   "source": []
  }
 ],
 "metadata": {
  "kernelspec": {
   "display_name": "Python 3",
   "language": "python",
   "name": "python3"
  },
  "language_info": {
   "codemirror_mode": {
    "name": "ipython",
    "version": 3
   },
   "file_extension": ".py",
   "mimetype": "text/x-python",
   "name": "python",
   "nbconvert_exporter": "python",
   "pygments_lexer": "ipython3",
   "version": "3.8.10"
  }
 },
 "nbformat": 4,
 "nbformat_minor": 4
}
