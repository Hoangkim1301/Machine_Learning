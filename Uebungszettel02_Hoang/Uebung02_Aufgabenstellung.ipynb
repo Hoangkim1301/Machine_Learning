{
 "cells": [
  {
   "cell_type": "markdown",
   "metadata": {},
   "source": [
    "# Übungszettel 2: Python, Korrelation\n",
    "\n",
    "## Maschinelles Lernen - WiSe 23/24\n",
    "\n",
    "### Abgabe 01.11.2023, 23:55 Uhr\n",
    "\n",
    "*Hinweise:*\n",
    "- Übungsaufgaben **müssen** in Gruppen von 3-4 Personen abgegeben werden. \n",
    "- Es wird pro Übungszettel nur eine Aufgabe bewertet, die übrigen Aufgaben dienen zur selbstständigen Vertiefung des Vorlesungsstoffs. Für diese Aufgaben werden nach der Abgabe Musterlösungen bereitgestellt.\n",
    "- Die Lösungen sollen in diesem IPython Notebook realisiert werden, wobei Teilaufgaben und Zwischenergebnisse ausgegeben bzw. visualisiert werden sollen.\n",
    "- Für die Abgabe sollen Sie dieses IPython Notebook und ggf. zugehörige Dateien in ein **Ziparchiv** packen und im Ilias hochladen. Das Ziparchiv soll nach folgendem Muster benannt werden:\n",
    "`UebungXX_Nachname1_Nachname2_Nachname3.zip`, wobei die Nachnamen in alphabetischer Reihenfolge angegeben und Umlaute ggf. ersetzt werden sollen."
   ]
  },
  {
   "cell_type": "markdown",
   "metadata": {},
   "source": [
    "--- \n",
    "\n",
    "## Aufgabe 1: Objektorientierte Programmierung\n",
    "\n",
    "a) Schreiben Sie eine Klasse `Dice`, die einen Würfel modelliert. Diese soll die Würfe in einer Liste speichern. Die Klasse soll über folgende Funktionen verfügen:\n",
    "\n",
    "* `roll` - generiert zufällig einen Wert zwischen 1 und 6 und fügt ihn der Historie hinzu\n",
    "* `history(start, end)` - gibt die Würfe zwischen `start` und `end` aus (für ungültige Eingaben soll eine Exception `InvalidIntervalError` geworfen werden)\n",
    "* `mean` - gibt den Mittelwert der bereits geworfenen Würfe aus\n",
    "* `var` - gibt die Varianz der bereits geworfenen Würfe aus"
   ]
  },
  {
   "cell_type": "code",
   "execution_count": 48,
   "metadata": {},
   "outputs": [
    {
     "name": "stdout",
     "output_type": "stream",
     "text": [
      "6\n",
      "3\n",
      "2\n",
      "Mittelwert der gewürfelten Zahlen 3.6666666666666665\n",
      "Die Varianz der bereits geworfenen Würfe ist:  2.8888888888888893\n"
     ]
    }
   ],
   "source": [
    "import random \n",
    "\n",
    "class Dice:\n",
    "    # Konstruktor\n",
    "    def __init__(self, sides):\n",
    "        self.sides = sides  # Anzahl der Seiten\n",
    "        self.value = []     # Liste der gewürfelten Zahlen\n",
    "        self.m = 0.0    # Mittelwert der gewürfelten Zahlen\n",
    "        \n",
    "    # Methode zum Würfeln\n",
    "    def roll(self): \n",
    "        value = random.randint(1,self.sides)    # Zufallszahl zwischen 1 und Anzahl der Seiten\n",
    "        self.value.append(value)                # Zufallszahl wird der Liste hinzugefügt\n",
    "        return(print(value))                    # Zufallszahl wird ausgegeben\n",
    "        \n",
    "    # Methode zum Ausgeben der gewürfelten Zahlen    \n",
    "    def history(self,start,end):\n",
    "        try:\n",
    "            if start < 0 or end < 0 or start > end:\n",
    "                raise ValueError(\"Invalid interval\")\n",
    "        except ValueError as e:\n",
    "            print(e)\n",
    "            return None\n",
    "        \n",
    "        if end > len(self.value):\n",
    "            end = len(self.value)\n",
    "        \n",
    "        return self.value[start:end]    # Liste der gewürfelten Zahlen wird ausgegeben\n",
    "    \n",
    "    # Methode zum Berechnen des Mittelwerts der gewürfelten Zahlen\n",
    "    def mean(self):\n",
    "        self.m = sum(self.value)/len(self.value)\n",
    "        return(sum(self.value)/len(self.value)) # Mittelwert der gewürfelten Zahlen wird ausgegeben\n",
    "        \n",
    "    # Methode zum Berechnen der Varianz der gewürfelten Zahlen    \n",
    "    def var(self):\n",
    "        n = len(self.value)\n",
    "        var = (1/n) *  sum( (self.value[i] -  self.m)**2 for i in range(n))\n",
    "        return(var) \n",
    "            \n",
    "d1 = Dice(6)\n",
    "d1.roll() \n",
    "d1.roll()   \n",
    "d1.roll()\n",
    "d1.history(0,3)\n",
    "print('Mittelwert der gewürfelten Zahlen', d1.mean())\n",
    "print('Die Varianz der bereits geworfenen Würfe ist: ', d1.var())\n"
   ]
  },
  {
   "cell_type": "markdown",
   "metadata": {},
   "source": [
    "---\n",
    "\n",
    "## Aufgabe 2: Webscraping, Dateien ein- und auslesen"
   ]
  },
  {
   "cell_type": "markdown",
   "metadata": {},
   "source": [
    "a) Lesen Sie den Inhalt von https://de.wikipedia.org/wiki/Philipps-Universit%C3%A4t_Marburg ein. Wählen Sie darin alle Bereiche die vom HTML Tag `<div>` mit Attribut `id=\"mw-content-text\"` eingeschlossen werden. Entfernen Sie dann jeweils alle HTML-Tags. Speichern sie den gesamten extrahierten Text in der Datei `Uni_Marburg_Wikipedia.txt`.\n",
    "\n",
    "*Tipp:* Nutzen Sie die Bibliotheken `beautifulsoup4` und `requests`."
   ]
  },
  {
   "cell_type": "code",
   "execution_count": 70,
   "metadata": {},
   "outputs": [],
   "source": [
    "import requests\n",
    "from bs4 import BeautifulSoup\n",
    "\n",
    "url = 'https://de.wikipedia.org/wiki/Philipps-Universit%C3%A4t_Marburg'\n",
    "\n",
    "# Make a GET request to the URL\n",
    "response = requests.get(url)\n",
    "\n",
    "# Parse the HTML content using BeautifulSoup\n",
    "soup = BeautifulSoup(response.content, 'html.parser')\n",
    "\n",
    "# Find all the div tags with attribute id=\"mw-content-context\"\n",
    "div_tags = soup.find_all('div', attrs={'id': 'mw-content-text'})\n",
    "\n",
    "# Write the extracted text to a file named Uni_Marburg_Wikipedia.txt\n",
    "with open('Uni_Marburg_Wikipedia.txt', 'r+', encoding='utf-8') as file:\n",
    "    data = file.read()\n",
    "    if len(data) > 0:\n",
    "        file.truncate(0) # Remove the contents of the file\n",
    "    \n",
    "    for div in div_tags:\n",
    "        file.write(str(div.text))\n",
    "    \n"
   ]
  },
  {
   "cell_type": "code",
   "execution_count": null,
   "metadata": {},
   "outputs": [],
   "source": []
  },
  {
   "cell_type": "markdown",
   "metadata": {},
   "source": [
    "b) Lesen Sie die Datei `Uni_Marburg_Wikipedia.txt` ein. Lassen Sie berechnen, wie oft das Wort Informatik vorkommt. Welches sind die 10 Worte, mit mehr als 3 Buchstaben, die im Text am häufigsten vorkommen? Geben Sie diese sortiert zusammen mit ihrer Häufigkeit aus."
   ]
  },
  {
   "cell_type": "code",
   "execution_count": null,
   "metadata": {},
   "outputs": [],
   "source": []
  },
  {
   "cell_type": "markdown",
   "metadata": {},
   "source": [
    "---\n",
    "## Aufgabe 3: Pearson-Korrelation\n",
    "\n",
    "Berechnen Sie die Korrelationskoeffizienten für die folgenden Merkmale:\n",
    "\n",
    "co2     | year\n",
    "--------|-----\n",
    "792.793 | 2014\n",
    "795.940 | 2015\n",
    "801.655 | 2016\n",
    "797.966 | 2017\n",
    "759.002 | 2018"
   ]
  },
  {
   "cell_type": "markdown",
   "metadata": {},
   "source": [
    "a) Berechnen Sie die Pearson-Korrelation von Hand und geben Sie den Rechenweg an.\n",
    "\n",
    "Für die Darstellung des Rechenweges können Sie LaTex in Markdown benutzen. Alternativ können Sie auch ein Foto des Rechenweges einbinden."
   ]
  },
  {
   "cell_type": "markdown",
   "metadata": {},
   "source": [
    "$ \\text{Hier können Sie Ihre Lösung in } \\mathrm{L\\!\\!^{{}_{A}} \\!\\!\\!\\!\\!\\;\\; T\\!_{\\displaystyle E} \\! X} \\text{ einfügen...} $\n",
    "\n",
    "![Bild](https://via.placeholder.com/500x80?text=...oder+ein+Bild+einbinden.)"
   ]
  },
  {
   "cell_type": "markdown",
   "metadata": {},
   "source": [
    "b) Schreiben Sie eine Funktion welche die Pearson-Korrelation zwischen zwei Merkmalen berechnet. In dieser Teilaufgabe dürfen Sie keine Pakete und insbesondere kein Numpy verwenden."
   ]
  },
  {
   "cell_type": "code",
   "execution_count": null,
   "metadata": {},
   "outputs": [],
   "source": []
  },
  {
   "cell_type": "markdown",
   "metadata": {},
   "source": [
    "c) Überprüfen Sie Ihr Ergebnis aus Aufgabenteil a) mit Ihrer Implementierung."
   ]
  },
  {
   "cell_type": "code",
   "execution_count": null,
   "metadata": {},
   "outputs": [],
   "source": []
  },
  {
   "cell_type": "markdown",
   "metadata": {},
   "source": [
    "---\n",
    "## **Aufgabe 4: Spearman-Rangkorrelation (bewertet, 0,5 + 2,5 + 1,5 + 0,5 Punkte)**\n",
    "\n",
    "Berechnen Sie die Spearman-Rangkorrelationskoeffizienten für die folgenden Merkmale:\n",
    "\n",
    "co2     | year\n",
    "--------|-----\n",
    "792.793 | 2014\n",
    "795.940 | 2015\n",
    "801.655 | 2016\n",
    "797.966 | 2017\n",
    "759.002 | 2018"
   ]
  },
  {
   "cell_type": "markdown",
   "metadata": {},
   "source": [
    "a) Stellen Sie eine Tabelle mit den Rängen für die beiden Merkmale auf."
   ]
  },
  {
   "cell_type": "markdown",
   "metadata": {},
   "source": [
    "Hier können Sie Ihre Lösung in Markdown einfügen...\n",
    "\n",
    "![Bild](https://via.placeholder.com/500x80?text=...oder+ein+Bild+einbinden.)"
   ]
  },
  {
   "cell_type": "markdown",
   "metadata": {},
   "source": [
    "<img src=\"Uebungszettel02_Hoang/Aufgabe4a.pdf\">"
   ]
  },
  {
   "cell_type": "markdown",
   "metadata": {},
   "source": [
    "b) Berechnen Sie den Spearman-Rangkorrelationskoeffizienten von Hand und geben Sie den Rechenweg an. Für die Darstellung des Rechenweges können Sie LaTex in Markdown benutzen. Alternativ können Sie auch ein Foto des Rechenweges einbinden."
   ]
  },
  {
   "cell_type": "markdown",
   "metadata": {},
   "source": [
    "$ \\text{Hier können Sie Ihre Lösung in } \\mathrm{L\\!\\!^{{}_{A}} \\!\\!\\!\\!\\!\\;\\; T\\!_{\\displaystyle E} \\! X} \\text{ einfügen...} $\n",
    "\n",
    "![Bild](https://via.placeholder.com/500x80?text=...oder+ein+Bild+einbinden.)"
   ]
  },
  {
   "cell_type": "markdown",
   "metadata": {},
   "source": [
    "c) Schreiben Sie eine Funktion welche den Spearman-Rangkorrelationskoeffizienten zwischen zwei Merkmalen berechnet. In dieser Teilaufgabe dürfen Sie keine Pakete und insbesondere kein Numpy verwenden. "
   ]
  },
  {
   "cell_type": "code",
   "execution_count": null,
   "metadata": {},
   "outputs": [],
   "source": []
  },
  {
   "cell_type": "markdown",
   "metadata": {},
   "source": [
    "d) Überprüfen Sie Ihr Ergebnis aus Aufgabenteil b) mit Ihrer Implementierung."
   ]
  },
  {
   "cell_type": "code",
   "execution_count": null,
   "metadata": {},
   "outputs": [],
   "source": []
  }
 ],
 "metadata": {
  "kernelspec": {
   "display_name": "Python 3",
   "language": "python",
   "name": "python3"
  },
  "language_info": {
   "codemirror_mode": {
    "name": "ipython",
    "version": 3
   },
   "file_extension": ".py",
   "mimetype": "text/x-python",
   "name": "python",
   "nbconvert_exporter": "python",
   "pygments_lexer": "ipython3",
   "version": "3.12.0"
  }
 },
 "nbformat": 4,
 "nbformat_minor": 4
}
