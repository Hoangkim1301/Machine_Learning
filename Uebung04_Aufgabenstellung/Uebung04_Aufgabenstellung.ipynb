{
 "cells": [
  {
   "cell_type": "markdown",
   "metadata": {},
   "source": [
    "# Übungszettel 4: Eigenfaces, Clustering\n",
    "\n",
    "## Maschinelles Lernen - WiSe 23/24\n",
    "\n",
    "### Abgabe 15.11.2023, 23:55 Uhr\n",
    "\n",
    "*Hinweise:*\n",
    "- Übungsaufgaben **müssen** in Gruppen von 3-4 Personen abgegeben werden. **Einzelabgaben werden nicht korrigiert bzw. bewertet.**\n",
    "- Es wird pro Übungszettel nur eine Aufgabe bewertet, die übrigen Aufgaben dienen zur selbstständigen Vertiefung des Vorlesungsstoffs. Für diese Aufgaben werden nach der Abgabe Musterlösungen bereitgestellt.\n",
    "- Die Lösungen sollen in diesem IPython Notebook realisiert werden, wobei Teilaufgaben und Zwischenergebnisse ausgegeben bzw. visualisiert werden sollen.\n",
    "- Für die Abgabe sollen Sie dieses IPython Notebook und ggf. zugehörige Dateien in ein **Ziparchiv** packen und im Ilias hochladen. Das Ziparchiv soll nach folgendem Muster benannt werden:\n",
    "`UebungXX_Nachname1_Nachname2_Nachname3.zip`, wobei die Nachnamen in alphabetischer Reihenfolge angegeben und Umlaute ggf. ersetzt werden sollen."
   ]
  },
  {
   "cell_type": "markdown",
   "metadata": {},
   "source": [
    "---\n",
    "\n",
    "## Aufgabe 1 - Eigenfaces\n",
    "\n",
    "In dieser Aufgabe beschäftigen wir uns mit der Hauptkomponentenanalyse (Principal Component Analysis, PCA) am Beispiel von *Eigenfaces*. Dieses ist ein frühes Verfahren zur automatisierten Gesichtserkennung. Als Datensatz für die Gesichtserkennung wird Labeled Faces in the Wild (LFW) verwendet (http://vis-www.cs.umass.edu/fddb/).\n",
    "\n",
    "In *Eigenfaces* werden die Bilder von Gesichtern kompakt repräsentiert durch die wichtigsten Hauptkomponenten als Basisvektoren. Um ein unbekanntes Gesicht zu klassifizieren, wird dieses in den durch die Eigenfaces (Eigenvektoren) erzeugten Eigenraum projiziert. Dann kann der Abstand (z.B. Euklidischer Abstand) zu den Bildern in der Datenbank gemessen werden und z.B. mittels Nearest-Neighbor-Suche klassifiziert werden. "
   ]
  },
  {
   "cell_type": "markdown",
   "metadata": {},
   "source": [
    "a) Geben Sie die Anzahl der Personen, die Gesamtzahl von Bildern, die Abmessungen der Bilder und die Anzahl von Features (in diesem Fall Pixel) pro Bild aus. Visualisieren Sie ein zufälliges Gesicht aus LFW zusammen mit dem dazugehörigen Namen."
   ]
  },
  {
   "cell_type": "code",
   "execution_count": null,
   "metadata": {},
   "outputs": [],
   "source": []
  },
  {
   "cell_type": "markdown",
   "metadata": {},
   "source": [
    "b) Teilen Sie den Datensatz in Training- und Testdatensatz. Der Testdatensatz soll jeweils 10% der Bilder einer Person enthalten, der Trainingsdatensatz die restlichen Bilder. Nutzen Sie hierzu eine Methode aus `sklearn`."
   ]
  },
  {
   "cell_type": "code",
   "execution_count": null,
   "metadata": {
    "scrolled": true
   },
   "outputs": [],
   "source": []
  },
  {
   "cell_type": "markdown",
   "metadata": {},
   "source": [
    "c) Berechnen Sie das Mean Bild auf den Trainingsdaten und visualisieren Sie es.  "
   ]
  },
  {
   "cell_type": "code",
   "execution_count": null,
   "metadata": {},
   "outputs": [],
   "source": []
  },
  {
   "cell_type": "markdown",
   "metadata": {},
   "source": [
    "d) Schreiben Sie eine Methode `pca` die als Eingabe `dataset`, eine Menge von Eingabe-Vektoren, und `q` die Anzahl der Eigenvektoren erhält. Führen Sie in der Methode dann eine PCA auf den Eingabedaten durch und liefern Sie ein Tupel zurück mit folgendem Inhalt:\n",
    "\n",
    "* Projektionsmatrix (Eigenvektoren mit gen größten Eigenwerten) mit Shape (q, #Anzahl Features)\n",
    "* q Eigenwerte absteigend sortiert\n",
    "\n",
    "Gehen Sie wie folgt vor:\n",
    "\n",
    "1. Standardisieren Sie alle Features \n",
    "2. Berechnen Sie die Kovarianzmatrix\n",
    "3. Bestimmen Sie die Eigenwerte und Eigenvektoren (*Tipp:* Nutzen Sie eine Methode für symmetrische Matrizen)\n",
    "4. Konstruieren Sie die Projektionsmatrix aus den q Eigenvektoren mit den größten Eigenwerten\n",
    "\n",
    "Für diese Methode sollen nur Methoden aus `numpy` benutzt werden."
   ]
  },
  {
   "cell_type": "code",
   "execution_count": null,
   "metadata": {},
   "outputs": [],
   "source": []
  },
  {
   "cell_type": "markdown",
   "metadata": {},
   "source": [
    "e) Extrahieren Sie die ersten 100 Eigenfaces (Eigenvektoren) aus dem Trainingsdatensatz mittels PCA. Visualisieren Sie die ersten 20 Eigenfaces."
   ]
  },
  {
   "cell_type": "code",
   "execution_count": null,
   "metadata": {},
   "outputs": [],
   "source": []
  },
  {
   "cell_type": "markdown",
   "metadata": {},
   "source": [
    "f) Plotten Sie die ersten 50 (normalisierten) Eigenwerte als Balkendiagramm. Visualisieren Sie auch die kumulativen Varianzen der Hauptkomponenten.\n",
    "Wählen Sie basierend auf dieser Visualisierung die Anzahl `n_pcs` der Hauptkomponenten, die Sie für die Repräsentation der Gesichter nutzen möchten. Begründen Sie Ihre Entscheidung."
   ]
  },
  {
   "cell_type": "code",
   "execution_count": null,
   "metadata": {},
   "outputs": [],
   "source": []
  },
  {
   "cell_type": "markdown",
   "metadata": {},
   "source": [
    "g) Nutzen Sie die Projektionsmatrix, die Sie mit der `pca` Methode aus Aufgabenteil d) erhalten haben um den Testdatensatz in einen Raum mit niedrigerer Dimension zu projezieren. Dazu multiplizieren Sie die Projektionsmatrix mit dem Testdatensatz. Visualisieren Sie dann 5 zufällige rekonstruierte Gesichter aus dem Testdatensatz. Für die Rekonstruktion multiplizieren Sie die PCA-transformierten Daten mit der Projektionsmatrix.\n",
    "\n",
    "Nutzen Sie als Projektionsmatrix jeweils:\n",
    "* die ersten 4 Eigenvektoren\n",
    "* die ersten `n_pcs` Eigenvektoren\n",
    "* alle 100 Eigenvektoren (also die komplette Projektionsmatrix)"
   ]
  },
  {
   "cell_type": "code",
   "execution_count": null,
   "metadata": {},
   "outputs": [],
   "source": []
  },
  {
   "cell_type": "markdown",
   "metadata": {},
   "source": [
    "h) Nun sollen die Bilder aus dem Testdatensatz klassifiziert werden. Gehen Sie dazu wie folgt vor: Transformieren Sie sowohl die Test- als auch die Trainingsdaten, indem Sie die vollständige Projektionsmatrix aus Aufgabenteil d) nutzen. Wählen Sie dann 3 zufällige Vektoren aus dem transformierten Testdatensatz. Berechnen Sie die euklidische Distanz zu allen Vektoren im Trainingsdatensatz.\n",
    "Visualisieren Sie dann das jeweilige Gesicht und geben Sie jeweils die zugehörigen Namen der 5 nächsten Nachbarn zusammen mit der Distanz aus."
   ]
  },
  {
   "cell_type": "code",
   "execution_count": null,
   "metadata": {},
   "outputs": [],
   "source": []
  },
  {
   "cell_type": "markdown",
   "metadata": {},
   "source": [
    "i) Bei der Klassifizierung in Aufgabenteil h) treten häufig Fehler auf. Woran könnte das liegen?"
   ]
  },
  {
   "cell_type": "markdown",
   "metadata": {},
   "source": []
  },
  {
   "cell_type": "markdown",
   "metadata": {},
   "source": [
    "---\n",
    "## Aufgabe 2 - K-Means"
   ]
  },
  {
   "cell_type": "markdown",
   "metadata": {},
   "source": [
    "a) Wenden Sie in diesem Aufgabenteil das K-Means-Verfahren von Hand an. Es sind folgende Datenpunkte im euklidischen Raum gegeben:\n",
    "\n",
    "| Punkt   | X     | Y     |\n",
    "| :------ |------:|------:| \n",
    "| A       | 1.2   | 0.8   |\n",
    "| B       | -0.6  | -1.3  |\n",
    "| C       | -0.8  | 0.2   |\n",
    "| D       | 0.2   | 0.3   |\n",
    "\n",
    "Punkt A und C werden initial zu den Clusterzentroid C1, Punkte B und D initial zu den Clusterzentroid C2\n",
    "zugeordnet.\n",
    "\n",
    "Ermitteln sie die Minimal-Distanz-Partition unter der Anwendung des K-Means-Verfahrens und der euklidischen Distanz. Starten Sie, in dem Sie erst die jeweiligen Clusterschwerpunkte ermitteln."
   ]
  },
  {
   "cell_type": "markdown",
   "metadata": {},
   "source": [
    "$$ \\text{Hier können Sie Ihre Lösung in } \\mathrm{L\\!\\!^{{}_{A}} \\!\\!\\!\\!\\!\\;\\; T\\!_{\\displaystyle E} \\! X} \\text{ einfügen...} $$\n",
    "\n",
    "![Bild](https://via.placeholder.com/500x80?text=...oder+ein+Bild+einbinden.)"
   ]
  },
  {
   "cell_type": "markdown",
   "metadata": {},
   "source": [
    "b) Beschreiben Sie kurz wofür Silhouetten berechnet werden. "
   ]
  },
  {
   "cell_type": "markdown",
   "metadata": {},
   "source": []
  },
  {
   "cell_type": "markdown",
   "metadata": {},
   "source": [
    "c) Was bedeuten negative Werte und was gibt der Silhouetten Koeffizient an? "
   ]
  },
  {
   "cell_type": "markdown",
   "metadata": {},
   "source": []
  },
  {
   "cell_type": "markdown",
   "metadata": {},
   "source": [
    "d) Berechnen Sie den Silhouetten Koeffizienten für die Cluster aus Aufgabenteil a) von Hand. "
   ]
  },
  {
   "cell_type": "markdown",
   "metadata": {},
   "source": [
    "$$ \\text{Hier können Sie Ihre Lösung in } \\mathrm{L\\!\\!^{{}_{A}} \\!\\!\\!\\!\\!\\;\\; T\\!_{\\displaystyle E} \\! X} \\text{ einfügen...} $$\n",
    "\n",
    "![Bild](https://via.placeholder.com/500x80?text=...oder+ein+Bild+einbinden.)"
   ]
  },
  {
   "cell_type": "markdown",
   "metadata": {},
   "source": [
    "e) Lesen Sie die Datei `clustering.csv` ein und wenden Sie den K-Means Algorithmus (aus `sklearn`) jeweils für $k=\\{2,3,6,10\\}$ an. \n",
    "Führen Sie für jedes $k$ eine Silhouttenanalyse durch (Visualisierung). Wählen Sie schließlich ein geeignetes `k` und visualisieren Sie dafür das Ergebnis als Scatterplot, sodass erkennbar ist, welcher Punkt zu welchem Cluster gehört."
   ]
  },
  {
   "cell_type": "code",
   "execution_count": null,
   "metadata": {},
   "outputs": [],
   "source": []
  },
  {
   "cell_type": "markdown",
   "metadata": {
    "tags": []
   },
   "source": [
    "---\n",
    "## **Aufgabe 3: Hierarchisches Clustering (bewertet: 2,5+0,5+0,5+1+0,5 Punkte)**"
   ]
  },
  {
   "cell_type": "markdown",
   "metadata": {
    "tags": []
   },
   "source": [
    "a) Berechnen Sie ein Hierarchisches Clustering aus der folgenden Distanzmatrix mit der Methode\n",
    "Average Linkage von Hand. Zeichnen Sie das entsprechende Dendrogramm. \n",
    "\n",
    "|        | A    | B    | C     | D     |\n",
    "|--------|------|------|-------|-------|\n",
    "| **A**  | 0    |      |       |       |\n",
    "| **B**  | 4.438|0     |       |       |\n",
    "| **C**  | 3.048|6.777 |0      |       |\n",
    "| **D**  | 2.259|2.887 |4.339  |0      |"
   ]
  },
  {
   "cell_type": "markdown",
   "metadata": {},
   "source": [
    "$$ \\text{Hier können Sie Ihre Lösung in } \\mathrm{L\\!\\!^{{}_{A}} \\!\\!\\!\\!\\!\\;\\; T\\!_{\\displaystyle E} \\! X} \\text{ einfügen...} $$\n",
    "\n",
    "![Bild](https://via.placeholder.com/500x80?text=...oder+ein+Bild+einbinden.)"
   ]
  },
  {
   "cell_type": "markdown",
   "metadata": {},
   "source": [
    "b) Wodurch unterscheiden sich partitionierende Verfahren von den hierarchischen Verfahren?"
   ]
  },
  {
   "cell_type": "markdown",
   "metadata": {},
   "source": []
  },
  {
   "cell_type": "markdown",
   "metadata": {},
   "source": [
    "c) Erklären Sie *hard clustering* und *soft clustering*."
   ]
  },
  {
   "cell_type": "markdown",
   "metadata": {},
   "source": []
  },
  {
   "cell_type": "markdown",
   "metadata": {},
   "source": [
    "d) Laden sie den Inhalt der Datei `clustering.csv`. Verwenden Sie `sklearn`, um das Average Linkage Verfahren darauf anzuwenden. Visualisieren Sie das Dendrogramm. "
   ]
  },
  {
   "cell_type": "code",
   "execution_count": 16,
   "metadata": {},
   "outputs": [
    {
     "name": "stdout",
     "output_type": "stream",
     "text": [
      "            0         1\n",
      "0    0.149014 -0.424611\n",
      "1   -0.041479 -0.126194\n",
      "2    0.194307 -0.102814\n",
      "3    0.456909 -0.240683\n",
      "4   -0.070246 -0.048386\n",
      "..        ...       ...\n",
      "595  0.475785  2.088095\n",
      "596  0.523591  1.996072\n",
      "597 -0.099460  2.110498\n",
      "598  0.774898  2.044783\n",
      "599  0.603947  2.272828\n",
      "\n",
      "[600 rows x 2 columns]\n"
     ]
    },
    {
     "data": {
      "image/png": "[encoded data removed]",
      "text/plain": [
       "<Figure size 640x480 with 1 Axes>"
      ]
     },
     "metadata": {},
     "output_type": "display_data"
    }
   ],
   "source": [
    "import pandas as pd\n",
    "from sklearn.cluster import AgglomerativeClustering\n",
    "from scipy.cluster.hierarchy import dendrogram, linkage\n",
    "import matplotlib.pyplot as plt\n",
    "\n",
    "#path\n",
    "path = 'clustering.csv'\n",
    "\n",
    "#read file\n",
    "data =  pd.read_csv(path, header=None)\n",
    "table = data[[0,1]]\n",
    "\n",
    "#using average linkage Verfahren\n",
    "print(data)\n",
    "\n",
    "model = AgglomerativeClustering( n_clusters= None, distance_threshold= 0, linkage= 'average' )\n",
    "model.fit(data)\n",
    "\n",
    "#Dendrogramm\n",
    "linked = linkage(table, 'average')\n",
    "dendrogram(linked, orientation= 'top', distance_sort = 'descending', show_leaf_counts= True)\n",
    "plt.title('Cluster Dendrogram')\n",
    "plt.xlabel('Sample Index')\n",
    "plt.ylabel('Cluster Distance')\n",
    "plt.show()\n",
    "\n",
    "\n"
   ]
  },
  {
   "cell_type": "markdown",
   "metadata": {},
   "source": [
    "e) Wenden Sie das Clusteringverfahren Average Linkage (aus `sklearn`) auf die Daten aus d) an. Wählen Sie eine geeignte Anzahl von Clustern und visualisieren Sie das Ergebnis, sodass erkennbar ist, welcher Punkt zu welchem Cluster gehört."
   ]
  },
  {
   "cell_type": "code",
   "execution_count": null,
   "metadata": {},
   "outputs": [],
   "source": []
  }
 ],
 "metadata": {
  "kernelspec": {
   "display_name": "Python 3",
   "language": "python",
   "name": "python3"
  },
  "language_info": {
   "codemirror_mode": {
    "name": "ipython",
    "version": 3
   },
   "file_extension": ".py",
   "mimetype": "text/x-python",
   "name": "python",
   "nbconvert_exporter": "python",
   "pygments_lexer": "ipython3",
   "version": "3.11.6"
  }
 },
 "nbformat": 4,
 "nbformat_minor": 4
}
