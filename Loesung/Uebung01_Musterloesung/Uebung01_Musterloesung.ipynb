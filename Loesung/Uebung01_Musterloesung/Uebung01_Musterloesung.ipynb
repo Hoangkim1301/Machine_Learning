{
 "cells": [
  {
   "cell_type": "markdown",
   "metadata": {},
   "source": [
    "# Übungszettel 1: Python (Musterlösung)\n",
    "\n",
    "## Maschinelles Lernen - WiSe 23/24\n",
    "\n",
    "### Abgabe 25.10.2023, 23:55 Uhr\n",
    "\n",
    "Übungsaufgaben **müssen** in Gruppen von 3-4 Personen abgegeben werden. Alle Lösungen sollen in diesem IPython Notebook realisiert werden, wobei Teilaufgaben und Zwischenergebnisse ausgegeben bzw. visualisiert werden sollen.\n",
    "Das IPython Notebook und ggf. zugehörige Dateien müssen in ein **Ziparchiv** gepackt werden und in Ilias hochgeladen werden. Das Ziparchiv soll nach folgendem Muster benannt werden:\n",
    "`UebungXX_Nachname1_Nachname2_Nachname3.zip`, wobei die Nachnamen in alphabetischer Reihenfolge angegeben und Umlaute ggf. ersetzt werden sollen."
   ]
  },
  {
   "cell_type": "markdown",
   "metadata": {},
   "source": [
    "---\n",
    "\n",
    "## Aufgabe 1: Python Grundlagen\n",
    "\n",
    "a) Schreiben Sie ein Programm, welches für einen vom Benutzer eingegebenen Wert die Fibonacci Zahlen berechnet und ausgibt."
   ]
  },
  {
   "cell_type": "code",
   "execution_count": 1,
   "metadata": {},
   "outputs": [],
   "source": [
    "def fibo(n):\n",
    "    if n <= 1:\n",
    "        return n\n",
    "    else:\n",
    "        return(fibo(n-1) + fibo(n-2))\n",
    "\n",
    "# Test der Funktion\n",
    "for i in range(10):\n",
    "    print(str(i) + \": \" + str(fibo(i)))"
   ]
  },
  {
   "cell_type": "markdown",
   "metadata": {},
   "source": [
    "b) Lösen Sie die ersten beiden Aufgaben auf http://www.pythonchallenge.com."
   ]
  },
  {
   "cell_type": "code",
   "execution_count": 1,
   "metadata": {},
   "outputs": [
    {
     "name": "stdout",
     "output_type": "stream",
     "text": [
      "Next URL: http://www.pythonchallenge.com/pc/def/274877906944.html\n",
      "\n"
     ]
    }
   ],
   "source": [
    "# Task 0:\n",
    "print(\"Next URL: http://www.pythonchallenge.com/pc/def/\" + str(2**38) + \".html\")\n",
    "print()"
   ]
  },
  {
   "cell_type": "code",
   "execution_count": 2,
   "metadata": {},
   "outputs": [
    {
     "name": "stdout",
     "output_type": "stream",
     "text": [
      "i hope you didnt translate it by hand. thats what computers are for. doing it in by hand is inefficient and that's why this text is so long. using string.maketrans() is recommended. now apply on the url.\n",
      "\n",
      "Next URL: http://www.pythonchallenge.com/pc/def/ocr.html\n"
     ]
    }
   ],
   "source": [
    "# Task 1:\n",
    "\n",
    "from string import ascii_lowercase\n",
    "\n",
    "table = str.maketrans(ascii_lowercase, ascii_lowercase[2:] + ascii_lowercase[:2])\n",
    "\n",
    "text = \"g fmnc wms bgblr rpylqjyrc gr zw fylb. rfyrq ufyr amknsrcpq ypc dmp. bmgle gr gl zw fylb gq glcddgagclr ylb rfyr'q ufw rfgq rcvr gq qm jmle. sqgle qrpgle.kyicrpylq() gq pcamkkclbcb. lmu ynnjw ml rfc spj.\"\n",
    "\n",
    "print(text.translate(table))\n",
    "print()\n",
    "print(\"Next URL: http://www.pythonchallenge.com/pc/def/\" + \"map\".translate(table) + \".html\")\n"
   ]
  },
  {
   "cell_type": "markdown",
   "metadata": {},
   "source": [
    "c) Schreiben Sie eine Funktion, die die $n$ größten Werte in einem Numpy Array berechnet und messen Sie die Laufzeit für $n=5$ für ein Array der Größe 100000."
   ]
  },
  {
   "cell_type": "code",
   "execution_count": 4,
   "metadata": {},
   "outputs": [],
   "source": [
    "import numpy as np\n",
    "\n",
    "top_n = 5\n",
    "\n",
    "values = np.random.randint(1,100000, 10000000)\n",
    "values2 = np.copy(values)"
   ]
  },
  {
   "cell_type": "code",
   "execution_count": 5,
   "metadata": {},
   "outputs": [
    {
     "name": "stdout",
     "output_type": "stream",
     "text": [
      "[99999 99999 99999 99999 99999]\n",
      "CPU times: user 544 ms, sys: 1.75 ms, total: 546 ms\n",
      "Wall time: 549 ms\n"
     ]
    }
   ],
   "source": [
    "%%time\n",
    "\n",
    "print(np.sort(values)[-top_n:])"
   ]
  },
  {
   "cell_type": "code",
   "execution_count": 6,
   "metadata": {},
   "outputs": [
    {
     "name": "stdout",
     "output_type": "stream",
     "text": [
      "[99999 99999 99999 99999 99999]\n",
      "\n",
      "CPU times: user 67.3 ms, sys: 3.28 ms, total: 70.6 ms\n",
      "Wall time: 73.4 ms\n"
     ]
    }
   ],
   "source": [
    "%%time\n",
    "\n",
    "index = np.argpartition(values, -top_n)[-top_n:]\n",
    "\n",
    "print(values[index])\n",
    "print()\n"
   ]
  },
  {
   "cell_type": "markdown",
   "metadata": {},
   "source": [
    "---\n",
    "## Aufgabe 2: List Comprehensions\n",
    "\n",
    "Die folgenden Teilaufgaben sollen, wo immer es möglich ist, mittels List Comprehensions gelöst werden."
   ]
  },
  {
   "cell_type": "markdown",
   "metadata": {},
   "source": [
    "a) Erzeugen Sie eine Liste der Zahlen 1 bis 1000. Danach erzeugen Sie daraus eine neue Liste, die alle ungeraden Zahlen der ersten Liste quadriert enthält."
   ]
  },
  {
   "cell_type": "code",
   "execution_count": 3,
   "metadata": {},
   "outputs": [
    {
     "name": "stdout",
     "output_type": "stream",
     "text": [
      "[1, 2, 3, 4, 5, 6, 7, 8, 9, 10, 11, 12, 13, 14, 15, 16, 17, 18, 19, 20, 21, 22, 23, 24, 25, 26, 27, 28, 29, 30, 31, 32, 33, 34, 35, 36, 37, 38, 39, 40, 41, 42, 43, 44, 45, 46, 47, 48, 49, 50, 51, 52, 53, 54, 55, 56, 57, 58, 59, 60, 61, 62, 63, 64, 65, 66, 67, 68, 69, 70, 71, 72, 73, 74, 75, 76, 77, 78, 79, 80, 81, 82, 83, 84, 85, 86, 87, 88, 89, 90, 91, 92, 93, 94, 95, 96, 97, 98, 99, 100, 101, 102, 103, 104, 105, 106, 107, 108, 109, 110, 111, 112, 113, 114, 115, 116, 117, 118, 119, 120, 121, 122, 123, 124, 125, 126, 127, 128, 129, 130, 131, 132, 133, 134, 135, 136, 137, 138, 139, 140, 141, 142, 143, 144, 145, 146, 147, 148, 149, 150, 151, 152, 153, 154, 155, 156, 157, 158, 159, 160, 161, 162, 163, 164, 165, 166, 167, 168, 169, 170, 171, 172, 173, 174, 175, 176, 177, 178, 179, 180, 181, 182, 183, 184, 185, 186, 187, 188, 189, 190, 191, 192, 193, 194, 195, 196, 197, 198, 199, 200, 201, 202, 203, 204, 205, 206, 207, 208, 209, 210, 211, 212, 213, 214, 215, 216, 217, 218, 219, 220, 221, 222, 223, 224, 225, 226, 227, 228, 229, 230, 231, 232, 233, 234, 235, 236, 237, 238, 239, 240, 241, 242, 243, 244, 245, 246, 247, 248, 249, 250, 251, 252, 253, 254, 255, 256, 257, 258, 259, 260, 261, 262, 263, 264, 265, 266, 267, 268, 269, 270, 271, 272, 273, 274, 275, 276, 277, 278, 279, 280, 281, 282, 283, 284, 285, 286, 287, 288, 289, 290, 291, 292, 293, 294, 295, 296, 297, 298, 299, 300, 301, 302, 303, 304, 305, 306, 307, 308, 309, 310, 311, 312, 313, 314, 315, 316, 317, 318, 319, 320, 321, 322, 323, 324, 325, 326, 327, 328, 329, 330, 331, 332, 333, 334, 335, 336, 337, 338, 339, 340, 341, 342, 343, 344, 345, 346, 347, 348, 349, 350, 351, 352, 353, 354, 355, 356, 357, 358, 359, 360, 361, 362, 363, 364, 365, 366, 367, 368, 369, 370, 371, 372, 373, 374, 375, 376, 377, 378, 379, 380, 381, 382, 383, 384, 385, 386, 387, 388, 389, 390, 391, 392, 393, 394, 395, 396, 397, 398, 399, 400, 401, 402, 403, 404, 405, 406, 407, 408, 409, 410, 411, 412, 413, 414, 415, 416, 417, 418, 419, 420, 421, 422, 423, 424, 425, 426, 427, 428, 429, 430, 431, 432, 433, 434, 435, 436, 437, 438, 439, 440, 441, 442, 443, 444, 445, 446, 447, 448, 449, 450, 451, 452, 453, 454, 455, 456, 457, 458, 459, 460, 461, 462, 463, 464, 465, 466, 467, 468, 469, 470, 471, 472, 473, 474, 475, 476, 477, 478, 479, 480, 481, 482, 483, 484, 485, 486, 487, 488, 489, 490, 491, 492, 493, 494, 495, 496, 497, 498, 499, 500, 501, 502, 503, 504, 505, 506, 507, 508, 509, 510, 511, 512, 513, 514, 515, 516, 517, 518, 519, 520, 521, 522, 523, 524, 525, 526, 527, 528, 529, 530, 531, 532, 533, 534, 535, 536, 537, 538, 539, 540, 541, 542, 543, 544, 545, 546, 547, 548, 549, 550, 551, 552, 553, 554, 555, 556, 557, 558, 559, 560, 561, 562, 563, 564, 565, 566, 567, 568, 569, 570, 571, 572, 573, 574, 575, 576, 577, 578, 579, 580, 581, 582, 583, 584, 585, 586, 587, 588, 589, 590, 591, 592, 593, 594, 595, 596, 597, 598, 599, 600, 601, 602, 603, 604, 605, 606, 607, 608, 609, 610, 611, 612, 613, 614, 615, 616, 617, 618, 619, 620, 621, 622, 623, 624, 625, 626, 627, 628, 629, 630, 631, 632, 633, 634, 635, 636, 637, 638, 639, 640, 641, 642, 643, 644, 645, 646, 647, 648, 649, 650, 651, 652, 653, 654, 655, 656, 657, 658, 659, 660, 661, 662, 663, 664, 665, 666, 667, 668, 669, 670, 671, 672, 673, 674, 675, 676, 677, 678, 679, 680, 681, 682, 683, 684, 685, 686, 687, 688, 689, 690, 691, 692, 693, 694, 695, 696, 697, 698, 699, 700, 701, 702, 703, 704, 705, 706, 707, 708, 709, 710, 711, 712, 713, 714, 715, 716, 717, 718, 719, 720, 721, 722, 723, 724, 725, 726, 727, 728, 729, 730, 731, 732, 733, 734, 735, 736, 737, 738, 739, 740, 741, 742, 743, 744, 745, 746, 747, 748, 749, 750, 751, 752, 753, 754, 755, 756, 757, 758, 759, 760, 761, 762, 763, 764, 765, 766, 767, 768, 769, 770, 771, 772, 773, 774, 775, 776, 777, 778, 779, 780, 781, 782, 783, 784, 785, 786, 787, 788, 789, 790, 791, 792, 793, 794, 795, 796, 797, 798, 799, 800, 801, 802, 803, 804, 805, 806, 807, 808, 809, 810, 811, 812, 813, 814, 815, 816, 817, 818, 819, 820, 821, 822, 823, 824, 825, 826, 827, 828, 829, 830, 831, 832, 833, 834, 835, 836, 837, 838, 839, 840, 841, 842, 843, 844, 845, 846, 847, 848, 849, 850, 851, 852, 853, 854, 855, 856, 857, 858, 859, 860, 861, 862, 863, 864, 865, 866, 867, 868, 869, 870, 871, 872, 873, 874, 875, 876, 877, 878, 879, 880, 881, 882, 883, 884, 885, 886, 887, 888, 889, 890, 891, 892, 893, 894, 895, 896, 897, 898, 899, 900, 901, 902, 903, 904, 905, 906, 907, 908, 909, 910, 911, 912, 913, 914, 915, 916, 917, 918, 919, 920, 921, 922, 923, 924, 925, 926, 927, 928, 929, 930, 931, 932, 933, 934, 935, 936, 937, 938, 939, 940, 941, 942, 943, 944, 945, 946, 947, 948, 949, 950, 951, 952, 953, 954, 955, 956, 957, 958, 959, 960, 961, 962, 963, 964, 965, 966, 967, 968, 969, 970, 971, 972, 973, 974, 975, 976, 977, 978, 979, 980, 981, 982, 983, 984, 985, 986, 987, 988, 989, 990, 991, 992, 993, 994, 995, 996, 997, 998, 999, 1000]\n",
      "[1, 9, 25, 49, 81, 121, 169, 225, 289, 361, 441, 529, 625, 729, 841, 961, 1089, 1225, 1369, 1521, 1681, 1849, 2025, 2209, 2401, 2601, 2809, 3025, 3249, 3481, 3721, 3969, 4225, 4489, 4761, 5041, 5329, 5625, 5929, 6241, 6561, 6889, 7225, 7569, 7921, 8281, 8649, 9025, 9409, 9801, 10201, 10609, 11025, 11449, 11881, 12321, 12769, 13225, 13689, 14161, 14641, 15129, 15625, 16129, 16641, 17161, 17689, 18225, 18769, 19321, 19881, 20449, 21025, 21609, 22201, 22801, 23409, 24025, 24649, 25281, 25921, 26569, 27225, 27889, 28561, 29241, 29929, 30625, 31329, 32041, 32761, 33489, 34225, 34969, 35721, 36481, 37249, 38025, 38809, 39601, 40401, 41209, 42025, 42849, 43681, 44521, 45369, 46225, 47089, 47961, 48841, 49729, 50625, 51529, 52441, 53361, 54289, 55225, 56169, 57121, 58081, 59049, 60025, 61009, 62001, 63001, 64009, 65025, 66049, 67081, 68121, 69169, 70225, 71289, 72361, 73441, 74529, 75625, 76729, 77841, 78961, 80089, 81225, 82369, 83521, 84681, 85849, 87025, 88209, 89401, 90601, 91809, 93025, 94249, 95481, 96721, 97969, 99225, 100489, 101761, 103041, 104329, 105625, 106929, 108241, 109561, 110889, 112225, 113569, 114921, 116281, 117649, 119025, 120409, 121801, 123201, 124609, 126025, 127449, 128881, 130321, 131769, 133225, 134689, 136161, 137641, 139129, 140625, 142129, 143641, 145161, 146689, 148225, 149769, 151321, 152881, 154449, 156025, 157609, 159201, 160801, 162409, 164025, 165649, 167281, 168921, 170569, 172225, 173889, 175561, 177241, 178929, 180625, 182329, 184041, 185761, 187489, 189225, 190969, 192721, 194481, 196249, 198025, 199809, 201601, 203401, 205209, 207025, 208849, 210681, 212521, 214369, 216225, 218089, 219961, 221841, 223729, 225625, 227529, 229441, 231361, 233289, 235225, 237169, 239121, 241081, 243049, 245025, 247009, 249001, 251001, 253009, 255025, 257049, 259081, 261121, 263169, 265225, 267289, 269361, 271441, 273529, 275625, 277729, 279841, 281961, 284089, 286225, 288369, 290521, 292681, 294849, 297025, 299209, 301401, 303601, 305809, 308025, 310249, 312481, 314721, 316969, 319225, 321489, 323761, 326041, 328329, 330625, 332929, 335241, 337561, 339889, 342225, 344569, 346921, 349281, 351649, 354025, 356409, 358801, 361201, 363609, 366025, 368449, 370881, 373321, 375769, 378225, 380689, 383161, 385641, 388129, 390625, 393129, 395641, 398161, 400689, 403225, 405769, 408321, 410881, 413449, 416025, 418609, 421201, 423801, 426409, 429025, 431649, 434281, 436921, 439569, 442225, 444889, 447561, 450241, 452929, 455625, 458329, 461041, 463761, 466489, 469225, 471969, 474721, 477481, 480249, 483025, 485809, 488601, 491401, 494209, 497025, 499849, 502681, 505521, 508369, 511225, 514089, 516961, 519841, 522729, 525625, 528529, 531441, 534361, 537289, 540225, 543169, 546121, 549081, 552049, 555025, 558009, 561001, 564001, 567009, 570025, 573049, 576081, 579121, 582169, 585225, 588289, 591361, 594441, 597529, 600625, 603729, 606841, 609961, 613089, 616225, 619369, 622521, 625681, 628849, 632025, 635209, 638401, 641601, 644809, 648025, 651249, 654481, 657721, 660969, 664225, 667489, 670761, 674041, 677329, 680625, 683929, 687241, 690561, 693889, 697225, 700569, 703921, 707281, 710649, 714025, 717409, 720801, 724201, 727609, 731025, 734449, 737881, 741321, 744769, 748225, 751689, 755161, 758641, 762129, 765625, 769129, 772641, 776161, 779689, 783225, 786769, 790321, 793881, 797449, 801025, 804609, 808201, 811801, 815409, 819025, 822649, 826281, 829921, 833569, 837225, 840889, 844561, 848241, 851929, 855625, 859329, 863041, 866761, 870489, 874225, 877969, 881721, 885481, 889249, 893025, 896809, 900601, 904401, 908209, 912025, 915849, 919681, 923521, 927369, 931225, 935089, 938961, 942841, 946729, 950625, 954529, 958441, 962361, 966289, 970225, 974169, 978121, 982081, 986049, 990025, 994009, 998001]\n"
     ]
    }
   ],
   "source": [
    "values = [ x for x in range(1,1001) ]\n",
    "\n",
    "print(values)\n",
    "\n",
    "squared_odd_values = [ x**2 for x in values[::2] ]\n",
    "\n",
    "print(squared_odd_values)\n"
   ]
  },
  {
   "cell_type": "markdown",
   "metadata": {},
   "source": [
    "b) Der Hamming-Abstand von Binärcodes ist definiert als $ h(x, y) := | \\{j \\in \\{1, ... , l\\} | x_j  \\neq y_j \\} |$ wobei $ j \\in {0, 1} $. Schreiben Sie ein Programm, das zunächst zwei zufällige Binärcodes der Länge $l$ generiert und anschließend ihren Hamming-Abstand berechnet. Berechnen Sie dann die Hammingdistanz für zwei Codes der Länge $l=10$.\n",
    "\n",
    "*Hinweis:* Benutzen Sie die Funktion `zip`. Eine genaue Beschreibung der Funktion erhält man durch `print zip.__doc__`"
   ]
  },
  {
   "cell_type": "code",
   "execution_count": 8,
   "metadata": {},
   "outputs": [
    {
     "name": "stdout",
     "output_type": "stream",
     "text": [
      "[0, 1, 1, 1, 1, 1, 0, 0, 1, 0]\n",
      "[1, 1, 0, 1, 0, 1, 0, 0, 0, 1]\n",
      "Distance: 5\n"
     ]
    }
   ],
   "source": [
    "from random import randint\n",
    "\n",
    "def random_binary(length):\n",
    "    return [randint(0,1) for _ in range(length)]\n",
    "\n",
    "def hamming_distance(bincode0, bincode1):\n",
    "    return len([1 for (x,y) in (zip(bincode0, bincode1)) if x!=y])\n",
    "\n",
    "a = random_binary(10)\n",
    "b = random_binary(10)\n",
    "\n",
    "print(a)\n",
    "print(b)\n",
    "print(\"Distance: \" + str(hamming_distance(a,b)))"
   ]
  },
  {
   "cell_type": "markdown",
   "metadata": {},
   "source": [
    "c) Gegeben sind die Listen `a = [1, 1, 2, 3, 5, 8, 13, 21, 34, 55, 89]` und `b = [1, 2, 3, 4, 5, 6, 7, 8, 9, 10, 11, 12, 13]`. Schreiben Sie ein Programm, das daraus eine Liste erzeugt, die nur jene Elemente enthält, die in beiden Listen vorkommen."
   ]
  },
  {
   "cell_type": "code",
   "execution_count": 9,
   "metadata": {},
   "outputs": [
    {
     "name": "stdout",
     "output_type": "stream",
     "text": [
      "{1, 2, 3, 5, 8, 13}\n"
     ]
    }
   ],
   "source": [
    "a = [1, 1, 2, 3, 5, 8, 13, 21, 34, 55, 89]\n",
    "b = [1,2, 3, 4, 5, 6, 7, 8, 9, 10, 11, 12, 13]\n",
    "\n",
    "print(set([x for x in a if x in b]))"
   ]
  },
  {
   "cell_type": "markdown",
   "metadata": {},
   "source": [
    "---\n",
    "## Aufgabe 3: Higher Order Functions\n",
    "\n",
    "Schreiben Sie ein Programm, das eine Liste von Wörtern auf eine Liste von Zahlen abbildet, wobei die Zahlen die Länge der Wörter repräsentieren. Schreiben Sie das Programm in drei Varianten: a) mit einer for-Schleife, b) mit der Funktion `map()` und c) mit List Comprehensions."
   ]
  },
  {
   "cell_type": "code",
   "execution_count": 10,
   "metadata": {},
   "outputs": [
    {
     "name": "stdout",
     "output_type": "stream",
     "text": [
      "[1, 2, 3, 4, 3]\n",
      "[1, 2, 3, 4, 3]\n",
      "[1, 2, 3, 4, 3]\n"
     ]
    }
   ],
   "source": [
    "words = [\"a\", \"ab\", \"abc\", \"abcd\", \"abc\"]\n",
    "\n",
    "# imperative approach\n",
    "counts = []\n",
    "for w in words:\n",
    "    counts.append(len(w))\n",
    "print(counts)\n",
    "\n",
    "# functional approach\n",
    "counts = list(map(lambda w: len(w), words))\n",
    "print(counts)\n",
    "    \n",
    "# list comprehension\n",
    "counts = [ len(w) for w in words ]\n",
    "print(counts)"
   ]
  },
  {
   "cell_type": "markdown",
   "metadata": {},
   "source": [
    "---\n",
    "## **Aufgabe 4: Matrizen (bewertet: 1+1,5+1,5+1 Punkte)**\n",
    "*Hinweis:* In den folgenden Aufgaben darf, sofern nicht anders angegeben, nur reines Python ohne zusätzliche Bibliotheken verwendet werden (insbesondere kein `numpy` für Matrixoperationen).\n",
    "Eine Matrix kann in Python durch zwei verschachtelte Listen dargestellt werden\n",
    "Zum Beispiel kann die Matrix\n",
    "\n",
    "$A = \\begin{pmatrix}\n",
    "1 & 2 & 3\\\\\n",
    "4 & 5 & 6\\\\\n",
    "7 & 8 & 9\\\\\n",
    "\\end{pmatrix}$ \n",
    "\n",
    "in Python wie folgt angegeben werden:\n",
    "\n",
    "`a = [ [1,2,3], [4,5,6], [7,8,9] ]`\n"
   ]
  },
  {
   "cell_type": "markdown",
   "metadata": {},
   "source": [
    "a) Schreiben Sie eine Funktion, die eine $n \\times n$-Matrix transponiert und testen Sie diese mit einem Beispiel."
   ]
  },
  {
   "cell_type": "code",
   "execution_count": 1,
   "metadata": {},
   "outputs": [
    {
     "data": {
      "text/plain": [
       "[[1, 4, 7], [2, 5, 8], [3, 6, 9]]"
      ]
     },
     "execution_count": 1,
     "metadata": {},
     "output_type": "execute_result"
    }
   ],
   "source": [
    "a = [[1,2,3], [4,5,6], [7,8,9]]\n",
    "\n",
    "def transpose(mat):\n",
    "    rows = len(mat)\n",
    "    cols = len(mat[0])\n",
    "    return [[mat[j][i] for j in range(rows)] for i in range(cols)]\n",
    "\n",
    "transpose(a)"
   ]
  },
  {
   "cell_type": "markdown",
   "metadata": {},
   "source": [
    "b) Schreiben Sie eine Funktion, die zwei $n \\times n$ Matrizen addiert und testen Sie diese mit einem Beispiel."
   ]
  },
  {
   "cell_type": "code",
   "execution_count": 4,
   "metadata": {},
   "outputs": [
    {
     "data": {
      "text/plain": [
       "[[11, 22, 33], [44, 55, 66], [77, 88, 99]]"
      ]
     },
     "execution_count": 4,
     "metadata": {},
     "output_type": "execute_result"
    }
   ],
   "source": [
    "def mat_add(mat1, mat2):\n",
    "    rows = len(mat1)\n",
    "    cols = len(mat1[0])\n",
    "    return [[mat1[i][j] + mat2[i][j] for j in range(cols)] for i in range(rows)]\n",
    "\n",
    "\n",
    "b = [[10,20,30], [40,50,60],[70,80,90]] \n",
    "\n",
    "mat_add(a,b)"
   ]
  },
  {
   "cell_type": "markdown",
   "metadata": {},
   "source": [
    "c) Schreiben Sie eine Funktion, die zwei $n \\times n$ Matrizen multipliziert und testen Sie diese mit einem Beispiel."
   ]
  },
  {
   "cell_type": "code",
   "execution_count": 6,
   "metadata": {
    "scrolled": true
   },
   "outputs": [
    {
     "data": {
      "text/plain": [
       "[[20, 20], [47, 47], [74, 74]]"
      ]
     },
     "execution_count": 6,
     "metadata": {},
     "output_type": "execute_result"
    }
   ],
   "source": [
    "def inner_product(v1, v2):\n",
    "    return sum([v1[i]*v2[i] for i in range(len(v1))])\n",
    "    \n",
    "\n",
    "def mat_mul(mat1, mat2):\n",
    "    mat1_rows = len(mat1)\n",
    "    mat2_cols = len(mat2[0])\n",
    "    mat2_t = transpose(mat2)\n",
    "    return [[inner_product(mat1[i], mat2_t[j]) for j in range(mat2_cols)] for i in range(mat1_rows)]\n",
    "\n",
    "\n",
    "c = [[2,2],[3,3],[4,4]]\n",
    "\n",
    "mat_mul(a,c)"
   ]
  },
  {
   "cell_type": "markdown",
   "metadata": {},
   "source": [
    "d) Validieren Sie die Ergebnisse der Funktionen aus den vorigen Aufgabenteilen, indem Sie die jeweiligen Matrixoperationen in `numpy` berechnen und die Ergebnisse vergleichen."
   ]
  },
  {
   "cell_type": "code",
   "execution_count": 20,
   "metadata": {},
   "outputs": [],
   "source": [
    "import numpy as np \n",
    "\n",
    "assert (np.asarray(a).T == transpose(a)).all(), \"2.1 ist Falsch\"\n",
    "assert (np.add(a, b) == mat_add(a,b)).all() , \"2.2 ist Falsch\"\n",
    "assert (np.matmul(a,c) == mat_mul(a,c)).all(), \"2.3 ist Falsch\""
   ]
  },
  {
   "cell_type": "code",
   "execution_count": 17,
   "metadata": {},
   "outputs": [
    {
     "data": {
      "text/plain": [
       "array([[20, 20],\n",
       "       [47, 47],\n",
       "       [74, 74]])"
      ]
     },
     "execution_count": 17,
     "metadata": {},
     "output_type": "execute_result"
    }
   ],
   "source": [
    "np.matmul(a,c)"
   ]
  }
 ],
 "metadata": {
  "kernelspec": {
   "display_name": "Python 3",
   "language": "python",
   "name": "python3"
  },
  "language_info": {
   "codemirror_mode": {
    "name": "ipython",
    "version": 3
   },
   "file_extension": ".py",
   "mimetype": "text/x-python",
   "name": "python",
   "nbconvert_exporter": "python",
   "pygments_lexer": "ipython3",
   "version": "3.8.10"
  }
 },
 "nbformat": 4,
 "nbformat_minor": 4
}
