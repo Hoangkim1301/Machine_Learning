{
 "cells": [
  {
   "cell_type": "markdown",
   "metadata": {},
   "source": [
    "# Übungszettel 7: Entscheidungsbäume (Musterlösung)\n",
    "\n",
    "## Maschinelles Lernen - WiSe 23/24\n",
    "\n",
    "### Abgabe 13.12.2023, 23:55 Uhr\n",
    "\n",
    "*Hinweise:*\n",
    "- Übungsaufgaben **müssen** in Gruppen von 3-4 Personen abgegeben werden. **Einzelabgaben werden nicht korrigiert bzw. bewertet.**\n",
    "- Es wird pro Übungszettel nur eine Aufgabe bewertet, die übrigen Aufgaben dienen zur selbstständigen Vertiefung des Vorlesungsstoffs. Für diese Aufgaben werden nach der Abgabe Musterlösungen bereitgestellt.\n",
    "- Die Lösungen sollen in diesem IPython Notebook realisiert werden, wobei Teilaufgaben und Zwischenergebnisse ausgegeben bzw. visualisiert werden sollen.\n",
    "- Für die Abgabe sollen Sie dieses IPython Notebook und ggf. zugehörige Dateien in ein **Ziparchiv** packen und im Ilias hochladen. Das Ziparchiv soll nach folgendem Muster benannt werden:\n",
    "`UebungXX_Nachname1_Nachname2_Nachname3.zip`, wobei die Nachnamen in alphabetischer Reihenfolge angegeben und Umlaute ggf. ersetzt werden sollen. Bei Nichtbefolgung dieser Vorgabe können Punkte abgezogen werden."
   ]
  },
  {
   "cell_type": "markdown",
   "metadata": {},
   "source": [
    "---\n",
    "## **Aufgabe 1:  Regressionsbäume (bewertet: 3+1+1 Punkte)**\n",
    "\n",
    "Gegeben sei folgende Beispielmenge:\n",
    "\n",
    "| A1 | A2 | A3 | A4 | Value |\n",
    "| -- | -- | -- | -- | ----- |\n",
    "| C  | K  | T  | X  | 0.28  |\n",
    "| B  | J  | S  | X  | 0.50  |\n",
    "| C  | J  | S  | Z  | 0.35  |\n",
    "| B  | I  | R  | Y  | 5.50  |\n",
    "| A  | J  | T  | Z  | 0.35  |\n",
    "| A  | K  | S  | Z  | 0.80  |\n",
    "| C  | I  | R  | Y  | 5.10  |\n",
    "| A  | I  | R  | Y  | 5.70  |\n",
    "| C  | I  | S  | Y  | 0.76  |\n",
    "| B  | I  | S  | X  | 1.03  |\n",
    "| B  | K  | R  | Y  | 0.46  |\n",
    "| C  | K  | T  | Z  | 0.39  |\n",
    "| B  | K  | S  | X  | 0.28  |\n",
    "| A  | K  | R  | X  | 1.10  |"
   ]
  },
  {
   "cell_type": "markdown",
   "metadata": {},
   "source": [
    "a) Erzeugen Sie einen Regressionsbaum mittels des wie folgt modifizierten Verfahrens ID3. \n",
    "Verwenden Sie das Maß Standard Deviation Reduction (SDR) zur Auswahl der Tests und den Mittelwert der Instanzen eines Blattes als Vorhersagewert. Dabei  berechnet sich die Standardabweichung einer Menge von Werten $x_1,···, x_k$ mit dem Mittelwert $\\bar{x}$ sich wie folgt:\n",
    "\n",
    "$$ SD(x_1,···, x_k) = \\sqrt{\\frac{1}{k-1} \\sum_{i=1}^k (x_i -\\bar{x})^2} $$\n",
    "\n",
    "und Standard Deviation Reduction SDR wie folgt:\n",
    "\n",
    "$$ SDR(S,A) = SD(S) − \\sum_{i} \\frac{|S_i|}{|S|} SD(S_i)$$ \n",
    "\n",
    "Hierbei soll ein Knoten, sobald er weniger als 3 Instanzen abdeckt, nicht weiter aufgeteilt und zu einem Blatt umgewandelt werden. Sollte bei einem Test ein Testausgang keine Instanzen abdecken, fließt er nicht in die Berechnung des SDRs ein und soll, da keine Daten für ihn vorhanden sind, als Blatt verwendet werden, das den Mittelwert seines Elternknotens vorhersagt. Im Falle zweier gleichwertiger Tests überlegen Sie sich, wie man diesen Konflikt lösen kann."
   ]
  },
  {
   "cell_type": "markdown",
   "metadata": {},
   "source": [
    "Die Berechnung dieser Variante eines Regressionsbaumes erfolgt analog zur Berechnung eines mit ID3 erstellten Entscheidungbaumes. Wir bestimmen zuerst die Standardabweichung aller Trainingsdaten und die Standardabweichungen der möglichen Ausgänge eines Tests (analog zur Bestimmung der Entropien für die Berechnung des Maßes Information Gain).\n",
    "\n",
    "Die Berechung der Standard Deviation Reduction SDR werden wir nur für ausgewählte Knoten und jeweils nur für ein bestimmtes Testattribut ausführlich erläutern. Die übrigen Berechnungen werden wir nur tabellarisch angeben.\n",
    "Beginnen wir nun mit der Bestimmung des Wurzelknotens. Die des Attributes `A2` werden wir exemplarisch berechnen. Hierfür benötigen wir die SDs der Testausgänge `I`, `J` und `K`. \n",
    "\n",
    "Mit dem Mittelwert von `I`,  $\\bar{x} = \\frac{5, 5 + 5,1 + 5,7 + 0, 76 + 1,03}{5} \\approx 3, 62.$ ist die SD\n",
    "$SD(S_I) = \\sqrt{\\frac{1}{4}\n",
    "(5, 5 − 3, 62)^2 + (5, 1 − 3, 62)^2 + (5, 7 − 3, 62)^2 + (0, 76 − 3, 62)^2 + (1.03 − 3, 62)^2} \\approx 2, 5 $\n",
    "\n",
    "Analog gilt für die Testausgänge `J` und `K`\n",
    "\n",
    "$SD(S_J) \\approx  0, 09$\n",
    "\n",
    "$SD(S_K) \\approx   0, 33$\n",
    "\n",
    "und für den gesamten Datensatz\n",
    "\n",
    "$SD(S) \\approx 2, 09$\n",
    "\n",
    "Somit haben wir alle zur Berechnung von $SDR(S,A2)$ benötigten Werte bestimmt:\n",
    "\n",
    "$$\n",
    "SDR(S,A2) = SD(S) − \\frac{|S_I|}{|S|} SD(S_I) − \\frac{|S_J|}{|S|} SD(S_J) − \\frac{|SK|}{|S|} SD(S_K)\n",
    "= 2, 09 − \\frac{5}{14} 2, 5 − \\frac{3}{14} 0, 09 − \\frac{6}{14} 0, 33\n",
    "\\approx 1, 04\n",
    "$$\n",
    "\n",
    "Entsprechend berechnen sich die SDRs der verbleibenden Tests.\n",
    "\n",
    "<div>\n",
    "<img src=\"tab1.png\" width=\"300\"/>\n",
    "</div>\n",
    "\n",
    "\n",
    "Der Tabelle entnehmen wir, daß der Test `A2` optimal ist. Da keiner seiner Testausgänge weniger als 3 Beispiele abdeckt, müssen alle drei Teilmengen weiter untersucht werden.\n",
    "Zuerst betrachten wir die Teilmenge für `A2` = `I`:\n",
    "\n",
    "<div>\n",
    "<img src=\"tab2.png\" width=\"300\"/>\n",
    "</div>\n",
    "\n",
    "\n",
    "Diesmal ist der Test `A3` optimal. Dabei treffen wir aber auf ein Problem: für den Testausgang `T` sind keine Werte bekannt. Dieses Problem lösen wir, indem wir dem Testausgang den Mittelwert der Instanzen des inneren Knoten zuweisen. Also wird für `T` ein Blatt mit Regressionswert 3,62 erzeugt.\n",
    "\n",
    "Da für den Testausgang `S` weniger als drei Beispiele abgedeckt werden, können wir auch hier ein Blatt mit dem Wert 0,9 erstellen. Für den Testausgang `R` müssen wir jedoch noch weitere Tests bestimmen:\n",
    "\n",
    "<div>\n",
    "<img src=\"tab3.png\" width=\"350\"/>\n",
    "</div>\n",
    "\n",
    "Der optimale Test `A1` stellt eine perfekte Trennung der verbleibenden Beispiele dar. Aus diesem Grund sind keine weiteren Tests nötig. Gehen wir nun wieder zurück in den Wurzelknoten (den ersten Test auf `A2`) und betrachten den Testausgang J:\n",
    "\n",
    "<div>\n",
    "<img src=\"tab4.png\" width=\"300\"/>\n",
    "</div>\n",
    "\n",
    "Hierbei sind sowohl Test `A1` als auch `A4` mit 0,087 optimal. Als mögliches weiteres Entscheidungskriterium bietet sich hier die Anzahl der besetzten Knoten ab (also Knoten, die Beispiele abdecken), da die Vorhersage leerer Blätter 1) auf eine größere Anzahl Beispiele als die der anderen Blätter beruht und 2) keines dieser Beispiele auf den Test passt. Beides erhöht die Varianz bzw. den erwarteten Fehler des Baumes. Dementsprechend wählen wir Test `A1` aus. Da die drei abgedeckten Beispiele auf die 3 Testausgänge verteilt werden, werden keine weiteren Tests benötigt. Berechnen wir nun den letzten Testausgang des Wurzelknotens `K`:\n",
    "\n",
    "<div>\n",
    "<img src=\"tab5.png\" width=\"300\"/>\n",
    "</div>\n",
    "\n",
    "Wiederum ist der Test `A1` der optimale Test. Diesmal erhält jeder Testausgang 2 Instanzen, demnach sind keine weiteren Tests nötig."
   ]
  },
  {
   "cell_type": "markdown",
   "metadata": {},
   "source": [
    "b) Zeichnen Sie den Baum"
   ]
  },
  {
   "cell_type": "markdown",
   "metadata": {},
   "source": [
    "<div>\n",
    "<img src=\"regression_tree.png\" width=\"600\"/>\n",
    "</div>"
   ]
  },
  {
   "cell_type": "markdown",
   "metadata": {},
   "source": [
    "c) Bestimmen Sie den Mean-Squared-Error des Baumes\n",
    "* auf den Trainingsdaten\n",
    "* auf den folgenden Testdaten:\n",
    "\n",
    "| A1 | A2 | A3 | A4 | Value |\n",
    "| -- | -- | -- | -- | ----- |\n",
    "| B  | J  | T  | Z  | 0.51  |\n",
    "| C  | K  | R  | Y  | 1.90  |\n",
    "| B  | J  | R  | X  | 0.90  |\n",
    "| A  | J  | S  | Y  | 0.47  |\n",
    "| A  | K  | T  | Z  | 0.54  |\n",
    "\n",
    "Der Mean-Squared-Error wird folgendermaßen berechnet:\n",
    "\n",
    "$$ MSE = \\frac{1}{n} \\sum_{j=1}^{n} ( y_j − p_j )^2 $$"
   ]
  },
  {
   "cell_type": "markdown",
   "metadata": {},
   "source": [
    "<div>\n",
    "<img src=\"tab6.png\" width=\"350\"/>\n",
    "</div>"
   ]
  }
 ],
 "metadata": {
  "kernelspec": {
   "display_name": "Python 3",
   "language": "python",
   "name": "python3"
  },
  "language_info": {
   "codemirror_mode": {
    "name": "ipython",
    "version": 3
   },
   "file_extension": ".py",
   "mimetype": "text/x-python",
   "name": "python",
   "nbconvert_exporter": "python",
   "pygments_lexer": "ipython3",
   "version": "3.8.10"
  }
 },
 "nbformat": 4,
 "nbformat_minor": 4
}
