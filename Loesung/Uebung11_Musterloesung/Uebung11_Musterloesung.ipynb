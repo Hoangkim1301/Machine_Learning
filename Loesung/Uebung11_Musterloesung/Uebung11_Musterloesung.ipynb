{
 "cells": [
  {
   "cell_type": "markdown",
   "metadata": {},
   "source": [
    "# Übungszettel 11: SVM und Backpropagation (Musterlösung)\n",
    "\n",
    "## Maschinelles Lernen - WiSe 23/24\n",
    "\n",
    "### Abgabe 24.01.2024, 23:55 Uhr\n",
    "\n",
    "*Hinweise:*\n",
    "- Übungsaufgaben **müssen** in Gruppen von 3-4 Personen abgegeben werden. **Einzelabgaben werden nicht korrigiert bzw. bewertet.**\n",
    "- Es wird pro Übungszettel nur eine Aufgabe bewertet, die übrigen Aufgaben dienen zur selbstständigen Vertiefung des Vorlesungsstoffs. Für diese Aufgaben werden nach der Abgabe Musterlösungen bereitgestellt.\n",
    "- Die Lösungen sollen in diesem IPython Notebook realisiert werden, wobei Teilaufgaben und Zwischenergebnisse ausgegeben bzw. visualisiert werden sollen.\n",
    "- Für die Abgabe sollen Sie dieses IPython Notebook und ggf. zugehörige Dateien in ein **Ziparchiv** packen und im Ilias hochladen. Das Ziparchiv soll nach folgendem Muster benannt werden:\n",
    "`UebungXX_Nachname1_Nachname2_Nachname3.zip`, wobei die Nachnamen in alphabetischer Reihenfolge angegeben und Umlaute ggf. ersetzt werden sollen. Bei Nichtbefolgung dieser Vorgabe können Punkte abgezogen werden."
   ]
  },
  {
   "cell_type": "markdown",
   "metadata": {},
   "source": [
    "---\n",
    "## Aufgabe 1: SVM\n",
    "\n",
    "In den folgenden Aufgabenteilen soll mit Hilfe der Stützvektormethode (SVM) die durch die Geradengleichung $w_1x_1 + w_2x_2 = t$ mit maximalem Rand definierte lineare Diskriminanzfunktion von Hand berechnet werden.\n",
    "\n",
    "Gegeben seien die folgenden 2-dimensionalen Datenpunkte $\\mathbf{X}$ mit Klasse $\\mathbf{y}$:\n",
    "\n",
    "|$x_1$|$x_2$|$y$|\n",
    "|:----|:----|:--|\n",
    "|  1  |  3  | -1|\n",
    "| −1  |  3  | -1|\n",
    "| −1  | −1  | +1|"
   ]
  },
  {
   "cell_type": "markdown",
   "metadata": {},
   "source": [
    "a) Stellen Sie das duale Optimierungsproblem für die gegebenen Punkte auf."
   ]
  },
  {
   "cell_type": "markdown",
   "metadata": {},
   "source": [
    "Duales Problem mit Lagrange-Multiplikatoren:\n",
    "\n",
    "$\\max_\\alpha \\sum_{i=1}^m \\alpha_i - \\frac{1}{2} \\sum_{i=1}^m \\sum_{j=1}^m \\alpha_i \\alpha_j y^{(i)} y^{(j)} x^{(i)^T} x^{(j)} $\n",
    "\n",
    "$s. t. \\alpha_i \\geq 0$ $\\forall i = 1, \\dots, m$ und $0 = \\sum_{i=1}^m \\alpha_i y^{(i)}$\n",
    "\n",
    "Einsetzen der Trainingsbeispiele ergibt:\n",
    "\n",
    "$\\max_\\alpha \\sum_{i=1}^m \\alpha_i - \\frac{1}{2} \\left ( \\alpha_1 \\alpha_1 \\begin{pmatrix} 1 & 3 \\end{pmatrix} \\begin{pmatrix} 1\\\\3 \\end{pmatrix} + \\dots + \\alpha_3 \\alpha_3 \\begin{pmatrix} -1 & -1 \\end{pmatrix} \\begin{pmatrix} -1\\\\-1 \\end{pmatrix} \\right ) $\n",
    "\n",
    "$= \\max_\\alpha \\alpha_1 + \\alpha_2 + \\alpha_3 - 5 \\alpha_1^2 - 5 \\alpha_2^2 - \\alpha_3^2 - 8 \\alpha_1 \\alpha_2 - 4 \\alpha_1 \\alpha_3 - 2 \\alpha_2 \\alpha_3$\n",
    "\n",
    "Und für die Nebenbedingung:\n",
    "\n",
    "$0 = - \\alpha_1 - \\alpha_2 + \\alpha_3$"
   ]
  },
  {
   "cell_type": "markdown",
   "metadata": {},
   "source": [
    "b) In der Praxis werden solche dualen Optimierungsprobleme mit quadratischer Programmierung gelöst. Hier soll es aber von Hand gelöst werden. Gehen Sie wie folgt vor:\n",
    "\n",
    "* Nutzen Sie die Nebenbedingungen, um $\\alpha_3$ zu eliminieren\n",
    "* Berechnen Sie $\\alpha_1$, $\\alpha_2$ und schließlich $\\alpha_3$\n",
    "* Berechnen Sie $\\mathbf{w}$\n",
    "* Bestimmen Sie die Breite des maximalen Randes (maximum margin)\n",
    "* Geben Sie die Stützvektoren (support vectors) an\n",
    "* Berechnen Sie $t$"
   ]
  },
  {
   "cell_type": "markdown",
   "metadata": {},
   "source": [
    "#### Berechnen von $\\alpha_1, \\alpha_2, \\alpha_3$ : \n",
    "$0 = - \\alpha_1 - \\alpha_2 + \\alpha_3 \\\\\n",
    "\\Rightarrow \\alpha_3 = \\alpha_1 + \\alpha_2$\n",
    "Somit kann die Nebenbedingung in das Optimierungsproblem eingesetzt werden:\n",
    "\n",
    "$max_\\alpha \\alpha_1 + \\alpha_2 + \\alpha_1 + \\alpha_2 - 5 \\alpha_1^2 - 5 \\alpha_2^2 - (\\alpha_1 + \\alpha_2)^2 - 8 \\alpha_1 \\alpha_2 - 4 \\alpha_1 (\\alpha_1 + \\alpha_2) - 2 \\alpha_2 (\\alpha_1 + \\alpha_2) \\\\\n",
    "= max_\\alpha 2 \\alpha_1 + 2 \\alpha_2 - 10 \\alpha_1^2 - 8 \\alpha_2^2 - 16 \\alpha_1 \\alpha_2 \\\\\n",
    "= max_\\alpha \\alpha_1 + \\alpha_2 - 5 \\alpha_1^2 - 4 \\alpha_2^2 - 8 \\alpha_1 \\alpha_2 $\n",
    "\n",
    "Wir berechnen die partiellen Ableitungen nach $\\alpha_1$ und $\\alpha_2$ und setzen diese = 0 um das Maximum zu finden:\n",
    "\n",
    "$0=1-10\\alpha_1-8\\alpha_2$\n",
    "\n",
    "$0=1-8\\alpha_2-8\\alpha_1$\n",
    "\n",
    "$\\Rightarrow max = \\frac{1}{16}$ bei $\\alpha_1 = 0$ und $\\alpha_2 = \\frac{1}{8}$\n",
    "\n",
    "$\\Rightarrow \\alpha_3 = \\frac{1}{8} $\n",
    "\n",
    "####  Gewichtsvektor $\\mathbf{w}$ berechnen:\n",
    "$\\mathbf{w} = \\sum_{i=1}^3 \\alpha_i y^{(i)} x^{(i)} = \\frac{1}{8} y^{(2)} x^{(2)} + \\frac{1}{8} y^{(3)} x^{(3)} \\\\ \n",
    "= \\frac{1}{8} \\left ( \\begin{pmatrix}-1\\\\-1\\end{pmatrix} - \\begin{pmatrix}-1\\\\3\\end{pmatrix} \\right )\n",
    "= \\begin{pmatrix} 0 \\\\ - \\frac{1}{2} \\end{pmatrix}$\n",
    "\n",
    "#### Maximum Margin bestimmen:\n",
    "\n",
    "Länge von $\\mathbf{w}$:\n",
    "\n",
    "$||\\mathbf{w}|| = \\sqrt{w_1^2 + w_2^2} = \\sqrt{(- \\frac{1}{2})^2} = \\frac{1}{2}$\n",
    "\n",
    "Die Margin ist also $\\frac{1}{||\\mathbf{w}||} = 2$\n",
    "\n",
    "#### Stützvektoren bestimmen:\n",
    "\n",
    "Supportvektoren sind alle Eingabevektoren $x^{(i)}$, für die gilt $\\alpha_i \\neq 0$, also $x^{(2)}$ und $x^{(3)}$.\n",
    "\n",
    "#### $t$ bestimmen:\n",
    "\n",
    "Da wir einen Hard Margin haben, können wir nun anhand eines Supportvektors auch $b$ bzw. $t$ bestimmen:\n",
    "\n",
    "$y^{(2)} (w^T x^{(2)}-t) = 1$\n",
    "\n",
    "$\\Rightarrow - \\begin{pmatrix}0&-0.5\\end{pmatrix} \\begin{pmatrix}-1\\\\3\\end{pmatrix} +t = 1$\n",
    "\n",
    "$\\Rightarrow 1.5 +t = 1 \\Rightarrow t = -0.5$\n",
    "\n",
    "#### Diskriminanzfunktion:\n",
    "\n",
    "Mit den Parametern ergibt sich eine Gerade, die durch $y=1$ verläuft. Die Diskriminanzfunktion ist also:\n",
    "\n",
    "$K(x) =\\textrm{sgn} \\left ( \\sum_{i=1}^m \\alpha_i y^{(i)} x^{(i)^T} x -t \\right ) \\\\\n",
    "=\\textrm{sgn} \\left ( y^{(2)} x^{(2)^T} x + y^{(3)} x^{(3)^T} x + 0.5 \\right )  \\\\\n",
    "=\\textrm{sgn} \\left ( \\begin{pmatrix} -1 & -1 \\end{pmatrix} x - \\begin{pmatrix} -1 & 3 \\end{pmatrix} x +  0.5 \\right )$"
   ]
  },
  {
   "cell_type": "markdown",
   "metadata": {},
   "source": [
    "c) Wenden Sie nun die in b) berechnete Diskriminanzfunktion auf den Punkt $ \\mathbf{x}=\\begin{bmatrix} 3 \\\\ 0 \\\\ \\end{bmatrix} $ an."
   ]
  },
  {
   "cell_type": "markdown",
   "metadata": {},
   "source": [
    "$K(\\begin{pmatrix} 3 \\\\ 0 \\end{pmatrix}) = \\textrm{sgn} \\left ( \\begin{pmatrix} -1 & -1 \\end{pmatrix} \\begin{pmatrix} 3 \\\\ 0 \\end{pmatrix} - \\begin{pmatrix} -1 & 3 \\end{pmatrix} \\begin{pmatrix} 3 \\\\ 0 \\end{pmatrix} +  0.5 \\right ) \\\\\n",
    "= \\textrm{sgn} \\left ( -3 + 3 +  0.5 \\right ) \\\\\n",
    "= \\textrm{sgn} \\left ( 0.5 \\right ) \\\\\n",
    "= 1 $"
   ]
  },
  {
   "cell_type": "markdown",
   "metadata": {},
   "source": [
    "d) Plotten Sie alle 4 Punkte und die Trennebene."
   ]
  },
  {
   "cell_type": "code",
   "execution_count": 1,
   "metadata": {},
   "outputs": [
    {
     "data": {
      "image/png": "[encoded data removed]",
      "text/plain": [
       "<Figure size 432x288 with 1 Axes>"
      ]
     },
     "metadata": {
      "needs_background": "light"
     },
     "output_type": "display_data"
    }
   ],
   "source": [
    "import numpy as np\n",
    "import matplotlib.pyplot as plt\n",
    "\n",
    "x1 = [1, -1]\n",
    "x2 = [-1, 3]\n",
    "y1 = [3, 3]\n",
    "y2 = [-1, 0]\n",
    "plt.scatter(x1, y1, color = \"r\", label=\"- 1\")\n",
    "plt.scatter(x2, y2, color = \"g\", label=\"+ 1\")\n",
    "x_range = np.linspace(-1.5, 3.5, 10)\n",
    "plt.plot(x_range, np.ones(len(x_range)), color=\"b\", linewidth = 2, label=\"Diskriminanzfunktion\")\n",
    "plt.legend()\n",
    "plt.xlabel(\"$x_1$\")\n",
    "plt.ylabel(\"$x_2$\")\n",
    "plt.grid()\n",
    "plt.show()"
   ]
  },
  {
   "cell_type": "markdown",
   "metadata": {},
   "source": [
    "e) Nehmen Sie an, dass sich im Datensatz ein weiterer Punkt $ \\mathbf{x}=\\begin{bmatrix} 0 \\\\ 3 \\\\ \\end{bmatrix} $ mit Klasse $ \\mathbf{y}=+1 $ befindet. Was ist das Problem? Wie kann es gelöst werden?"
   ]
  },
  {
   "cell_type": "markdown",
   "metadata": {},
   "source": [
    "Für $\\mathbf{x}=\\begin{bmatrix} 0 \\\\ 3 \\\\ \\end{bmatrix}$ gilt:\n",
    "\n",
    "$ \\textrm{sgn}\n",
    "\\left(h\\left(\n",
    "\\begin{pmatrix}\n",
    "0\\\\\n",
    "3\\\\\n",
    "\\end{pmatrix}\\right)\\right) = -1\n",
    "$.\n",
    "\n",
    "Dieser Punkt wird also falsch klassifiziert.\n",
    "\n",
    "Die Klassen sind dann nicht mehr im 2-dimensionalen Raum linear trennbar.\n",
    "\n",
    "Das Problem kann gelöst werden, indem die Daten in eine höhere Dimension transformiert werden, in der sie wieder linear trennbar sind. In diesem Beispiel könnten die Klassen getrennt werden, indem man sie auf einer Z-Achse zueinander verschiebt). Alternativ kann auch ein Kernel-Trick angewendet werden, um die Hyperebene nur implizit in einem höherdimensionalen Raum zu berechnen, ohne die Daten explizit zu transformieren."
   ]
  },
  {
   "cell_type": "markdown",
   "metadata": {},
   "source": [
    "---\n",
    "## Aufgabe 2: Kernel-Trick \n",
    "\n",
    "In der vorigen Aufgabe wurden SVMs mit linearem Kernel $k_{linear}(x,y) = \\langle  x,y \\rangle = x^Ty $ betrachtet. Betrachten Sie nun einen polynomialen Kernel $ k_{q} = (x^Ty)^2 $. Dabei sind $x, y \\in \\mathbb{R}^2$"
   ]
  },
  {
   "cell_type": "markdown",
   "metadata": {},
   "source": [
    "a) Was ist der Vorteil einer Kernelfunktion gegenüber dem Skalarprodukt im höherdimensionalen Raum?"
   ]
  },
  {
   "cell_type": "markdown",
   "metadata": {},
   "source": [
    "Die Berechnung ist günstiger mit der Kernelfunktion als das Skalarprodukt im höherimensionalen Raum zu berechnen (siehe c)"
   ]
  },
  {
   "cell_type": "markdown",
   "metadata": {},
   "source": [
    "b) Leiten Sie von Kernel $ k_{q} = (x^Ty)^2 $ ausgehend die Transformationsfunktion $\\phi(x)$ her \n",
    "und geben Sie $ \\langle  \\phi(x),\\phi(y) \\rangle $ an. "
   ]
  },
  {
   "cell_type": "markdown",
   "metadata": {},
   "source": [
    "Mit $x=(x_1,x_2),y=(y_1,y_2)\\in \\mathbb{R}^2$ gilt:\n",
    "\n",
    "\\begin{align}\n",
    "K(x,y) &= (x_1y_1 + x_2y_2)^2\\\\\n",
    "&= (x_1y_1)^2 + 2x_1y_1x_2y_2 + (x_2y_2)^2\\\\\n",
    "&= x_1^2 y_1^2 + \\sqrt{2}x_1x_2\\sqrt{2}y_1y_2 + x_2^2y_2^2\\\\\n",
    "&= \\langle\\begin{pmatrix}\n",
    "x_1^2\\\\\n",
    "\\sqrt{2}x_1x_2\\\\\n",
    "x_2^2\n",
    "\\end{pmatrix},\n",
    "\\begin{pmatrix}\n",
    "y_1^2\\\\\n",
    "\\sqrt{2}y_1y_2\\\\\n",
    "y_2^2\n",
    "\\end{pmatrix}\\rangle \n",
    "\\end{align}\n",
    "\n",
    "Also ist $\\phi(x) = \\begin{pmatrix}\n",
    "x_1^2\\\\\n",
    "\\sqrt{2}x_1x_2\\\\\n",
    "x_2^2\n",
    "\\end{pmatrix}$\n"
   ]
  },
  {
   "cell_type": "markdown",
   "metadata": {},
   "source": [
    "c) Zählen Sie die Anzahl der Multiplikationen und Additionen jeweils für die Berechnung von\n",
    "* $(x^Ty)^2$\n",
    "* $\\phi(x)^T\\phi(y)$,\n",
    "wobei die Transformationsfunktion $\\phi$ aus b) benutzt werden soll."
   ]
  },
  {
   "cell_type": "markdown",
   "metadata": {},
   "source": [
    "* $(x^Ty)^2$:\n",
    "\n",
    "  Mit $z = x_1y_1 + x_2y_2$ (2 Multiplikationen, 1 Addition) und $z^2$ $\\Rightarrow$ 3 Multiplikationen, 1 Addition\n",
    "\n",
    "\n",
    "* $\\phi(x)^T\\phi(y)$:\n",
    "\n",
    "  Mit $ x_1^2y_1^2 + \\sqrt{2}x_1x_2\\sqrt{2}y_1y_2 + x_2^2y_2^2 $ (11 Multiplikationen, 2 Additionen)\n",
    "  "
   ]
  },
  {
   "cell_type": "markdown",
   "metadata": {},
   "source": [
    "---\n",
    "## **Aufgabe 3: Backpropagation (bewertet: 0,5+4,5 Punkte)**\n",
    "\n",
    "Der folgende Graph repräsentiert ein einzelnes Neuron eines neuronalen Netzes mit 3-dimensionalem Eingabevektor $x$, lernbaren Gewichten $w$ und **tanh** Aktivierung. Die Ausgabe eines solchen Neurons ist $ \\mathrm{tanh}\\left(\\sum_{i}w_ix_i + b\\right) $. Im Graph ist die Berechung in kleinere Operationen aufgeteilt um die Anwendung des Backpropagation-Algorithmus zu verdeutlichen.\n",
    "\n",
    "![image](tanh_graph.png)"
   ]
  },
  {
   "cell_type": "markdown",
   "metadata": {},
   "source": [
    "a) Führen Sie den Forward-Pass durch. \n",
    "\n",
    "Berechnen Sie also die Werte $\n",
    "f_1, f_2, f_3, f_4, f_5$ und $f_t.\n",
    "$"
   ]
  },
  {
   "cell_type": "markdown",
   "metadata": {},
   "source": [
    "$$ \\begin{align} \n",
    "f_1&=x_0*w_0+x_1*w_1+x_2*w_2+b \\\\\n",
    "   &=2*(-0.75)+3*2+(-1)*(3)-2=-0.5\\\\\n",
    "f_2&=2*f_1=-1   \\\\  \n",
    "f_3&=e^{f_2}=0.36787944\\\\\n",
    "f_4&=f_3+1=1.36787944\\\\\n",
    "f_5&=2/f_4=1.4621171\\\\\n",
    "f_t&=1-f_5=-0.4621171\\\\\n",
    "\\end{align} $$"
   ]
  },
  {
   "cell_type": "markdown",
   "metadata": {},
   "source": [
    "b) Berechnen Sie den Gradienten für alle Knoten im Graph mittels Backpropagation. \n",
    "\n",
    "Berechnen Sie also die Werte $\n",
    "\\frac{df_t}{dw_0},\n",
    "\\frac{df_t}{dw_1},\n",
    "\\frac{df_t}{dw_2},\n",
    "\\frac{df_t}{dx_0},\n",
    "\\frac{df_t}{dx_1},\n",
    "\\frac{df_t}{dx_2},\n",
    "\\frac{df_t}{db},\n",
    "\\frac{df_t}{df_1},\n",
    "\\frac{df_t}{df_2},\n",
    "\\frac{df_t}{df_3},\n",
    "\\frac{df_t}{df_4},\n",
    "\\frac{df_t}{df_5},$ und $ \\frac{df_t}{df_t}.\n",
    "$"
   ]
  },
  {
   "cell_type": "markdown",
   "metadata": {},
   "source": [
    "$$ \\begin{align}    \n",
    "\\dfrac{df_t}{df_t}&=1 \\\\ \\\\\n",
    "\\dfrac{df_t}{df_5}&=\\dfrac{df_t}{df_t}*\\dfrac{df_t}{df_5}=1*(-1)=-1\\\\ \\\\\n",
    "\\dfrac{df_t}{df_4}&=\\dfrac{df_t}{df_5}*\\dfrac{df_5}{df_4}=(-1)*(-2/(f_4)^2)= 2/1.36787944^2=1.068893290\\\\ \\\\\n",
    "\\dfrac{df_t}{df_3}&=\\dfrac{df_t}{df_4}*\\dfrac{df_4}{df_3}=1.068893290 * 1 = 1.068893290\\\\ \\\\\n",
    "\\dfrac{df_t}{df_2}&=1.068893290 * e^{f_2}= 1.068893290 * e^{-1}=0.393223866  \\\\ \\\\\n",
    "\\dfrac{df_t}{df_1}&=0.393223866*2=0.7864477\\\\ \\\\\n",
    "\\dfrac{df_t}{df_b}&=0.7864477*1 = 0.7864477\\\\ \\\\\n",
    "\\dfrac{df_t}{df_{x_2}}&= 0.7864477*w_2 = 0.7864477*(-1)= -0.7864477\\\\ \\\\\n",
    "\\dfrac{df_t}{df_{w_2}}&=0.7864477*x_2 = 0.7864477*3 = 2.3593432 \\\\ \\\\\n",
    "\\dfrac{df_t}{df_{x_1}}&= 0.7864477*w_1 = 0.7864477*3  =  2.3593432\\\\ \\\\\n",
    "\\dfrac{df_t}{df_{w_1}}&= 0.7864477*x_1 = 0.7864477*2= 1.572895466\\\\ \\\\\n",
    "\\dfrac{df_t}{df_{x_0}}&= 0.7864477*w_0 = 0.7864477*2 =1.572895466\\\\ \\\\\n",
    "\\dfrac{df_t}{df_{w_0}}&= 0.7864477*x_0 =0.7864477*(-0.75) =-0.5898357997\n",
    "\\end{align}$$"
   ]
  }
 ],
 "metadata": {
  "kernelspec": {
   "display_name": "Python 3",
   "language": "python",
   "name": "python3"
  },
  "language_info": {
   "codemirror_mode": {
    "name": "ipython",
    "version": 3
   },
   "file_extension": ".py",
   "mimetype": "text/x-python",
   "name": "python",
   "nbconvert_exporter": "python",
   "pygments_lexer": "ipython3",
   "version": "3.8.10"
  }
 },
 "nbformat": 4,
 "nbformat_minor": 4
}
