{
 "cells": [
  {
   "cell_type": "markdown",
   "metadata": {},
   "source": [
    "# Übungszettel 12: Neuronale Netze (Musterlösung)\n",
    "\n",
    "## Maschinelles Lernen - WiSe 23/24\n",
    "\n",
    "### Abgabe 31.01.2024, 23:55 Uhr\n",
    "\n",
    "*Hinweise:*\n",
    "- Übungsaufgaben **müssen** in Gruppen von 3-4 Personen abgegeben werden. **Einzelabgaben werden nicht korrigiert bzw. bewertet.**\n",
    "- **<span style=\"color:red;\">Es werden auf diesem Übungszettel die letzten zwei Aufgaben bewertet</span>**, die übrigen Aufgaben dienen zur selbstständigen Vertiefung des Vorlesungsstoffs. Für diese Aufgaben werden nach der Abgabe Musterlösungen bereitgestellt.\n",
    "- Die Lösungen sollen in diesem IPython Notebook realisiert werden, wobei Teilaufgaben und Zwischenergebnisse ausgegeben bzw. visualisiert werden sollen.\n",
    "- Für die Abgabe sollen Sie dieses IPython Notebook und ggf. zugehörige Dateien in ein **Ziparchiv** packen und im Ilias hochladen. Das Ziparchiv soll nach folgendem Muster benannt werden:\n",
    "`UebungXX_Nachname1_Nachname2_Nachname3.zip`, wobei die Nachnamen in alphabetischer Reihenfolge angegeben und Umlaute ggf. ersetzt werden sollen. Bei Nichtbefolgung dieser Vorgabe können Punkte abgezogen werden."
   ]
  },
  {
   "cell_type": "markdown",
   "metadata": {},
   "source": [
    "---\n",
    "\n",
    "## Aufgabe 1: Bildklassifizierung mit Deep Learning\n",
    "\n",
    "In dieser Aufgabe sollen Sie ein einfaches neuronales Netzwerk auf dem Cifar10 Datensatz trainieren.\n",
    "\n",
    "*Hinweis: Um das Training zu beschleunigen, können Sie einen Rechner mit Grafikkarte (oder Google Colab) verwenden.*"
   ]
  },
  {
   "cell_type": "markdown",
   "metadata": {},
   "source": [
    "a) Laden Sie den Cifar10 Datensatz über die Keras-Dataset-API (https://keras.io/api/datasets/cifar10/) und machen Sie sich mit dem Datensatz vertraut.\n",
    "\n",
    "Normalisieren Sie die Pixelwerte der Bilder für das Training zwischen 0 und 1."
   ]
  },
  {
   "cell_type": "code",
   "execution_count": 1,
   "metadata": {},
   "outputs": [],
   "source": [
    "import tensorflow as tf\n",
    "(x_train, y_train), (x_test, y_test) = tf.keras.datasets.cifar10.load_data()\n",
    "x_train, x_test = x_train / 255.0, x_test / 255.0"
   ]
  },
  {
   "cell_type": "markdown",
   "metadata": {},
   "source": [
    "b) Erstellen Sie ein sequentielles neuronales Netzwerk zur Klassifikation der Bilder auf dem Cifar10 Datensatz unter folgenden Bedingungen:\n",
    "\n",
    "* Verwenden Sie einen `Flatten`-Layer als Eingabeschicht\n",
    "* Nutzen Sie danach ausschließlich vollständig verbundene Schichten (`Dense`-Layer)\n",
    "* Die letzte Schicht soll der Anzahl der Klassen entsprechend aus 10 Neuronen bestehen und die Softmax-Aktivierungsfunktion verwenden\n",
    "* Die Anzahl der Hidden Layer sowie ihre Größen und Aktivierungsfunktionen dürfen sie selbst wählen\n",
    "\n",
    "Kompilieren Sie das Modell und geben Sie dabei `'adam'` als Optimierer, `'sparse_categorical_crossentropy'` als Loss-Funktion sowie `'accuracy'` als Metrik an.\n",
    "\n",
    "Rufen Sie die `summary()`-Funktion des Modells auf, um eine Übersicht über die Schichten des Modells anzuzeigen."
   ]
  },
  {
   "cell_type": "code",
   "execution_count": 2,
   "metadata": {},
   "outputs": [
    {
     "name": "stdout",
     "output_type": "stream",
     "text": [
      "Model: \"sequential\"\n",
      "_________________________________________________________________\n",
      "Layer (type)                 Output Shape              Param #   \n",
      "=================================================================\n",
      "flatten (Flatten)            (None, 3072)              0         \n",
      "_________________________________________________________________\n",
      "dense (Dense)                (None, 1600)              4916800   \n",
      "_________________________________________________________________\n",
      "dense_1 (Dense)              (None, 800)               1280800   \n",
      "_________________________________________________________________\n",
      "dense_2 (Dense)              (None, 400)               320400    \n",
      "_________________________________________________________________\n",
      "dense_3 (Dense)              (None, 100)               40100     \n",
      "_________________________________________________________________\n",
      "dense_4 (Dense)              (None, 10)                1010      \n",
      "=================================================================\n",
      "Total params: 6,559,110\n",
      "Trainable params: 6,559,110\n",
      "Non-trainable params: 0\n",
      "_________________________________________________________________\n"
     ]
    }
   ],
   "source": [
    "model = tf.keras.models.Sequential()\n",
    "\n",
    "model.add(tf.keras.layers.Flatten(input_shape=(32, 32, 3)))\n",
    "model.add(tf.keras.layers.Dense(1600, activation='relu'))\n",
    "model.add(tf.keras.layers.Dense(800, activation='relu'))\n",
    "model.add(tf.keras.layers.Dense(400, activation='relu'))\n",
    "model.add(tf.keras.layers.Dense(100, activation='relu'))\n",
    "model.add(tf.keras.layers.Dense(10, activation='softmax'))\n",
    "\n",
    "model.compile(optimizer = 'adam', loss = 'sparse_categorical_crossentropy', metrics = ['accuracy'])\n",
    "\n",
    "model.summary()"
   ]
  },
  {
   "cell_type": "markdown",
   "metadata": {},
   "source": [
    "c) Führen Sie nun das Training Ihres Modells auf den Cifar10-Trainingsdaten durch. \n",
    "* Verwenden Sie den Parameter `validation_split=0.3`, um einen Teil der Trainingsdaten zur automatischen Validierung zu verwenden\n",
    "* Nutzen Sie den `Tensorboard`-Callback, um den Trainingsfortschritt zu loggen\n",
    "* Verwenden Sie den `EarlyStopping`-Callback, damit das Training automatisch gestoppt wird, wenn es über mehrere Epochen zu keiner Verbesserung mehr kommt\n",
    "* Nutzen Sie den `ModelCheckpoint`-Callback mit dem Parameter `save_best_only=True`, um die erlernten Gewichte ihres Modells automatisch zu speichern"
   ]
  },
  {
   "cell_type": "markdown",
   "metadata": {},
   "source": [
    "*Hinweis: Wenn Sie auf Google Colab arbeiten, sollten Sie Ihr Google Drive mit dem nachfolgenden Befehl mounten und die Dateien dort speichern, da sie sonst beim Beenden des Notebooks verloren gehen.*"
   ]
  },
  {
   "cell_type": "code",
   "execution_count": null,
   "metadata": {},
   "outputs": [],
   "source": [
    "from google.colab import drive\n",
    "drive.mount('/content/drive')"
   ]
  },
  {
   "cell_type": "markdown",
   "metadata": {},
   "source": [
    "*Es wird Ihnen nach der Ausführung ein Link angezeigt, über den Sie ein Token abrufen können. Nachdem Sie dieses hier eingegeben haben, können Sie über den Pfad `'/content/drive/MyDrive/...'` auf die Ordnerstruktur Ihres Google Drives zugreifen.*"
   ]
  },
  {
   "cell_type": "code",
   "execution_count": 3,
   "metadata": {},
   "outputs": [],
   "source": [
    "import datetime"
   ]
  },
  {
   "cell_type": "code",
   "execution_count": 4,
   "metadata": {
    "scrolled": true,
    "tags": []
   },
   "outputs": [
    {
     "name": "stdout",
     "output_type": "stream",
     "text": [
      "Epoch 1/40\n",
      "1094/1094 [==============================] - 43s 37ms/step - loss: 2.1431 - accuracy: 0.2107 - val_loss: 1.8165 - val_accuracy: 0.3503\n",
      "INFO:tensorflow:Assets written to: logs/20210531-115003\\checkpoints\\assets\n",
      "Epoch 2/40\n",
      "1094/1094 [==============================] - 39s 35ms/step - loss: 1.7922 - accuracy: 0.3469 - val_loss: 1.7372 - val_accuracy: 0.3681\n",
      "INFO:tensorflow:Assets written to: logs/20210531-115003\\checkpoints\\assets\n",
      "Epoch 3/40\n",
      "1094/1094 [==============================] - 39s 35ms/step - loss: 1.6922 - accuracy: 0.3951 - val_loss: 1.6690 - val_accuracy: 0.4024\n",
      "INFO:tensorflow:Assets written to: logs/20210531-115003\\checkpoints\\assets\n",
      "Epoch 4/40\n",
      "1094/1094 [==============================] - 40s 37ms/step - loss: 1.6240 - accuracy: 0.4148 - val_loss: 1.6575 - val_accuracy: 0.4014\n",
      "INFO:tensorflow:Assets written to: logs/20210531-115003\\checkpoints\\assets\n",
      "Epoch 5/40\n",
      "1094/1094 [==============================] - 38s 34ms/step - loss: 1.5882 - accuracy: 0.4255 - val_loss: 1.5831 - val_accuracy: 0.4377\n",
      "INFO:tensorflow:Assets written to: logs/20210531-115003\\checkpoints\\assets\n",
      "Epoch 6/40\n",
      "1094/1094 [==============================] - 38s 34ms/step - loss: 1.5332 - accuracy: 0.4468 - val_loss: 1.5930 - val_accuracy: 0.4318\n",
      "Epoch 7/40\n",
      "1094/1094 [==============================] - 38s 35ms/step - loss: 1.4987 - accuracy: 0.4583 - val_loss: 1.5567 - val_accuracy: 0.4477\n",
      "INFO:tensorflow:Assets written to: logs/20210531-115003\\checkpoints\\assets\n",
      "Epoch 8/40\n",
      "1094/1094 [==============================] - 38s 34ms/step - loss: 1.4569 - accuracy: 0.4755 - val_loss: 1.5650 - val_accuracy: 0.4467\n",
      "Epoch 9/40\n",
      "1094/1094 [==============================] - 38s 35ms/step - loss: 1.4207 - accuracy: 0.4857 - val_loss: 1.5280 - val_accuracy: 0.4593\n",
      "INFO:tensorflow:Assets written to: logs/20210531-115003\\checkpoints\\assets\n",
      "Epoch 10/40\n",
      "1094/1094 [==============================] - 39s 36ms/step - loss: 1.3944 - accuracy: 0.4943 - val_loss: 1.5506 - val_accuracy: 0.4513\n",
      "Epoch 11/40\n",
      "1094/1094 [==============================] - 37s 34ms/step - loss: 1.3626 - accuracy: 0.5087 - val_loss: 1.5720 - val_accuracy: 0.4448\n",
      "Epoch 12/40\n",
      "1094/1094 [==============================] - 37s 34ms/step - loss: 1.3280 - accuracy: 0.5182 - val_loss: 1.5227 - val_accuracy: 0.4625\n",
      "INFO:tensorflow:Assets written to: logs/20210531-115003\\checkpoints\\assets\n",
      "Epoch 13/40\n",
      "1094/1094 [==============================] - 37s 34ms/step - loss: 1.2922 - accuracy: 0.5337 - val_loss: 1.5651 - val_accuracy: 0.4510\n",
      "Epoch 14/40\n",
      "1094/1094 [==============================] - 37s 34ms/step - loss: 1.2739 - accuracy: 0.5401 - val_loss: 1.5391 - val_accuracy: 0.4689\n",
      "Epoch 15/40\n",
      "1094/1094 [==============================] - 39s 36ms/step - loss: 1.2329 - accuracy: 0.5519 - val_loss: 1.4980 - val_accuracy: 0.4755\n",
      "INFO:tensorflow:Assets written to: logs/20210531-115003\\checkpoints\\assets\n",
      "Epoch 16/40\n",
      "1094/1094 [==============================] - 40s 36ms/step - loss: 1.2056 - accuracy: 0.5602 - val_loss: 1.5358 - val_accuracy: 0.4682\n",
      "Epoch 17/40\n",
      "1094/1094 [==============================] - 47s 43ms/step - loss: 1.1785 - accuracy: 0.5742 - val_loss: 1.5669 - val_accuracy: 0.4696\n",
      "Epoch 18/40\n",
      "1094/1094 [==============================] - 44s 40ms/step - loss: 1.1410 - accuracy: 0.5826 - val_loss: 1.6223 - val_accuracy: 0.4697\n",
      "Epoch 19/40\n",
      "1094/1094 [==============================] - 48s 44ms/step - loss: 1.1075 - accuracy: 0.5962 - val_loss: 1.5910 - val_accuracy: 0.4731\n",
      "Epoch 20/40\n",
      "1094/1094 [==============================] - 45s 41ms/step - loss: 1.0904 - accuracy: 0.6030 - val_loss: 1.6675 - val_accuracy: 0.4633\n"
     ]
    },
    {
     "data": {
      "text/plain": [
       "<tensorflow.python.keras.callbacks.History at 0x17694728e20>"
      ]
     },
     "execution_count": 4,
     "metadata": {},
     "output_type": "execute_result"
    }
   ],
   "source": [
    "log_dir = \"logs/\" + datetime.datetime.now().strftime(\"%Y%m%d-%H%M%S\")\n",
    "\n",
    "tensorboard_callback = tf.keras.callbacks.TensorBoard(log_dir, histogram_freq=1)\n",
    "early_stopping_callback = tf.keras.callbacks.EarlyStopping(patience=5, restore_best_weights=True)\n",
    "checkpoint_callback = tf.keras.callbacks.ModelCheckpoint(log_dir+'/checkpoints', save_best_only=True)\n",
    "\n",
    "model.fit(x_train, y_train, epochs=40, validation_split=0.3, callbacks=[tensorboard_callback, early_stopping_callback, checkpoint_callback])"
   ]
  },
  {
   "cell_type": "markdown",
   "metadata": {},
   "source": [
    "d) Rufen Sie das Tensorboard auf, um sich **Loss** und **Accuracy** im Verlauf des Trainings anzuzeigen.\n",
    "* Im Browser (nur möglich, wenn die Logs auf Ihrem Rechner liegen):\n",
    "  * Starten von Tensorboard über die Kommandozeile: `tensorboard --logdir=/pfad/zu/logs/`\n",
    "  * Öffnen von http://localhost:6006/ im Webbrowser\n",
    "* In Notebook-Zelle (auch in Googe Colab möglich):\n",
    "  * Laden von Tensorboard-Extension über Line-Magic: `%load_ext tensorboard`\n",
    "  * Starten von Tensorboard in Notebook-Zelle über Line-Magic: `%tensorboard --logdir /pfad/zu/logs/`\n",
    " \n",
    "Speichern Sie die Plots oder machen Sie Screenshots und zeigen Sie diese hier im Notebook an."
   ]
  },
  {
   "cell_type": "markdown",
   "metadata": {},
   "source": [
    "### Loss: (Orange:Train, Blau: Validation)\n",
    "![epoch_accuracy.svg](epoch_loss.svg)\n",
    "\n",
    "### Accuracy: (Orange:Train, Blau: Validation)\n",
    "![epoch_accuracy.svg](epoch_accuracy.svg)"
   ]
  },
  {
   "cell_type": "markdown",
   "metadata": {},
   "source": [
    "e) Evaluieren Sie Ihr trainiertes Netzwerk auf den Cifar10-Testdaten und geben Sie die erhaltene Accuracy an."
   ]
  },
  {
   "cell_type": "code",
   "execution_count": 7,
   "metadata": {},
   "outputs": [
    {
     "name": "stdout",
     "output_type": "stream",
     "text": [
      "313/313 [==============================] - 3s 8ms/step - loss: 1.4726 - accuracy: 0.4816\n",
      "Test Accuracy: 48.16%\n"
     ]
    }
   ],
   "source": [
    "test_loss, test_acc = model.evaluate(x_test, y_test)\n",
    "print(\"Test Accuracy: {:.2%}\".format(test_acc))"
   ]
  },
  {
   "cell_type": "markdown",
   "metadata": {},
   "source": [
    "f) Visualisieren Sie die ersten 3 Bilder aus dem Testdatensatz und geben Sie jeweils die durch Ihr Modell vorausgesagte Klasse mit der dazugehörigen Wahrscheinlichkeit an."
   ]
  },
  {
   "cell_type": "code",
   "execution_count": 8,
   "metadata": {},
   "outputs": [
    {
     "data": {
      "image/png": "[encoded data removed]",
      "text/plain": [
       "<PIL.Image.Image image mode=RGB size=64x64 at 0x1769DB9BDF0>"
      ]
     },
     "metadata": {},
     "output_type": "display_data"
    },
    {
     "name": "stdout",
     "output_type": "stream",
     "text": [
      "gt:   3\n",
      "pred: 3 (42.09%))\n",
      "correct@pos: 0\n"
     ]
    },
    {
     "data": {
      "image/png": "[encoded data removed]",
      "text/plain": [
       "<PIL.Image.Image image mode=RGB size=64x64 at 0x1769C3CD340>"
      ]
     },
     "metadata": {},
     "output_type": "display_data"
    },
    {
     "name": "stdout",
     "output_type": "stream",
     "text": [
      "gt:   8\n",
      "pred: 9 (51.74%))\n",
      "correct@pos: 1\n"
     ]
    },
    {
     "data": {
      "image/png": "[encoded data removed]",
      "text/plain": [
       "<PIL.Image.Image image mode=RGB size=64x64 at 0x1769C3CD340>"
      ]
     },
     "metadata": {},
     "output_type": "display_data"
    },
    {
     "name": "stdout",
     "output_type": "stream",
     "text": [
      "gt:   8\n",
      "pred: 8 (45.91%))\n",
      "correct@pos: 0\n"
     ]
    }
   ],
   "source": [
    "from PIL import Image\n",
    "import numpy as np\n",
    "\n",
    "pred = model.predict(x_test[:3])\n",
    "for i in range(3):\n",
    "    image = Image.fromarray((x_test[i]*255).astype('uint8'))\n",
    "    image = image.resize((image.size[0] * 2, image.size[1] * 2))\n",
    "    display(image)\n",
    "    gt = y_test[i][0]\n",
    "    \n",
    "    pred_best = pred[i].argmax()\n",
    "    pred_rank = np.argwhere((-pred[i]).argsort()==gt)[0][0]\n",
    "    \n",
    "    print('gt:   {:}'.format(gt))\n",
    "    print('pred: {:} ({:.2%}))'.format(pred_best, pred[i][pred_best]))\n",
    "    print('correct@pos: {:}'.format(pred_rank))"
   ]
  },
  {
   "cell_type": "markdown",
   "metadata": {},
   "source": [
    "---\n",
    "\n",
    "## Aufgabe 2 - Künstliche neuronale Netze und Gradienten (1+1+1+1+1)"
   ]
  },
  {
   "cell_type": "markdown",
   "metadata": {},
   "source": [
    "a) Geben Sie die mathematische Definition eines künstlichen Neurons an."
   ]
  },
  {
   "cell_type": "markdown",
   "metadata": {
    "jupyter": {
     "outputs_hidden": false
    }
   },
   "source": [
    "$f \\left( \\sum_i{w_i x_i+b} \\right)$\n",
    "mit\n",
    "- $f$: Aktivierungsfunktion\n",
    "- $x$: Inputs\n",
    "- $w$: Gewichte\n",
    "- $b$: Bias"
   ]
  },
  {
   "cell_type": "markdown",
   "metadata": {},
   "source": [
    "b) Skizzieren Sie den Aufbau eines künstlichen Neurons mit 4 Eingaben."
   ]
  },
  {
   "cell_type": "markdown",
   "metadata": {},
   "source": [
    "![Neuron.png](Neuron.png)"
   ]
  },
  {
   "cell_type": "markdown",
   "metadata": {},
   "source": [
    "c) Welche boolsche Funktion $y$ wird durch das folgende neuronale Netzwerk approximiert? (Für $x_1,x_2\\in{0,1}$).\n",
    "\n",
    "![BoolNet.png](BoolNet.png)"
   ]
  },
  {
   "cell_type": "markdown",
   "metadata": {},
   "source": [
    "$y = \\left( \\text{NOT } x_1 \\text{ OR } \\text{NOT } x_2 \\right ) = \\text{NOT } \\left( x_1 \\text{ AND } x_2 \\right )$"
   ]
  },
  {
   "cell_type": "markdown",
   "metadata": {},
   "source": [
    "d) Beschreiben Sie Vor- und Nachteile der Aktivierungsfunktionen Sigmoid sowie Rectified Linear Unit."
   ]
  },
  {
   "cell_type": "markdown",
   "metadata": {},
   "source": [
    "* Sigmoid\n",
    "  * Vorteile: \n",
    "    * Werte liegen im Bereich \\[0,1\\]\n",
    "  * Nachteile: \n",
    "    * Neuronen können saturieren (Gradient dauerhaft 0)\n",
    "    * Nicht Nullzentriert\n",
    "    * Rechenaufwändig\n",
    "* ReLU\n",
    "  * Vorteile: \n",
    "    * Keine Saturierung (im positiven Bereich)\n",
    "    * Sehr Recheneffizient\n",
    "    * Schnellere Konvergenz\n",
    "  * Nachteile:\n",
    "    * Nicht Nullzentriert\n",
    "    * Im negativen Bereich ist Gradient 0\n",
    "    * Dead ReLU (Gradient für alle Trainingsbeispiele 0)"
   ]
  },
  {
   "cell_type": "markdown",
   "metadata": {},
   "source": [
    "e) Erklären Sie wie Batch Normalization funktioniert und wozu sie eingesetzt wird."
   ]
  },
  {
   "cell_type": "markdown",
   "metadata": {},
   "source": [
    "* Funktionsweise:\n",
    "  * Normalisierung der Aktivierungen mithilfe der Formel $\\hat{x}^{(k)} = \\frac{x^{(k)} - E[x^{(k)}]}{\\sqrt{Var[x^{(k)}]}}$\n",
    "  * Dann Skalierung und Verschiebung mit trainierbaren Parametern\n",
    "* Einsatzgebiet:\n",
    "  * Verwendung meist zwischen Convolutional oder Fully Connected Layer und Aktivierungsfunktion\n",
    "  * Verbessert den Gradientenfluss\n",
    "  * Wirkt als Regularisierung\n",
    "  * Verringert Abhängigkeit des Netzes von Gewichtsinitialisierung"
   ]
  },
  {
   "cell_type": "markdown",
   "metadata": {},
   "source": [
    "---\n",
    "## **Aufgabe 3: Dropout Regularisierung (bewertet: 1+2 Punkte)**\n",
    "\n",
    "Betrachten Sie ein neuronales Netz mit ReLU Aktivierung dessen Gewichte (und damit die Struktur) gegeben ist durch:\n",
    "\n",
    "\n",
    "$$\n",
    "W_1=\\begin{pmatrix} 1 & 2 \\\\ -1 & 1 \\\\ 2 & -1 \\end{pmatrix} \\hspace{2cm} W_2=\\begin{pmatrix} 1 & 2 & -2\\\\ 2 & -1 & 1 \\end{pmatrix} \\hspace{2cm} W_3=\\begin{pmatrix} 1 & -1 \\end{pmatrix} \\\\\n",
    "\\text{und}\\\\\n",
    "b_1=\\begin{pmatrix} -1 \\\\ 1 \\\\ 2 \\end{pmatrix} \\hspace{3cm} b_2=\\begin{pmatrix} 2 \\\\ -1 \\end{pmatrix} \\hspace{4cm} b_3=1\n",
    "$$"
   ]
  },
  {
   "cell_type": "markdown",
   "metadata": {
    "tags": []
   },
   "source": [
    "a) Zeichnen Sie die Struktur des Netzwerks."
   ]
  },
  {
   "cell_type": "markdown",
   "metadata": {},
   "source": [
    "![Dropout_Network.png](Dropout_Network.png)"
   ]
  },
  {
   "cell_type": "markdown",
   "metadata": {
    "tags": []
   },
   "source": [
    "b) Berechnen Sie die Ausgaben für die Eingabe $x=\\left(\\begin{array}{c}1\\\\ 1\\end{array}\\right)$ indem die folgenden Dropout-Masken verwendet werden ($\\mu_0$ bezieht sich auf die Eingabeschicht, $\\mu_1$ auf den Output der ersten Aktivierungsschicht, usw.):\n",
    "\n",
    "$$\\mu_0=\\begin{pmatrix} 1 \\\\ 1 \\end{pmatrix} \\hspace{3cm} \\mu_1=\\begin{pmatrix} 1 \\\\ 0 \\\\ 1 \\end{pmatrix} \\hspace{4cm} \\mu_2=\\begin{pmatrix} 1 \\\\ 0 \\end{pmatrix}$$"
   ]
  },
  {
   "cell_type": "markdown",
   "metadata": {},
   "source": [
    "$y_1 = relu( W_1 \\cdot (x \\cdot \\mu_0) + b_1 ) = \\begin{pmatrix} 2 \\\\ 1 \\\\ 3 \\end{pmatrix}$,\n",
    "\n",
    "$y_2 = relu( W_2 \\cdot (y_1 \\cdot \\mu_1) + b_2 ) = relu\\begin{pmatrix} -2 \\\\ 6 \\end{pmatrix} = \\begin{pmatrix} 0 \\\\ 6 \\end{pmatrix}$,\n",
    "\n",
    "$y_3 = relu( W_3 \\cdot (y_2 \\cdot \\mu_2) + b_3 ) = 1$\n"
   ]
  }
 ],
 "metadata": {
  "kernelspec": {
   "display_name": "Python 3",
   "language": "python",
   "name": "python3"
  },
  "language_info": {
   "codemirror_mode": {
    "name": "ipython",
    "version": 3
   },
   "file_extension": ".py",
   "mimetype": "text/x-python",
   "name": "python",
   "nbconvert_exporter": "python",
   "pygments_lexer": "ipython3",
   "version": "3.8.10"
  }
 },
 "nbformat": 4,
 "nbformat_minor": 4
}
