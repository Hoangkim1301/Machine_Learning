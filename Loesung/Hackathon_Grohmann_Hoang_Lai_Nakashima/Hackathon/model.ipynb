{
 "cells": [
  {
   "cell_type": "markdown",
   "source": [
    "# Initialisierung\n",
    "\n",
    "Zuerst werden die Dateien geladen und grob angezeigt, um eine Überblick zu bekommen."
   ],
   "metadata": {
    "collapsed": false
   },
   "id": "98bd05a057885064"
  },
  {
   "cell_type": "code",
   "execution_count": 1,
   "outputs": [],
   "source": [
    "import pandas as pd\n",
    "import matplotlib.pyplot as plt\n",
    "from sklearn.preprocessing import LabelEncoder\n",
    "from sklearn.ensemble import RandomForestRegressor\n",
    "df_train = pd.read_csv ('dataset/train.csv', index_col='Id')\n",
    "df_test = pd.read_csv ('dataset/test.csv', index_col='Id')"
   ],
   "metadata": {
    "collapsed": false,
    "ExecuteTime": {
     "end_time": "2024-02-04T11:54:10.363978100Z",
     "start_time": "2024-02-04T11:54:08.777617900Z"
    }
   },
   "id": "dd2bada81b948671"
  },
  {
   "cell_type": "code",
   "execution_count": 2,
   "outputs": [
    {
     "data": {
      "text/plain": "   Wohngebiet Nachbarschaft Bedingung1 Bedingung2  Wohnungsklasse Gebauedetyp   \nId                                                                              \n1          WN        Gallus       Norm       Norm              20        1Fam  \\\n2          WN        Gallus       Norm       Norm              20        1Fam   \n3          WN       Eckenhe       Norm       Norm              50        1Fam   \n4          WN       Ginnhei       Norm       Norm              60        1Fam   \n5          WN       Eckenhe       Norm       Norm              70        1Fam   \n\n   Wohnungsstil  Baujahr  Umbaujahr  Hausqualitaet  ...  Garagenqualitaet   \nId                                                  ...                     \n1          1Sto     1962       1962              3  ...                Du  \\\n2          1Sto     2015       2016              5  ...                Du   \n3          2Sto     1930       1960              6  ...                Du   \n4          2Sto     2009       2010              6  ...                Du   \n5          2Sto     1939       1960              8  ...                Du   \n\n   Garagenzustand  EinfahrtGepflastert Sondermerkmal SondermerkmalWert   \nId                                                                       \n1              Ar                    J           NaN               0.0  \\\n2              Du                    J           NaN               0.0   \n3              Du                    P           NaN               0.0   \n4              Du                    J           NaN               0.0   \n5              Du                    J           NaN               0.0   \n\n   Verkaufsmonat Verkaufsjahr  Verkaufstyp Verkaufsbedingung Verkaufspreis  \nId                                                                          \n1              7         2019         GarK            Normal       69700.0  \n2              6         2017         GarK            Normal      133450.0  \n3              9         2016         GarK            Normal      165750.0  \n4              5         2017         GarK            Normal      157250.0  \n5              6         2016         GarK            Normal      195500.0  \n\n[5 rows x 80 columns]",
      "text/html": "<div>\n<style scoped>\n    .dataframe tbody tr th:only-of-type {\n        vertical-align: middle;\n    }\n\n    .dataframe tbody tr th {\n        vertical-align: top;\n    }\n\n    .dataframe thead th {\n        text-align: right;\n    }\n</style>\n<table border=\"1\" class=\"dataframe\">\n  <thead>\n    <tr style=\"text-align: right;\">\n      <th></th>\n      <th>Wohngebiet</th>\n      <th>Nachbarschaft</th>\n      <th>Bedingung1</th>\n      <th>Bedingung2</th>\n      <th>Wohnungsklasse</th>\n      <th>Gebauedetyp</th>\n      <th>Wohnungsstil</th>\n      <th>Baujahr</th>\n      <th>Umbaujahr</th>\n      <th>Hausqualitaet</th>\n      <th>...</th>\n      <th>Garagenqualitaet</th>\n      <th>Garagenzustand</th>\n      <th>EinfahrtGepflastert</th>\n      <th>Sondermerkmal</th>\n      <th>SondermerkmalWert</th>\n      <th>Verkaufsmonat</th>\n      <th>Verkaufsjahr</th>\n      <th>Verkaufstyp</th>\n      <th>Verkaufsbedingung</th>\n      <th>Verkaufspreis</th>\n    </tr>\n    <tr>\n      <th>Id</th>\n      <th></th>\n      <th></th>\n      <th></th>\n      <th></th>\n      <th></th>\n      <th></th>\n      <th></th>\n      <th></th>\n      <th></th>\n      <th></th>\n      <th></th>\n      <th></th>\n      <th></th>\n      <th></th>\n      <th></th>\n      <th></th>\n      <th></th>\n      <th></th>\n      <th></th>\n      <th></th>\n      <th></th>\n    </tr>\n  </thead>\n  <tbody>\n    <tr>\n      <th>1</th>\n      <td>WN</td>\n      <td>Gallus</td>\n      <td>Norm</td>\n      <td>Norm</td>\n      <td>20</td>\n      <td>1Fam</td>\n      <td>1Sto</td>\n      <td>1962</td>\n      <td>1962</td>\n      <td>3</td>\n      <td>...</td>\n      <td>Du</td>\n      <td>Ar</td>\n      <td>J</td>\n      <td>NaN</td>\n      <td>0.0</td>\n      <td>7</td>\n      <td>2019</td>\n      <td>GarK</td>\n      <td>Normal</td>\n      <td>69700.0</td>\n    </tr>\n    <tr>\n      <th>2</th>\n      <td>WN</td>\n      <td>Gallus</td>\n      <td>Norm</td>\n      <td>Norm</td>\n      <td>20</td>\n      <td>1Fam</td>\n      <td>1Sto</td>\n      <td>2015</td>\n      <td>2016</td>\n      <td>5</td>\n      <td>...</td>\n      <td>Du</td>\n      <td>Du</td>\n      <td>J</td>\n      <td>NaN</td>\n      <td>0.0</td>\n      <td>6</td>\n      <td>2017</td>\n      <td>GarK</td>\n      <td>Normal</td>\n      <td>133450.0</td>\n    </tr>\n    <tr>\n      <th>3</th>\n      <td>WN</td>\n      <td>Eckenhe</td>\n      <td>Norm</td>\n      <td>Norm</td>\n      <td>50</td>\n      <td>1Fam</td>\n      <td>2Sto</td>\n      <td>1930</td>\n      <td>1960</td>\n      <td>6</td>\n      <td>...</td>\n      <td>Du</td>\n      <td>Du</td>\n      <td>P</td>\n      <td>NaN</td>\n      <td>0.0</td>\n      <td>9</td>\n      <td>2016</td>\n      <td>GarK</td>\n      <td>Normal</td>\n      <td>165750.0</td>\n    </tr>\n    <tr>\n      <th>4</th>\n      <td>WN</td>\n      <td>Ginnhei</td>\n      <td>Norm</td>\n      <td>Norm</td>\n      <td>60</td>\n      <td>1Fam</td>\n      <td>2Sto</td>\n      <td>2009</td>\n      <td>2010</td>\n      <td>6</td>\n      <td>...</td>\n      <td>Du</td>\n      <td>Du</td>\n      <td>J</td>\n      <td>NaN</td>\n      <td>0.0</td>\n      <td>5</td>\n      <td>2017</td>\n      <td>GarK</td>\n      <td>Normal</td>\n      <td>157250.0</td>\n    </tr>\n    <tr>\n      <th>5</th>\n      <td>WN</td>\n      <td>Eckenhe</td>\n      <td>Norm</td>\n      <td>Norm</td>\n      <td>70</td>\n      <td>1Fam</td>\n      <td>2Sto</td>\n      <td>1939</td>\n      <td>1960</td>\n      <td>8</td>\n      <td>...</td>\n      <td>Du</td>\n      <td>Du</td>\n      <td>J</td>\n      <td>NaN</td>\n      <td>0.0</td>\n      <td>6</td>\n      <td>2016</td>\n      <td>GarK</td>\n      <td>Normal</td>\n      <td>195500.0</td>\n    </tr>\n  </tbody>\n</table>\n<p>5 rows × 80 columns</p>\n</div>"
     },
     "execution_count": 2,
     "metadata": {},
     "output_type": "execute_result"
    }
   ],
   "source": [
    "df_train.head()"
   ],
   "metadata": {
    "collapsed": false,
    "ExecuteTime": {
     "end_time": "2024-02-04T11:54:21.639298200Z",
     "start_time": "2024-02-04T11:54:21.593934400Z"
    }
   },
   "id": "e5fec77406c61adb"
  },
  {
   "cell_type": "code",
   "execution_count": 3,
   "outputs": [
    {
     "data": {
      "text/plain": "     Wohngebiet Nachbarschaft Bedingung1 Bedingung2  Wohnungsklasse   \nId                                                                    \n2001         WN       Flughaf       Norm       Norm             120  \\\n2002         WM       Altstad       Norm       Norm             190   \n2003         WN       Altstad       Norm       Norm              50   \n2004         WN        Gallus       Zubr       Norm              70   \n2005         WN       Dornbus       Norm       Norm              20   \n\n     Gebauedetyp Wohnungsstil  Baujahr  Umbaujahr  Hausqualitaet  ...   \nId                                                                ...   \n2001       StHau         1Sto     1987       1987              7  ...  \\\n2002       2famU         1.5V     1920       2006              4  ...   \n2003        1Fam         1.5V     1910       2008              4  ...   \n2004        1Fam         2Sto     1920       2010              4  ...   \n2005        1Fam         1Sto     1965       2003              5  ...   \n\n      Garagenflaeche Garagenqualitaet  Garagenzustand EinfahrtGepflastert   \nId                                                                          \n2001           39.60               Du              Du                   J  \\\n2002            0.00              NaN             NaN                   N   \n2003           25.20               Ar              Du                   J   \n2004           47.52               Du              Du                   J   \n2005           27.27               Du              Du                   J   \n\n     Sondermerkmal SondermerkmalWert Verkaufsmonat  Verkaufsjahr Verkaufstyp   \nId                                                                             \n2001           NaN               0.0             9          2018        GarK  \\\n2002           NaN               0.0             6          2018        GarK   \n2003           NaN               0.0             3          2016        GarK   \n2004          Schu             357.0            10          2016        GarK   \n2005           NaN               0.0            11          2019        GeBU   \n\n     Verkaufsbedingung  \nId                      \n2001            Normal  \n2002            Normal  \n2003            Normal  \n2004            Normal  \n2005            Normal  \n\n[5 rows x 79 columns]",
      "text/html": "<div>\n<style scoped>\n    .dataframe tbody tr th:only-of-type {\n        vertical-align: middle;\n    }\n\n    .dataframe tbody tr th {\n        vertical-align: top;\n    }\n\n    .dataframe thead th {\n        text-align: right;\n    }\n</style>\n<table border=\"1\" class=\"dataframe\">\n  <thead>\n    <tr style=\"text-align: right;\">\n      <th></th>\n      <th>Wohngebiet</th>\n      <th>Nachbarschaft</th>\n      <th>Bedingung1</th>\n      <th>Bedingung2</th>\n      <th>Wohnungsklasse</th>\n      <th>Gebauedetyp</th>\n      <th>Wohnungsstil</th>\n      <th>Baujahr</th>\n      <th>Umbaujahr</th>\n      <th>Hausqualitaet</th>\n      <th>...</th>\n      <th>Garagenflaeche</th>\n      <th>Garagenqualitaet</th>\n      <th>Garagenzustand</th>\n      <th>EinfahrtGepflastert</th>\n      <th>Sondermerkmal</th>\n      <th>SondermerkmalWert</th>\n      <th>Verkaufsmonat</th>\n      <th>Verkaufsjahr</th>\n      <th>Verkaufstyp</th>\n      <th>Verkaufsbedingung</th>\n    </tr>\n    <tr>\n      <th>Id</th>\n      <th></th>\n      <th></th>\n      <th></th>\n      <th></th>\n      <th></th>\n      <th></th>\n      <th></th>\n      <th></th>\n      <th></th>\n      <th></th>\n      <th></th>\n      <th></th>\n      <th></th>\n      <th></th>\n      <th></th>\n      <th></th>\n      <th></th>\n      <th></th>\n      <th></th>\n      <th></th>\n      <th></th>\n    </tr>\n  </thead>\n  <tbody>\n    <tr>\n      <th>2001</th>\n      <td>WN</td>\n      <td>Flughaf</td>\n      <td>Norm</td>\n      <td>Norm</td>\n      <td>120</td>\n      <td>StHau</td>\n      <td>1Sto</td>\n      <td>1987</td>\n      <td>1987</td>\n      <td>7</td>\n      <td>...</td>\n      <td>39.60</td>\n      <td>Du</td>\n      <td>Du</td>\n      <td>J</td>\n      <td>NaN</td>\n      <td>0.0</td>\n      <td>9</td>\n      <td>2018</td>\n      <td>GarK</td>\n      <td>Normal</td>\n    </tr>\n    <tr>\n      <th>2002</th>\n      <td>WM</td>\n      <td>Altstad</td>\n      <td>Norm</td>\n      <td>Norm</td>\n      <td>190</td>\n      <td>2famU</td>\n      <td>1.5V</td>\n      <td>1920</td>\n      <td>2006</td>\n      <td>4</td>\n      <td>...</td>\n      <td>0.00</td>\n      <td>NaN</td>\n      <td>NaN</td>\n      <td>N</td>\n      <td>NaN</td>\n      <td>0.0</td>\n      <td>6</td>\n      <td>2018</td>\n      <td>GarK</td>\n      <td>Normal</td>\n    </tr>\n    <tr>\n      <th>2003</th>\n      <td>WN</td>\n      <td>Altstad</td>\n      <td>Norm</td>\n      <td>Norm</td>\n      <td>50</td>\n      <td>1Fam</td>\n      <td>1.5V</td>\n      <td>1910</td>\n      <td>2008</td>\n      <td>4</td>\n      <td>...</td>\n      <td>25.20</td>\n      <td>Ar</td>\n      <td>Du</td>\n      <td>J</td>\n      <td>NaN</td>\n      <td>0.0</td>\n      <td>3</td>\n      <td>2016</td>\n      <td>GarK</td>\n      <td>Normal</td>\n    </tr>\n    <tr>\n      <th>2004</th>\n      <td>WN</td>\n      <td>Gallus</td>\n      <td>Zubr</td>\n      <td>Norm</td>\n      <td>70</td>\n      <td>1Fam</td>\n      <td>2Sto</td>\n      <td>1920</td>\n      <td>2010</td>\n      <td>4</td>\n      <td>...</td>\n      <td>47.52</td>\n      <td>Du</td>\n      <td>Du</td>\n      <td>J</td>\n      <td>Schu</td>\n      <td>357.0</td>\n      <td>10</td>\n      <td>2016</td>\n      <td>GarK</td>\n      <td>Normal</td>\n    </tr>\n    <tr>\n      <th>2005</th>\n      <td>WN</td>\n      <td>Dornbus</td>\n      <td>Norm</td>\n      <td>Norm</td>\n      <td>20</td>\n      <td>1Fam</td>\n      <td>1Sto</td>\n      <td>1965</td>\n      <td>2003</td>\n      <td>5</td>\n      <td>...</td>\n      <td>27.27</td>\n      <td>Du</td>\n      <td>Du</td>\n      <td>J</td>\n      <td>NaN</td>\n      <td>0.0</td>\n      <td>11</td>\n      <td>2019</td>\n      <td>GeBU</td>\n      <td>Normal</td>\n    </tr>\n  </tbody>\n</table>\n<p>5 rows × 79 columns</p>\n</div>"
     },
     "execution_count": 3,
     "metadata": {},
     "output_type": "execute_result"
    }
   ],
   "source": [
    "df_test.head()"
   ],
   "metadata": {
    "collapsed": false,
    "ExecuteTime": {
     "end_time": "2024-02-04T11:54:24.035345800Z",
     "start_time": "2024-02-04T11:54:24.001385400Z"
    }
   },
   "id": "edd0870d64d1c650"
  },
  {
   "cell_type": "markdown",
   "source": [
    "Da die Test-datei keinen Verkaufspreis enthält und deshalb eine Spalte wegniger als die Train-datei hat, wird der Verkaufspreis ausgeschnitten."
   ],
   "metadata": {
    "collapsed": false
   },
   "id": "d58a00110c07d57b"
  },
  {
   "cell_type": "code",
   "execution_count": 4,
   "outputs": [
    {
     "data": {
      "text/plain": "   Wohngebiet Nachbarschaft Bedingung1 Bedingung2  Wohnungsklasse Gebauedetyp   \nId                                                                              \n1          WN        Gallus       Norm       Norm              20        1Fam  \\\n2          WN        Gallus       Norm       Norm              20        1Fam   \n3          WN       Eckenhe       Norm       Norm              50        1Fam   \n4          WN       Ginnhei       Norm       Norm              60        1Fam   \n5          WN       Eckenhe       Norm       Norm              70        1Fam   \n\n   Wohnungsstil  Baujahr  Umbaujahr  Hausqualitaet  ...  Garagenflaeche   \nId                                                  ...                   \n1          1Sto     1962       1962              3  ...           47.52  \\\n2          1Sto     2015       2016              5  ...           40.50   \n3          2Sto     1930       1960              6  ...           28.62   \n4          2Sto     2009       2010              6  ...           41.40   \n5          2Sto     1939       1960              8  ...           36.00   \n\n   Garagenqualitaet  Garagenzustand EinfahrtGepflastert Sondermerkmal   \nId                                                                      \n1                Du              Ar                   J           NaN  \\\n2                Du              Du                   J           NaN   \n3                Du              Du                   P           NaN   \n4                Du              Du                   J           NaN   \n5                Du              Du                   J           NaN   \n\n   SondermerkmalWert Verkaufsmonat  Verkaufsjahr Verkaufstyp Verkaufsbedingung  \nId                                                                              \n1                0.0             7          2019        GarK            Normal  \n2                0.0             6          2017        GarK            Normal  \n3                0.0             9          2016        GarK            Normal  \n4                0.0             5          2017        GarK            Normal  \n5                0.0             6          2016        GarK            Normal  \n\n[5 rows x 79 columns]",
      "text/html": "<div>\n<style scoped>\n    .dataframe tbody tr th:only-of-type {\n        vertical-align: middle;\n    }\n\n    .dataframe tbody tr th {\n        vertical-align: top;\n    }\n\n    .dataframe thead th {\n        text-align: right;\n    }\n</style>\n<table border=\"1\" class=\"dataframe\">\n  <thead>\n    <tr style=\"text-align: right;\">\n      <th></th>\n      <th>Wohngebiet</th>\n      <th>Nachbarschaft</th>\n      <th>Bedingung1</th>\n      <th>Bedingung2</th>\n      <th>Wohnungsklasse</th>\n      <th>Gebauedetyp</th>\n      <th>Wohnungsstil</th>\n      <th>Baujahr</th>\n      <th>Umbaujahr</th>\n      <th>Hausqualitaet</th>\n      <th>...</th>\n      <th>Garagenflaeche</th>\n      <th>Garagenqualitaet</th>\n      <th>Garagenzustand</th>\n      <th>EinfahrtGepflastert</th>\n      <th>Sondermerkmal</th>\n      <th>SondermerkmalWert</th>\n      <th>Verkaufsmonat</th>\n      <th>Verkaufsjahr</th>\n      <th>Verkaufstyp</th>\n      <th>Verkaufsbedingung</th>\n    </tr>\n    <tr>\n      <th>Id</th>\n      <th></th>\n      <th></th>\n      <th></th>\n      <th></th>\n      <th></th>\n      <th></th>\n      <th></th>\n      <th></th>\n      <th></th>\n      <th></th>\n      <th></th>\n      <th></th>\n      <th></th>\n      <th></th>\n      <th></th>\n      <th></th>\n      <th></th>\n      <th></th>\n      <th></th>\n      <th></th>\n      <th></th>\n    </tr>\n  </thead>\n  <tbody>\n    <tr>\n      <th>1</th>\n      <td>WN</td>\n      <td>Gallus</td>\n      <td>Norm</td>\n      <td>Norm</td>\n      <td>20</td>\n      <td>1Fam</td>\n      <td>1Sto</td>\n      <td>1962</td>\n      <td>1962</td>\n      <td>3</td>\n      <td>...</td>\n      <td>47.52</td>\n      <td>Du</td>\n      <td>Ar</td>\n      <td>J</td>\n      <td>NaN</td>\n      <td>0.0</td>\n      <td>7</td>\n      <td>2019</td>\n      <td>GarK</td>\n      <td>Normal</td>\n    </tr>\n    <tr>\n      <th>2</th>\n      <td>WN</td>\n      <td>Gallus</td>\n      <td>Norm</td>\n      <td>Norm</td>\n      <td>20</td>\n      <td>1Fam</td>\n      <td>1Sto</td>\n      <td>2015</td>\n      <td>2016</td>\n      <td>5</td>\n      <td>...</td>\n      <td>40.50</td>\n      <td>Du</td>\n      <td>Du</td>\n      <td>J</td>\n      <td>NaN</td>\n      <td>0.0</td>\n      <td>6</td>\n      <td>2017</td>\n      <td>GarK</td>\n      <td>Normal</td>\n    </tr>\n    <tr>\n      <th>3</th>\n      <td>WN</td>\n      <td>Eckenhe</td>\n      <td>Norm</td>\n      <td>Norm</td>\n      <td>50</td>\n      <td>1Fam</td>\n      <td>2Sto</td>\n      <td>1930</td>\n      <td>1960</td>\n      <td>6</td>\n      <td>...</td>\n      <td>28.62</td>\n      <td>Du</td>\n      <td>Du</td>\n      <td>P</td>\n      <td>NaN</td>\n      <td>0.0</td>\n      <td>9</td>\n      <td>2016</td>\n      <td>GarK</td>\n      <td>Normal</td>\n    </tr>\n    <tr>\n      <th>4</th>\n      <td>WN</td>\n      <td>Ginnhei</td>\n      <td>Norm</td>\n      <td>Norm</td>\n      <td>60</td>\n      <td>1Fam</td>\n      <td>2Sto</td>\n      <td>2009</td>\n      <td>2010</td>\n      <td>6</td>\n      <td>...</td>\n      <td>41.40</td>\n      <td>Du</td>\n      <td>Du</td>\n      <td>J</td>\n      <td>NaN</td>\n      <td>0.0</td>\n      <td>5</td>\n      <td>2017</td>\n      <td>GarK</td>\n      <td>Normal</td>\n    </tr>\n    <tr>\n      <th>5</th>\n      <td>WN</td>\n      <td>Eckenhe</td>\n      <td>Norm</td>\n      <td>Norm</td>\n      <td>70</td>\n      <td>1Fam</td>\n      <td>2Sto</td>\n      <td>1939</td>\n      <td>1960</td>\n      <td>8</td>\n      <td>...</td>\n      <td>36.00</td>\n      <td>Du</td>\n      <td>Du</td>\n      <td>J</td>\n      <td>NaN</td>\n      <td>0.0</td>\n      <td>6</td>\n      <td>2016</td>\n      <td>GarK</td>\n      <td>Normal</td>\n    </tr>\n  </tbody>\n</table>\n<p>5 rows × 79 columns</p>\n</div>"
     },
     "execution_count": 4,
     "metadata": {},
     "output_type": "execute_result"
    }
   ],
   "source": [
    "y_train = df_train['Verkaufspreis']\n",
    "df_train = df_train.drop(['Verkaufspreis'], axis=1)\n",
    "df_train.head()"
   ],
   "metadata": {
    "collapsed": false,
    "ExecuteTime": {
     "end_time": "2024-02-04T11:54:29.444933100Z",
     "start_time": "2024-02-04T11:54:29.413883500Z"
    }
   },
   "id": "e8a18853db49ad81"
  },
  {
   "cell_type": "code",
   "execution_count": 5,
   "outputs": [
    {
     "name": "stdout",
     "output_type": "stream",
     "text": [
      "<class 'pandas.core.frame.DataFrame'>\n",
      "Index: 2000 entries, 1 to 2000\n",
      "Data columns (total 79 columns):\n",
      " #   Column                       Non-Null Count  Dtype  \n",
      "---  ------                       --------------  -----  \n",
      " 0   Wohngebiet                   1997 non-null   object \n",
      " 1   Nachbarschaft                2000 non-null   object \n",
      " 2   Bedingung1                   2000 non-null   object \n",
      " 3   Bedingung2                   2000 non-null   object \n",
      " 4   Wohnungsklasse               2000 non-null   int64  \n",
      " 5   Gebauedetyp                  2000 non-null   object \n",
      " 6   Wohnungsstil                 2000 non-null   object \n",
      " 7   Baujahr                      2000 non-null   int64  \n",
      " 8   Umbaujahr                    2000 non-null   int64  \n",
      " 9   Hausqualitaet                2000 non-null   int64  \n",
      " 10  Hauszustand                  2000 non-null   int64  \n",
      " 11  Versorgung                   1998 non-null   object \n",
      " 12  Grundstuecksgroesse          2000 non-null   float64\n",
      " 13  Grundstuecksform             2000 non-null   object \n",
      " 14  Gelaendekontur               2000 non-null   object \n",
      " 15  Gelaendeneigung              2000 non-null   object \n",
      " 16  Grundstueckanordnung         2000 non-null   object \n",
      " 17  Strassenlaenge               1662 non-null   float64\n",
      " 18  Strassentyp                  2000 non-null   object \n",
      " 19  Zufahrtsweg                  132 non-null    object \n",
      " 20  Fundament                    2000 non-null   object \n",
      " 21  Mauerwerktyp                 1986 non-null   object \n",
      " 22  Mauerwerkflaeche             1986 non-null   float64\n",
      " 23  Verkleidung1                 2000 non-null   object \n",
      " 24  Verkleidung2                 2000 non-null   object \n",
      " 25  Dachtyp                      2000 non-null   object \n",
      " 26  Dachmeterial                 2000 non-null   object \n",
      " 27  Aussenmaterialqualitaet      2000 non-null   object \n",
      " 28  Aussenmaterialzustand        2000 non-null   object \n",
      " 29  Kellerhoehe                  1935 non-null   object \n",
      " 30  Kellerzustand                1935 non-null   object \n",
      " 31  Kellerbelichtung             1934 non-null   object \n",
      " 32  Kellerbereich1               1937 non-null   object \n",
      " 33  Kellerbereichgroesse1        1999 non-null   float64\n",
      " 34  Kellerbereich2               1937 non-null   object \n",
      " 35  Kellerbereichgroesse2        1999 non-null   float64\n",
      " 36  KellerbereichgroesseNAu      1999 non-null   float64\n",
      " 37  KellerbereichgroesseGes      1999 non-null   float64\n",
      " 38  KellerVollbadezimmer         1998 non-null   float64\n",
      " 39  KellerHalbbadezimmer         1998 non-null   float64\n",
      " 40  OberirdischeWohnflaeche      2000 non-null   float64\n",
      " 41  1Stockflaeche                2000 non-null   float64\n",
      " 42  2Stockflaeche                2000 non-null   float64\n",
      " 43  GeringequalitaetFlaeche      2000 non-null   float64\n",
      " 44  OberirdischeRaueme           2000 non-null   int64  \n",
      " 45  Funktionalitaet              1998 non-null   object \n",
      " 46  OberirdischeVollbadezimmer   2000 non-null   int64  \n",
      " 47  OberirdischeHalbbadezimmer   2000 non-null   int64  \n",
      " 48  Schlafzimmer                 2000 non-null   int64  \n",
      " 49  Kuechen                      2000 non-null   int64  \n",
      " 50  KuechenQualitaet             1999 non-null   object \n",
      " 51  Kamine                       2000 non-null   int64  \n",
      " 52  Kaminqualitaet               1040 non-null   object \n",
      " 53  Heizung                      2000 non-null   object \n",
      " 54  Heizungsqualitaet            2000 non-null   object \n",
      " 55  Klimalanlage                 2000 non-null   object \n",
      " 56  Elektrik                     1999 non-null   object \n",
      " 57  Holzdeckflaeche              2000 non-null   float64\n",
      " 58  OffeneVerandaflaeche         2000 non-null   float64\n",
      " 59  GeschlosseneVerandaflaeche   2000 non-null   float64\n",
      " 60  3JahreszeitenVerandaflaeche  2000 non-null   float64\n",
      " 61  AbgeschirmteVerandaflaeche   2000 non-null   float64\n",
      " 62  Poolflaeche                  2000 non-null   float64\n",
      " 63  Poolqualitaet                10 non-null     object \n",
      " 64  Zaunqualitaet                393 non-null    object \n",
      " 65  Garagentyp                   1893 non-null   object \n",
      " 66  Garagenbaujahr               1892 non-null   float64\n",
      " 67  Garageninnenausbau           1892 non-null   object \n",
      " 68  Garagenautos                 1999 non-null   float64\n",
      " 69  Garagenflaeche               1999 non-null   float64\n",
      " 70  Garagenqualitaet             1892 non-null   object \n",
      " 71  Garagenzustand               1892 non-null   object \n",
      " 72  EinfahrtGepflastert          2000 non-null   object \n",
      " 73  Sondermerkmal                68 non-null     object \n",
      " 74  SondermerkmalWert            2000 non-null   float64\n",
      " 75  Verkaufsmonat                2000 non-null   int64  \n",
      " 76  Verkaufsjahr                 2000 non-null   int64  \n",
      " 77  Verkaufstyp                  1999 non-null   object \n",
      " 78  Verkaufsbedingung            2000 non-null   object \n",
      "dtypes: float64(23), int64(13), object(43)\n",
      "memory usage: 1.2+ MB\n",
      "None\n"
     ]
    }
   ],
   "source": [
    "print(df_train.info())"
   ],
   "metadata": {
    "collapsed": false,
    "ExecuteTime": {
     "end_time": "2024-02-04T11:54:51.150530600Z",
     "start_time": "2024-02-04T11:54:51.134754100Z"
    }
   },
   "id": "6997484db6e80eb7"
  },
  {
   "cell_type": "code",
   "execution_count": 6,
   "outputs": [
    {
     "name": "stdout",
     "output_type": "stream",
     "text": [
      "<class 'pandas.core.frame.DataFrame'>\n",
      "Index: 919 entries, 2001 to 2919\n",
      "Data columns (total 79 columns):\n",
      " #   Column                       Non-Null Count  Dtype  \n",
      "---  ------                       --------------  -----  \n",
      " 0   Wohngebiet                   918 non-null    object \n",
      " 1   Nachbarschaft                919 non-null    object \n",
      " 2   Bedingung1                   919 non-null    object \n",
      " 3   Bedingung2                   919 non-null    object \n",
      " 4   Wohnungsklasse               919 non-null    int64  \n",
      " 5   Gebauedetyp                  919 non-null    object \n",
      " 6   Wohnungsstil                 919 non-null    object \n",
      " 7   Baujahr                      919 non-null    int64  \n",
      " 8   Umbaujahr                    919 non-null    int64  \n",
      " 9   Hausqualitaet                919 non-null    int64  \n",
      " 10  Hauszustand                  919 non-null    int64  \n",
      " 11  Versorgung                   919 non-null    object \n",
      " 12  Grundstuecksgroesse          919 non-null    float64\n",
      " 13  Grundstuecksform             919 non-null    object \n",
      " 14  Gelaendekontur               919 non-null    object \n",
      " 15  Gelaendeneigung              919 non-null    object \n",
      " 16  Grundstueckanordnung         919 non-null    object \n",
      " 17  Strassenlaenge               771 non-null    float64\n",
      " 18  Strassentyp                  919 non-null    object \n",
      " 19  Zufahrtsweg                  66 non-null     object \n",
      " 20  Fundament                    919 non-null    object \n",
      " 21  Mauerwerktyp                 909 non-null    object \n",
      " 22  Mauerwerkflaeche             910 non-null    float64\n",
      " 23  Verkleidung1                 918 non-null    object \n",
      " 24  Verkleidung2                 918 non-null    object \n",
      " 25  Dachtyp                      919 non-null    object \n",
      " 26  Dachmeterial                 919 non-null    object \n",
      " 27  Aussenmaterialqualitaet      919 non-null    object \n",
      " 28  Aussenmaterialzustand        919 non-null    object \n",
      " 29  Kellerhoehe                  903 non-null    object \n",
      " 30  Kellerzustand                902 non-null    object \n",
      " 31  Kellerbelichtung             903 non-null    object \n",
      " 32  Kellerbereich1               903 non-null    object \n",
      " 33  Kellerbereichgroesse1        919 non-null    float64\n",
      " 34  Kellerbereich2               902 non-null    object \n",
      " 35  Kellerbereichgroesse2        919 non-null    float64\n",
      " 36  KellerbereichgroesseNAu      919 non-null    float64\n",
      " 37  KellerbereichgroesseGes      919 non-null    float64\n",
      " 38  KellerVollbadezimmer         919 non-null    float64\n",
      " 39  KellerHalbbadezimmer         919 non-null    float64\n",
      " 40  OberirdischeWohnflaeche      919 non-null    float64\n",
      " 41  1Stockflaeche                919 non-null    float64\n",
      " 42  2Stockflaeche                919 non-null    float64\n",
      " 43  GeringequalitaetFlaeche      919 non-null    float64\n",
      " 44  OberirdischeRaueme           919 non-null    int64  \n",
      " 45  Funktionalitaet              919 non-null    object \n",
      " 46  OberirdischeVollbadezimmer   919 non-null    int64  \n",
      " 47  OberirdischeHalbbadezimmer   919 non-null    int64  \n",
      " 48  Schlafzimmer                 919 non-null    int64  \n",
      " 49  Kuechen                      919 non-null    int64  \n",
      " 50  KuechenQualitaet             919 non-null    object \n",
      " 51  Kamine                       919 non-null    int64  \n",
      " 52  Kaminqualitaet               459 non-null    object \n",
      " 53  Heizung                      919 non-null    object \n",
      " 54  Heizungsqualitaet            919 non-null    object \n",
      " 55  Klimalanlage                 919 non-null    object \n",
      " 56  Elektrik                     919 non-null    object \n",
      " 57  Holzdeckflaeche              919 non-null    float64\n",
      " 58  OffeneVerandaflaeche         919 non-null    float64\n",
      " 59  GeschlosseneVerandaflaeche   919 non-null    float64\n",
      " 60  3JahreszeitenVerandaflaeche  919 non-null    float64\n",
      " 61  AbgeschirmteVerandaflaeche   919 non-null    float64\n",
      " 62  Poolflaeche                  919 non-null    float64\n",
      " 63  Poolqualitaet                0 non-null      float64\n",
      " 64  Zaunqualitaet                178 non-null    object \n",
      " 65  Garagentyp                   869 non-null    object \n",
      " 66  Garagenbaujahr               868 non-null    float64\n",
      " 67  Garageninnenausbau           868 non-null    object \n",
      " 68  Garagenautos                 919 non-null    float64\n",
      " 69  Garagenflaeche               919 non-null    float64\n",
      " 70  Garagenqualitaet             868 non-null    object \n",
      " 71  Garagenzustand               868 non-null    object \n",
      " 72  EinfahrtGepflastert          919 non-null    object \n",
      " 73  Sondermerkmal                37 non-null     object \n",
      " 74  SondermerkmalWert            919 non-null    float64\n",
      " 75  Verkaufsmonat                919 non-null    int64  \n",
      " 76  Verkaufsjahr                 919 non-null    int64  \n",
      " 77  Verkaufstyp                  919 non-null    object \n",
      " 78  Verkaufsbedingung            919 non-null    object \n",
      "dtypes: float64(24), int64(13), object(42)\n",
      "memory usage: 574.4+ KB\n",
      "None\n"
     ]
    }
   ],
   "source": [
    "print(df_test.info())"
   ],
   "metadata": {
    "collapsed": false,
    "ExecuteTime": {
     "end_time": "2024-02-04T11:54:51.754740400Z",
     "start_time": "2024-02-04T11:54:51.738765Z"
    }
   },
   "id": "b608d752f7e22156"
  },
  {
   "cell_type": "code",
   "execution_count": 7,
   "outputs": [
    {
     "data": {
      "text/plain": "Id\n1        69700.00\n2       133450.00\n3       165750.00\n4       157250.00\n5       195500.00\n          ...    \n1996    110500.00\n1997    166600.00\n1998    315321.95\n1999    124100.00\n2000    155465.00\nName: Verkaufspreis, Length: 2000, dtype: float64"
     },
     "execution_count": 7,
     "metadata": {},
     "output_type": "execute_result"
    }
   ],
   "source": [
    "y_train"
   ],
   "metadata": {
    "collapsed": false,
    "ExecuteTime": {
     "end_time": "2024-02-04T11:57:37.090001600Z",
     "start_time": "2024-02-04T11:57:37.074095700Z"
    }
   },
   "id": "ef105919a6a58f7b"
  },
  {
   "cell_type": "markdown",
   "source": [
    "Für einfache Datenvorverarbeitung sind beide Train-daten und Test-daten auf eine DataFrame zusammengestellt."
   ],
   "metadata": {
    "collapsed": false
   },
   "id": "639b4f279c56bf38"
  },
  {
   "cell_type": "code",
   "execution_count": 8,
   "outputs": [
    {
     "name": "stdout",
     "output_type": "stream",
     "text": [
      "<class 'pandas.core.frame.DataFrame'>\n",
      "Index: 2919 entries, 1 to 2919\n",
      "Data columns (total 79 columns):\n",
      " #   Column                       Non-Null Count  Dtype  \n",
      "---  ------                       --------------  -----  \n",
      " 0   Wohngebiet                   2915 non-null   object \n",
      " 1   Nachbarschaft                2919 non-null   object \n",
      " 2   Bedingung1                   2919 non-null   object \n",
      " 3   Bedingung2                   2919 non-null   object \n",
      " 4   Wohnungsklasse               2919 non-null   int64  \n",
      " 5   Gebauedetyp                  2919 non-null   object \n",
      " 6   Wohnungsstil                 2919 non-null   object \n",
      " 7   Baujahr                      2919 non-null   int64  \n",
      " 8   Umbaujahr                    2919 non-null   int64  \n",
      " 9   Hausqualitaet                2919 non-null   int64  \n",
      " 10  Hauszustand                  2919 non-null   int64  \n",
      " 11  Versorgung                   2917 non-null   object \n",
      " 12  Grundstuecksgroesse          2919 non-null   float64\n",
      " 13  Grundstuecksform             2919 non-null   object \n",
      " 14  Gelaendekontur               2919 non-null   object \n",
      " 15  Gelaendeneigung              2919 non-null   object \n",
      " 16  Grundstueckanordnung         2919 non-null   object \n",
      " 17  Strassenlaenge               2433 non-null   float64\n",
      " 18  Strassentyp                  2919 non-null   object \n",
      " 19  Zufahrtsweg                  198 non-null    object \n",
      " 20  Fundament                    2919 non-null   object \n",
      " 21  Mauerwerktyp                 2895 non-null   object \n",
      " 22  Mauerwerkflaeche             2896 non-null   float64\n",
      " 23  Verkleidung1                 2918 non-null   object \n",
      " 24  Verkleidung2                 2918 non-null   object \n",
      " 25  Dachtyp                      2919 non-null   object \n",
      " 26  Dachmeterial                 2919 non-null   object \n",
      " 27  Aussenmaterialqualitaet      2919 non-null   object \n",
      " 28  Aussenmaterialzustand        2919 non-null   object \n",
      " 29  Kellerhoehe                  2838 non-null   object \n",
      " 30  Kellerzustand                2837 non-null   object \n",
      " 31  Kellerbelichtung             2837 non-null   object \n",
      " 32  Kellerbereich1               2840 non-null   object \n",
      " 33  Kellerbereichgroesse1        2918 non-null   float64\n",
      " 34  Kellerbereich2               2839 non-null   object \n",
      " 35  Kellerbereichgroesse2        2918 non-null   float64\n",
      " 36  KellerbereichgroesseNAu      2918 non-null   float64\n",
      " 37  KellerbereichgroesseGes      2918 non-null   float64\n",
      " 38  KellerVollbadezimmer         2917 non-null   float64\n",
      " 39  KellerHalbbadezimmer         2917 non-null   float64\n",
      " 40  OberirdischeWohnflaeche      2919 non-null   float64\n",
      " 41  1Stockflaeche                2919 non-null   float64\n",
      " 42  2Stockflaeche                2919 non-null   float64\n",
      " 43  GeringequalitaetFlaeche      2919 non-null   float64\n",
      " 44  OberirdischeRaueme           2919 non-null   int64  \n",
      " 45  Funktionalitaet              2917 non-null   object \n",
      " 46  OberirdischeVollbadezimmer   2919 non-null   int64  \n",
      " 47  OberirdischeHalbbadezimmer   2919 non-null   int64  \n",
      " 48  Schlafzimmer                 2919 non-null   int64  \n",
      " 49  Kuechen                      2919 non-null   int64  \n",
      " 50  KuechenQualitaet             2918 non-null   object \n",
      " 51  Kamine                       2919 non-null   int64  \n",
      " 52  Kaminqualitaet               1499 non-null   object \n",
      " 53  Heizung                      2919 non-null   object \n",
      " 54  Heizungsqualitaet            2919 non-null   object \n",
      " 55  Klimalanlage                 2919 non-null   object \n",
      " 56  Elektrik                     2918 non-null   object \n",
      " 57  Holzdeckflaeche              2919 non-null   float64\n",
      " 58  OffeneVerandaflaeche         2919 non-null   float64\n",
      " 59  GeschlosseneVerandaflaeche   2919 non-null   float64\n",
      " 60  3JahreszeitenVerandaflaeche  2919 non-null   float64\n",
      " 61  AbgeschirmteVerandaflaeche   2919 non-null   float64\n",
      " 62  Poolflaeche                  2919 non-null   float64\n",
      " 63  Poolqualitaet                10 non-null     object \n",
      " 64  Zaunqualitaet                571 non-null    object \n",
      " 65  Garagentyp                   2762 non-null   object \n",
      " 66  Garagenbaujahr               2760 non-null   float64\n",
      " 67  Garageninnenausbau           2760 non-null   object \n",
      " 68  Garagenautos                 2918 non-null   float64\n",
      " 69  Garagenflaeche               2918 non-null   float64\n",
      " 70  Garagenqualitaet             2760 non-null   object \n",
      " 71  Garagenzustand               2760 non-null   object \n",
      " 72  EinfahrtGepflastert          2919 non-null   object \n",
      " 73  Sondermerkmal                105 non-null    object \n",
      " 74  SondermerkmalWert            2919 non-null   float64\n",
      " 75  Verkaufsmonat                2919 non-null   int64  \n",
      " 76  Verkaufsjahr                 2919 non-null   int64  \n",
      " 77  Verkaufstyp                  2918 non-null   object \n",
      " 78  Verkaufsbedingung            2919 non-null   object \n",
      "dtypes: float64(23), int64(13), object(43)\n",
      "memory usage: 1.8+ MB\n",
      "None\n"
     ]
    }
   ],
   "source": [
    "df_all = pd.concat([df_train, df_test])\n",
    "print(df_all.info())"
   ],
   "metadata": {
    "collapsed": false,
    "ExecuteTime": {
     "end_time": "2024-02-04T11:59:26.673381600Z",
     "start_time": "2024-02-04T11:59:26.657187300Z"
    }
   },
   "id": "b2ba9cd9fe5e2e3d"
  },
  {
   "cell_type": "code",
   "execution_count": 9,
   "outputs": [
    {
     "data": {
      "text/plain": "   Wohngebiet Nachbarschaft Bedingung1 Bedingung2  Wohnungsklasse Gebauedetyp   \nId                                                                              \n1          WN        Gallus       Norm       Norm              20        1Fam  \\\n2          WN        Gallus       Norm       Norm              20        1Fam   \n3          WN       Eckenhe       Norm       Norm              50        1Fam   \n4          WN       Ginnhei       Norm       Norm              60        1Fam   \n5          WN       Eckenhe       Norm       Norm              70        1Fam   \n\n   Wohnungsstil  Baujahr  Umbaujahr  Hausqualitaet  ...  Garagenflaeche   \nId                                                  ...                   \n1          1Sto     1962       1962              3  ...           47.52  \\\n2          1Sto     2015       2016              5  ...           40.50   \n3          2Sto     1930       1960              6  ...           28.62   \n4          2Sto     2009       2010              6  ...           41.40   \n5          2Sto     1939       1960              8  ...           36.00   \n\n   Garagenqualitaet  Garagenzustand EinfahrtGepflastert Sondermerkmal   \nId                                                                      \n1                Du              Ar                   J           NaN  \\\n2                Du              Du                   J           NaN   \n3                Du              Du                   P           NaN   \n4                Du              Du                   J           NaN   \n5                Du              Du                   J           NaN   \n\n   SondermerkmalWert Verkaufsmonat  Verkaufsjahr Verkaufstyp Verkaufsbedingung  \nId                                                                              \n1                0.0             7          2019        GarK            Normal  \n2                0.0             6          2017        GarK            Normal  \n3                0.0             9          2016        GarK            Normal  \n4                0.0             5          2017        GarK            Normal  \n5                0.0             6          2016        GarK            Normal  \n\n[5 rows x 79 columns]",
      "text/html": "<div>\n<style scoped>\n    .dataframe tbody tr th:only-of-type {\n        vertical-align: middle;\n    }\n\n    .dataframe tbody tr th {\n        vertical-align: top;\n    }\n\n    .dataframe thead th {\n        text-align: right;\n    }\n</style>\n<table border=\"1\" class=\"dataframe\">\n  <thead>\n    <tr style=\"text-align: right;\">\n      <th></th>\n      <th>Wohngebiet</th>\n      <th>Nachbarschaft</th>\n      <th>Bedingung1</th>\n      <th>Bedingung2</th>\n      <th>Wohnungsklasse</th>\n      <th>Gebauedetyp</th>\n      <th>Wohnungsstil</th>\n      <th>Baujahr</th>\n      <th>Umbaujahr</th>\n      <th>Hausqualitaet</th>\n      <th>...</th>\n      <th>Garagenflaeche</th>\n      <th>Garagenqualitaet</th>\n      <th>Garagenzustand</th>\n      <th>EinfahrtGepflastert</th>\n      <th>Sondermerkmal</th>\n      <th>SondermerkmalWert</th>\n      <th>Verkaufsmonat</th>\n      <th>Verkaufsjahr</th>\n      <th>Verkaufstyp</th>\n      <th>Verkaufsbedingung</th>\n    </tr>\n    <tr>\n      <th>Id</th>\n      <th></th>\n      <th></th>\n      <th></th>\n      <th></th>\n      <th></th>\n      <th></th>\n      <th></th>\n      <th></th>\n      <th></th>\n      <th></th>\n      <th></th>\n      <th></th>\n      <th></th>\n      <th></th>\n      <th></th>\n      <th></th>\n      <th></th>\n      <th></th>\n      <th></th>\n      <th></th>\n      <th></th>\n    </tr>\n  </thead>\n  <tbody>\n    <tr>\n      <th>1</th>\n      <td>WN</td>\n      <td>Gallus</td>\n      <td>Norm</td>\n      <td>Norm</td>\n      <td>20</td>\n      <td>1Fam</td>\n      <td>1Sto</td>\n      <td>1962</td>\n      <td>1962</td>\n      <td>3</td>\n      <td>...</td>\n      <td>47.52</td>\n      <td>Du</td>\n      <td>Ar</td>\n      <td>J</td>\n      <td>NaN</td>\n      <td>0.0</td>\n      <td>7</td>\n      <td>2019</td>\n      <td>GarK</td>\n      <td>Normal</td>\n    </tr>\n    <tr>\n      <th>2</th>\n      <td>WN</td>\n      <td>Gallus</td>\n      <td>Norm</td>\n      <td>Norm</td>\n      <td>20</td>\n      <td>1Fam</td>\n      <td>1Sto</td>\n      <td>2015</td>\n      <td>2016</td>\n      <td>5</td>\n      <td>...</td>\n      <td>40.50</td>\n      <td>Du</td>\n      <td>Du</td>\n      <td>J</td>\n      <td>NaN</td>\n      <td>0.0</td>\n      <td>6</td>\n      <td>2017</td>\n      <td>GarK</td>\n      <td>Normal</td>\n    </tr>\n    <tr>\n      <th>3</th>\n      <td>WN</td>\n      <td>Eckenhe</td>\n      <td>Norm</td>\n      <td>Norm</td>\n      <td>50</td>\n      <td>1Fam</td>\n      <td>2Sto</td>\n      <td>1930</td>\n      <td>1960</td>\n      <td>6</td>\n      <td>...</td>\n      <td>28.62</td>\n      <td>Du</td>\n      <td>Du</td>\n      <td>P</td>\n      <td>NaN</td>\n      <td>0.0</td>\n      <td>9</td>\n      <td>2016</td>\n      <td>GarK</td>\n      <td>Normal</td>\n    </tr>\n    <tr>\n      <th>4</th>\n      <td>WN</td>\n      <td>Ginnhei</td>\n      <td>Norm</td>\n      <td>Norm</td>\n      <td>60</td>\n      <td>1Fam</td>\n      <td>2Sto</td>\n      <td>2009</td>\n      <td>2010</td>\n      <td>6</td>\n      <td>...</td>\n      <td>41.40</td>\n      <td>Du</td>\n      <td>Du</td>\n      <td>J</td>\n      <td>NaN</td>\n      <td>0.0</td>\n      <td>5</td>\n      <td>2017</td>\n      <td>GarK</td>\n      <td>Normal</td>\n    </tr>\n    <tr>\n      <th>5</th>\n      <td>WN</td>\n      <td>Eckenhe</td>\n      <td>Norm</td>\n      <td>Norm</td>\n      <td>70</td>\n      <td>1Fam</td>\n      <td>2Sto</td>\n      <td>1939</td>\n      <td>1960</td>\n      <td>8</td>\n      <td>...</td>\n      <td>36.00</td>\n      <td>Du</td>\n      <td>Du</td>\n      <td>J</td>\n      <td>NaN</td>\n      <td>0.0</td>\n      <td>6</td>\n      <td>2016</td>\n      <td>GarK</td>\n      <td>Normal</td>\n    </tr>\n  </tbody>\n</table>\n<p>5 rows × 79 columns</p>\n</div>"
     },
     "execution_count": 9,
     "metadata": {},
     "output_type": "execute_result"
    }
   ],
   "source": [
    "df_all.head()"
   ],
   "metadata": {
    "collapsed": false,
    "ExecuteTime": {
     "end_time": "2024-02-04T11:59:30.952592400Z",
     "start_time": "2024-02-04T11:59:30.935523600Z"
    }
   },
   "id": "a2e70a67b75b8fd6"
  },
  {
   "cell_type": "markdown",
   "source": [
    "---\n",
    "\n",
    "# Datenvorverarbeitung\n",
    "\n",
    "Da viele Spalten kategorische Variablen haben, werden diese zunächst in numerische Werte umgewandelt, um für den Random Forest vorzubereiten."
   ],
   "metadata": {
    "collapsed": false
   },
   "id": "86209c4805a15664"
  },
  {
   "cell_type": "code",
   "execution_count": 10,
   "outputs": [
    {
     "data": {
      "text/plain": "    Wohngebiet  Nachbarschaft  Bedingung1  Bedingung2  Wohnungsklasse   \nId                                                                      \n1            4              8           5           4              20  \\\n2            4              8           5           4              20   \n3            4              5           5           4              50   \n4            4              9           5           4              60   \n5            4              5           5           4              70   \n\n    Gebauedetyp  Wohnungsstil  Baujahr  Umbaujahr  Hausqualitaet  ...   \nId                                                                ...   \n1             0             2     1962       1962              3  ...  \\\n2             0             2     2015       2016              5  ...   \n3             0             5     1930       1960              6  ...   \n4             0             5     2009       2010              6  ...   \n5             0             5     1939       1960              8  ...   \n\n    Garagenflaeche  Garagenqualitaet  Garagenzustand  EinfahrtGepflastert   \nId                                                                          \n1            47.52                 2               1                    0  \\\n2            40.50                 2               2                    0   \n3            28.62                 2               2                    2   \n4            41.40                 2               2                    0   \n5            36.00                 2               2                    0   \n\n    Sondermerkmal  SondermerkmalWert  Verkaufsmonat  Verkaufsjahr   \nId                                                                  \n1               4                0.0              7          2019  \\\n2               4                0.0              6          2017   \n3               4                0.0              9          2016   \n4               4                0.0              5          2017   \n5               4                0.0              6          2016   \n\n    Verkaufstyp  Verkaufsbedingung  \nId                                  \n1             2                  3  \n2             2                  3  \n3             2                  3  \n4             2                  3  \n5             2                  3  \n\n[5 rows x 79 columns]",
      "text/html": "<div>\n<style scoped>\n    .dataframe tbody tr th:only-of-type {\n        vertical-align: middle;\n    }\n\n    .dataframe tbody tr th {\n        vertical-align: top;\n    }\n\n    .dataframe thead th {\n        text-align: right;\n    }\n</style>\n<table border=\"1\" class=\"dataframe\">\n  <thead>\n    <tr style=\"text-align: right;\">\n      <th></th>\n      <th>Wohngebiet</th>\n      <th>Nachbarschaft</th>\n      <th>Bedingung1</th>\n      <th>Bedingung2</th>\n      <th>Wohnungsklasse</th>\n      <th>Gebauedetyp</th>\n      <th>Wohnungsstil</th>\n      <th>Baujahr</th>\n      <th>Umbaujahr</th>\n      <th>Hausqualitaet</th>\n      <th>...</th>\n      <th>Garagenflaeche</th>\n      <th>Garagenqualitaet</th>\n      <th>Garagenzustand</th>\n      <th>EinfahrtGepflastert</th>\n      <th>Sondermerkmal</th>\n      <th>SondermerkmalWert</th>\n      <th>Verkaufsmonat</th>\n      <th>Verkaufsjahr</th>\n      <th>Verkaufstyp</th>\n      <th>Verkaufsbedingung</th>\n    </tr>\n    <tr>\n      <th>Id</th>\n      <th></th>\n      <th></th>\n      <th></th>\n      <th></th>\n      <th></th>\n      <th></th>\n      <th></th>\n      <th></th>\n      <th></th>\n      <th></th>\n      <th></th>\n      <th></th>\n      <th></th>\n      <th></th>\n      <th></th>\n      <th></th>\n      <th></th>\n      <th></th>\n      <th></th>\n      <th></th>\n      <th></th>\n    </tr>\n  </thead>\n  <tbody>\n    <tr>\n      <th>1</th>\n      <td>4</td>\n      <td>8</td>\n      <td>5</td>\n      <td>4</td>\n      <td>20</td>\n      <td>0</td>\n      <td>2</td>\n      <td>1962</td>\n      <td>1962</td>\n      <td>3</td>\n      <td>...</td>\n      <td>47.52</td>\n      <td>2</td>\n      <td>1</td>\n      <td>0</td>\n      <td>4</td>\n      <td>0.0</td>\n      <td>7</td>\n      <td>2019</td>\n      <td>2</td>\n      <td>3</td>\n    </tr>\n    <tr>\n      <th>2</th>\n      <td>4</td>\n      <td>8</td>\n      <td>5</td>\n      <td>4</td>\n      <td>20</td>\n      <td>0</td>\n      <td>2</td>\n      <td>2015</td>\n      <td>2016</td>\n      <td>5</td>\n      <td>...</td>\n      <td>40.50</td>\n      <td>2</td>\n      <td>2</td>\n      <td>0</td>\n      <td>4</td>\n      <td>0.0</td>\n      <td>6</td>\n      <td>2017</td>\n      <td>2</td>\n      <td>3</td>\n    </tr>\n    <tr>\n      <th>3</th>\n      <td>4</td>\n      <td>5</td>\n      <td>5</td>\n      <td>4</td>\n      <td>50</td>\n      <td>0</td>\n      <td>5</td>\n      <td>1930</td>\n      <td>1960</td>\n      <td>6</td>\n      <td>...</td>\n      <td>28.62</td>\n      <td>2</td>\n      <td>2</td>\n      <td>2</td>\n      <td>4</td>\n      <td>0.0</td>\n      <td>9</td>\n      <td>2016</td>\n      <td>2</td>\n      <td>3</td>\n    </tr>\n    <tr>\n      <th>4</th>\n      <td>4</td>\n      <td>9</td>\n      <td>5</td>\n      <td>4</td>\n      <td>60</td>\n      <td>0</td>\n      <td>5</td>\n      <td>2009</td>\n      <td>2010</td>\n      <td>6</td>\n      <td>...</td>\n      <td>41.40</td>\n      <td>2</td>\n      <td>2</td>\n      <td>0</td>\n      <td>4</td>\n      <td>0.0</td>\n      <td>5</td>\n      <td>2017</td>\n      <td>2</td>\n      <td>3</td>\n    </tr>\n    <tr>\n      <th>5</th>\n      <td>4</td>\n      <td>5</td>\n      <td>5</td>\n      <td>4</td>\n      <td>70</td>\n      <td>0</td>\n      <td>5</td>\n      <td>1939</td>\n      <td>1960</td>\n      <td>8</td>\n      <td>...</td>\n      <td>36.00</td>\n      <td>2</td>\n      <td>2</td>\n      <td>0</td>\n      <td>4</td>\n      <td>0.0</td>\n      <td>6</td>\n      <td>2016</td>\n      <td>2</td>\n      <td>3</td>\n    </tr>\n  </tbody>\n</table>\n<p>5 rows × 79 columns</p>\n</div>"
     },
     "execution_count": 10,
     "metadata": {},
     "output_type": "execute_result"
    }
   ],
   "source": [
    "# kategorischen Variablen mittels Label Encoder in numerische Werte umwandeln\n",
    "categorical_columns = df_all.select_dtypes(include=['object']).columns\n",
    "label_encoder = LabelEncoder()\n",
    "for col in categorical_columns:\n",
    "    df_all[col] = label_encoder.fit_transform(df_all[col])\n",
    "\n",
    "# Zeige, dass alle Spalten nun numerische Werte besitzen\n",
    "df_all.head()"
   ],
   "metadata": {
    "collapsed": false,
    "ExecuteTime": {
     "end_time": "2024-02-04T12:06:52.358075200Z",
     "start_time": "2024-02-04T12:06:52.311302500Z"
    }
   },
   "id": "2cd5cf13f8712217"
  },
  {
   "cell_type": "code",
   "execution_count": 11,
   "outputs": [
    {
     "data": {
      "text/plain": "Wohngebiet           0\nNachbarschaft        0\nBedingung1           0\nBedingung2           0\nWohnungsklasse       0\n                    ..\nSondermerkmalWert    0\nVerkaufsmonat        0\nVerkaufsjahr         0\nVerkaufstyp          0\nVerkaufsbedingung    0\nLength: 79, dtype: int64"
     },
     "execution_count": 11,
     "metadata": {},
     "output_type": "execute_result"
    }
   ],
   "source": [
    "# Aber es ist noch problematisch, NaN-Werte zu haben.\n",
    "df_all.isnull().sum()"
   ],
   "metadata": {
    "collapsed": false,
    "ExecuteTime": {
     "end_time": "2024-02-04T12:07:45.039525300Z",
     "start_time": "2024-02-04T12:07:44.971920300Z"
    }
   },
   "id": "812384f7ed924706"
  },
  {
   "cell_type": "code",
   "execution_count": 12,
   "outputs": [
    {
     "data": {
      "text/plain": "Wohngebiet           0\nNachbarschaft        0\nBedingung1           0\nBedingung2           0\nWohnungsklasse       0\n                    ..\nSondermerkmalWert    0\nVerkaufsmonat        0\nVerkaufsjahr         0\nVerkaufstyp          0\nVerkaufsbedingung    0\nLength: 79, dtype: int64"
     },
     "execution_count": 12,
     "metadata": {},
     "output_type": "execute_result"
    }
   ],
   "source": [
    "# Fehlende Werte durch den Durchschnitt hinzufügen\n",
    "df_all = df_all.fillna(df_all.mean())\n",
    "\n",
    "# Nun gibt es keine NaN-Werte\n",
    "df_all.isnull().sum()"
   ],
   "metadata": {
    "collapsed": false,
    "ExecuteTime": {
     "end_time": "2024-02-04T12:08:20.915754300Z",
     "start_time": "2024-02-04T12:08:20.886315100Z"
    }
   },
   "id": "350ddd70852b5226"
  },
  {
   "cell_type": "code",
   "execution_count": 13,
   "outputs": [
    {
     "data": {
      "text/plain": "      Wohngebiet  Nachbarschaft  Bedingung1  Bedingung2  Wohnungsklasse   \nId                                                                        \n2001           4              7           5           4             120  \\\n2002           3              0           5           4             190   \n2003           4              0           5           4              50   \n2004           4              8           8           4              70   \n2005           4              4           5           4              20   \n\n      Gebauedetyp  Wohnungsstil  Baujahr  Umbaujahr  Hausqualitaet  ...   \nId                                                                  ...   \n2001            4             2     1987       1987              7  ...  \\\n2002            1             1     1920       2006              4  ...   \n2003            0             1     1910       2008              4  ...   \n2004            0             5     1920       2010              4  ...   \n2005            0             2     1965       2003              5  ...   \n\n      Garagenflaeche  Garagenqualitaet  Garagenzustand  EinfahrtGepflastert   \nId                                                                            \n2001           39.60                 2               2                    0  \\\n2002            0.00                 5               5                    1   \n2003           25.20                 1               2                    0   \n2004           47.52                 2               2                    0   \n2005           27.27                 2               2                    0   \n\n      Sondermerkmal  SondermerkmalWert  Verkaufsmonat  Verkaufsjahr   \nId                                                                    \n2001              4                0.0              9          2018  \\\n2002              4                0.0              6          2018   \n2003              4                0.0              3          2016   \n2004              2              357.0             10          2016   \n2005              4                0.0             11          2019   \n\n      Verkaufstyp  Verkaufsbedingung  \nId                                    \n2001            2                  3  \n2002            2                  3  \n2003            2                  3  \n2004            2                  3  \n2005            3                  3  \n\n[5 rows x 79 columns]",
      "text/html": "<div>\n<style scoped>\n    .dataframe tbody tr th:only-of-type {\n        vertical-align: middle;\n    }\n\n    .dataframe tbody tr th {\n        vertical-align: top;\n    }\n\n    .dataframe thead th {\n        text-align: right;\n    }\n</style>\n<table border=\"1\" class=\"dataframe\">\n  <thead>\n    <tr style=\"text-align: right;\">\n      <th></th>\n      <th>Wohngebiet</th>\n      <th>Nachbarschaft</th>\n      <th>Bedingung1</th>\n      <th>Bedingung2</th>\n      <th>Wohnungsklasse</th>\n      <th>Gebauedetyp</th>\n      <th>Wohnungsstil</th>\n      <th>Baujahr</th>\n      <th>Umbaujahr</th>\n      <th>Hausqualitaet</th>\n      <th>...</th>\n      <th>Garagenflaeche</th>\n      <th>Garagenqualitaet</th>\n      <th>Garagenzustand</th>\n      <th>EinfahrtGepflastert</th>\n      <th>Sondermerkmal</th>\n      <th>SondermerkmalWert</th>\n      <th>Verkaufsmonat</th>\n      <th>Verkaufsjahr</th>\n      <th>Verkaufstyp</th>\n      <th>Verkaufsbedingung</th>\n    </tr>\n    <tr>\n      <th>Id</th>\n      <th></th>\n      <th></th>\n      <th></th>\n      <th></th>\n      <th></th>\n      <th></th>\n      <th></th>\n      <th></th>\n      <th></th>\n      <th></th>\n      <th></th>\n      <th></th>\n      <th></th>\n      <th></th>\n      <th></th>\n      <th></th>\n      <th></th>\n      <th></th>\n      <th></th>\n      <th></th>\n      <th></th>\n    </tr>\n  </thead>\n  <tbody>\n    <tr>\n      <th>2001</th>\n      <td>4</td>\n      <td>7</td>\n      <td>5</td>\n      <td>4</td>\n      <td>120</td>\n      <td>4</td>\n      <td>2</td>\n      <td>1987</td>\n      <td>1987</td>\n      <td>7</td>\n      <td>...</td>\n      <td>39.60</td>\n      <td>2</td>\n      <td>2</td>\n      <td>0</td>\n      <td>4</td>\n      <td>0.0</td>\n      <td>9</td>\n      <td>2018</td>\n      <td>2</td>\n      <td>3</td>\n    </tr>\n    <tr>\n      <th>2002</th>\n      <td>3</td>\n      <td>0</td>\n      <td>5</td>\n      <td>4</td>\n      <td>190</td>\n      <td>1</td>\n      <td>1</td>\n      <td>1920</td>\n      <td>2006</td>\n      <td>4</td>\n      <td>...</td>\n      <td>0.00</td>\n      <td>5</td>\n      <td>5</td>\n      <td>1</td>\n      <td>4</td>\n      <td>0.0</td>\n      <td>6</td>\n      <td>2018</td>\n      <td>2</td>\n      <td>3</td>\n    </tr>\n    <tr>\n      <th>2003</th>\n      <td>4</td>\n      <td>0</td>\n      <td>5</td>\n      <td>4</td>\n      <td>50</td>\n      <td>0</td>\n      <td>1</td>\n      <td>1910</td>\n      <td>2008</td>\n      <td>4</td>\n      <td>...</td>\n      <td>25.20</td>\n      <td>1</td>\n      <td>2</td>\n      <td>0</td>\n      <td>4</td>\n      <td>0.0</td>\n      <td>3</td>\n      <td>2016</td>\n      <td>2</td>\n      <td>3</td>\n    </tr>\n    <tr>\n      <th>2004</th>\n      <td>4</td>\n      <td>8</td>\n      <td>8</td>\n      <td>4</td>\n      <td>70</td>\n      <td>0</td>\n      <td>5</td>\n      <td>1920</td>\n      <td>2010</td>\n      <td>4</td>\n      <td>...</td>\n      <td>47.52</td>\n      <td>2</td>\n      <td>2</td>\n      <td>0</td>\n      <td>2</td>\n      <td>357.0</td>\n      <td>10</td>\n      <td>2016</td>\n      <td>2</td>\n      <td>3</td>\n    </tr>\n    <tr>\n      <th>2005</th>\n      <td>4</td>\n      <td>4</td>\n      <td>5</td>\n      <td>4</td>\n      <td>20</td>\n      <td>0</td>\n      <td>2</td>\n      <td>1965</td>\n      <td>2003</td>\n      <td>5</td>\n      <td>...</td>\n      <td>27.27</td>\n      <td>2</td>\n      <td>2</td>\n      <td>0</td>\n      <td>4</td>\n      <td>0.0</td>\n      <td>11</td>\n      <td>2019</td>\n      <td>3</td>\n      <td>3</td>\n    </tr>\n  </tbody>\n</table>\n<p>5 rows × 79 columns</p>\n</div>"
     },
     "execution_count": 13,
     "metadata": {},
     "output_type": "execute_result"
    }
   ],
   "source": [
    "# DataFrame wieder in Train und Test zerlegen\n",
    "X_train = df_all.iloc[:2000, :]\n",
    "X_test = df_all.iloc[2000:, :]\n",
    "X_test.head()"
   ],
   "metadata": {
    "collapsed": false,
    "ExecuteTime": {
     "end_time": "2024-02-04T12:09:10.625967500Z",
     "start_time": "2024-02-04T12:09:10.614442500Z"
    }
   },
   "id": "cab1d058a7b950e5"
  },
  {
   "cell_type": "markdown",
   "source": [
    "---\n",
    "\n",
    "# Random Forest"
   ],
   "metadata": {
    "collapsed": false
   },
   "id": "cf07b80c7d848267"
  },
  {
   "cell_type": "code",
   "execution_count": 14,
   "outputs": [
    {
     "data": {
      "text/plain": "<Figure size 1000x600 with 1 Axes>",
      "image/png": "[encoded data removed]"
     },
     "metadata": {},
     "output_type": "display_data"
    }
   ],
   "source": [
    "rf_model = RandomForestRegressor(random_state=123)\n",
    "rf_model.fit(X_train, y_train)\n",
    "\n",
    "# Feature Importance berechnen\n",
    "feature_importances = rf_model.feature_importances_\n",
    "feature_names = X_train.columns\n",
    "\n",
    "# Feature Importance mittels Dataframe anzeigen\n",
    "feature_importance_df = pd.DataFrame({'Feature': feature_names, 'Importance': feature_importances})\n",
    "feature_importance_df = feature_importance_df.sort_values(by='Importance', ascending=False)\n",
    "\n",
    "plt.figure(figsize=(10, 6))\n",
    "plt.barh(feature_importance_df['Feature'][:10], feature_importance_df['Importance'][:10])\n",
    "plt.xlabel('Importance')\n",
    "plt.title('Top 10 Feature Importance')\n",
    "plt.show()"
   ],
   "metadata": {
    "collapsed": false,
    "ExecuteTime": {
     "end_time": "2024-02-04T12:14:34.723705700Z",
     "start_time": "2024-02-04T12:14:31.522440Z"
    }
   },
   "id": "5c3c2f4e2cb1d4ca"
  },
  {
   "cell_type": "markdown",
   "source": [
    "# GradientBoostingRegressor"
   ],
   "metadata": {
    "collapsed": false
   },
   "id": "c96486da0234a9bd"
  },
  {
   "cell_type": "code",
   "execution_count": 15,
   "outputs": [
    {
     "data": {
      "text/plain": "    Hausqualitaet  OberirdischeWohnflaeche  KellerbereichgroesseGes   \nId                                                                    \n1               3                    84.96                     0.00  \\\n2               5                    98.10                    98.10   \n3               6                   139.50                    73.53   \n4               6                   147.96                    84.69   \n5               8                   136.53                    71.28   \n\n    1Stockflaeche  2Stockflaeche  Kellerbereichgroesse1   \nId                                                        \n1           84.96           0.00                    0.0  \\\n2           98.10           0.00                   88.2   \n3           84.60          54.90                    0.0   \n4           86.49          61.47                    0.0   \n5           71.28          65.25                    0.0   \n\n    OberirdischeVollbadezimmer  Grundstuecksgroesse  Garagenflaeche   \nId                                                                    \n1                            1               918.54           47.52  \\\n2                            1               632.16           40.50   \n3                            1              1960.20           28.62   \n4                            2               868.41           41.40   \n5                            1              1029.15           36.00   \n\n    Kellerhoehe  \nId               \n1             4  \n2             0  \n3             3  \n4             2  \n5             2  ",
      "text/html": "<div>\n<style scoped>\n    .dataframe tbody tr th:only-of-type {\n        vertical-align: middle;\n    }\n\n    .dataframe tbody tr th {\n        vertical-align: top;\n    }\n\n    .dataframe thead th {\n        text-align: right;\n    }\n</style>\n<table border=\"1\" class=\"dataframe\">\n  <thead>\n    <tr style=\"text-align: right;\">\n      <th></th>\n      <th>Hausqualitaet</th>\n      <th>OberirdischeWohnflaeche</th>\n      <th>KellerbereichgroesseGes</th>\n      <th>1Stockflaeche</th>\n      <th>2Stockflaeche</th>\n      <th>Kellerbereichgroesse1</th>\n      <th>OberirdischeVollbadezimmer</th>\n      <th>Grundstuecksgroesse</th>\n      <th>Garagenflaeche</th>\n      <th>Kellerhoehe</th>\n    </tr>\n    <tr>\n      <th>Id</th>\n      <th></th>\n      <th></th>\n      <th></th>\n      <th></th>\n      <th></th>\n      <th></th>\n      <th></th>\n      <th></th>\n      <th></th>\n      <th></th>\n    </tr>\n  </thead>\n  <tbody>\n    <tr>\n      <th>1</th>\n      <td>3</td>\n      <td>84.96</td>\n      <td>0.00</td>\n      <td>84.96</td>\n      <td>0.00</td>\n      <td>0.0</td>\n      <td>1</td>\n      <td>918.54</td>\n      <td>47.52</td>\n      <td>4</td>\n    </tr>\n    <tr>\n      <th>2</th>\n      <td>5</td>\n      <td>98.10</td>\n      <td>98.10</td>\n      <td>98.10</td>\n      <td>0.00</td>\n      <td>88.2</td>\n      <td>1</td>\n      <td>632.16</td>\n      <td>40.50</td>\n      <td>0</td>\n    </tr>\n    <tr>\n      <th>3</th>\n      <td>6</td>\n      <td>139.50</td>\n      <td>73.53</td>\n      <td>84.60</td>\n      <td>54.90</td>\n      <td>0.0</td>\n      <td>1</td>\n      <td>1960.20</td>\n      <td>28.62</td>\n      <td>3</td>\n    </tr>\n    <tr>\n      <th>4</th>\n      <td>6</td>\n      <td>147.96</td>\n      <td>84.69</td>\n      <td>86.49</td>\n      <td>61.47</td>\n      <td>0.0</td>\n      <td>2</td>\n      <td>868.41</td>\n      <td>41.40</td>\n      <td>2</td>\n    </tr>\n    <tr>\n      <th>5</th>\n      <td>8</td>\n      <td>136.53</td>\n      <td>71.28</td>\n      <td>71.28</td>\n      <td>65.25</td>\n      <td>0.0</td>\n      <td>1</td>\n      <td>1029.15</td>\n      <td>36.00</td>\n      <td>2</td>\n    </tr>\n  </tbody>\n</table>\n</div>"
     },
     "execution_count": 15,
     "metadata": {},
     "output_type": "execute_result"
    }
   ],
   "source": [
    "selected_features = feature_importance_df['Feature'][:10]\n",
    "X_train_selected = X_train[selected_features]\n",
    "X_test_selected = X_test[selected_features]\n",
    "X_train_selected.head()"
   ],
   "metadata": {
    "collapsed": false,
    "ExecuteTime": {
     "end_time": "2024-02-04T12:17:54.220694700Z",
     "start_time": "2024-02-04T12:17:54.196981800Z"
    }
   },
   "id": "2694cc9582c37c60"
  },
  {
   "cell_type": "code",
   "execution_count": 16,
   "outputs": [],
   "source": [
    "import numpy as np\n",
    "from sklearn.metrics import mean_squared_error\n",
    "from sklearn.metrics import r2_score\n",
    "from sklearn.ensemble import GradientBoostingRegressor"
   ],
   "metadata": {
    "collapsed": false,
    "ExecuteTime": {
     "end_time": "2024-02-04T12:18:05.375453900Z",
     "start_time": "2024-02-04T12:18:05.368900200Z"
    }
   },
   "id": "21bc74d7b8dba5dc"
  },
  {
   "cell_type": "code",
   "execution_count": 17,
   "outputs": [
    {
     "name": "stdout",
     "output_type": "stream",
     "text": [
      "Trainings-MSE (Gradient Boosting): 254637537.94\n",
      "Trainings-RMSE (Gradient Boosting): 15957.37\n",
      "Trainings-R2: 0.95\n"
     ]
    }
   ],
   "source": [
    "gb_model = GradientBoostingRegressor(random_state=123)\n",
    "gb_model.fit(X_train_selected, y_train)\n",
    "\n",
    "# Vorhersagen für Trainingsdaten\n",
    "y_train_pred_gb = gb_model.predict(X_train_selected)\n",
    "# Bewertung der Modellleistung\n",
    "train_mse_gb = mean_squared_error(y_train, y_train_pred_gb)\n",
    "train_rmse_gb = np.sqrt(train_mse_gb)\n",
    "print(f'Trainings-MSE (Gradient Boosting): {train_mse_gb:.2f}')\n",
    "print(f'Trainings-RMSE (Gradient Boosting): {train_rmse_gb:.2f}')\n",
    "print(f'Trainings-R2: {r2_score(y_train, y_train_pred_gb):.2f}')\n",
    "\n",
    "# Vorhersagen für Testdaten\n",
    "y_test_pred_gb = gb_model.predict(X_test_selected)"
   ],
   "metadata": {
    "collapsed": false,
    "ExecuteTime": {
     "end_time": "2024-02-04T12:18:06.571825100Z",
     "start_time": "2024-02-04T12:18:06.183710700Z"
    }
   },
   "id": "b349f61335ce66f7"
  },
  {
   "cell_type": "code",
   "execution_count": 18,
   "outputs": [
    {
     "data": {
      "text/plain": "array([133590.05143596,  88641.60280202,  61732.46168789, 110632.36839766,\n       125421.38854994, 139633.6603947 ,  87984.53130175, 108478.45134165,\n       264749.39763433,  63555.45911974, 120455.30993156, 168056.12627023,\n       214106.47366518, 248701.85778963, 109905.72607087, 162964.24360654,\n       161125.15276081, 246407.7331029 , 203166.93598864, 157805.16095359,\n       190089.21202467, 172590.29369929,  81290.43814801, 113790.39899279,\n       105647.38754951, 187122.7200933 , 146340.47447137, 101368.43641422,\n       171237.93983647, 114298.59095606, 112934.70313755, 133590.05143596,\n       212930.23135725, 237793.76618222, 187364.48875297, 111302.03550464,\n       159397.94157062, 186079.14721179, 153426.35704453, 107317.02097048,\n       151136.50182027,  91134.4410488 , 132755.25452804, 107371.49354823,\n       196337.90285777, 122867.15390617, 170148.01494366, 183518.12241299,\n       229825.96580452,  76903.36180316, 296895.46839147, 129322.53836014,\n       133801.66483154,  98101.19160937, 111194.22735082, 182312.79547988,\n       108709.66548746, 119798.45399811,  99362.15710173, 119989.05760962,\n       281079.35657687, 145082.20186691, 124788.586067  , 118588.45358089,\n       116015.66459944, 130592.8220822 ,  83149.3429726 , 181873.78223653,\n       183653.16158919, 162916.20257279,  44946.43536898, 105437.67704249,\n       115859.74916884, 159025.7274189 , 128598.97497675, 170556.66028408,\n       313081.32103702, 249976.39233928, 302613.87910493, 143523.18423152,\n       106768.32581982, 144328.99374732,  99631.54733512, 201550.95580052,\n       124245.9600947 , 188978.38232808, 175829.5593393 , 248947.96210694,\n       173400.53722642, 253402.07845378, 120731.24176523, 240520.19329089,\n       103938.90719384,  64518.10671664, 288976.41909242, 128521.52473288,\n       160979.12698736, 143513.82852241, 254488.60965494,  93445.98453529,\n       107241.51952941, 239514.95088986,  89137.34196599, 126868.19326888,\n       203196.00521967, 110049.02593144, 189545.09720648, 139934.5063081 ,\n       159209.96976196, 234568.12388456, 255093.52046365, 133573.97015892,\n       133178.22977774, 181213.33159835,  79047.35305012, 246674.22510676,\n       161409.42104667, 175284.31379755,  87883.46811359, 158407.27981425,\n       391036.74221545, 125082.06321983, 112925.8740742 , 163392.82011862,\n       121823.11551165, 203806.55930049, 169942.42504176,  91552.24810701,\n       129408.89665791, 204479.13283538, 132675.57258381,  95776.94634814,\n       119473.07070231, 202677.24598629, 200983.13781699, 134755.3834206 ,\n       304502.74614053,  72572.21609744, 120108.88811305, 187027.75425037,\n       184767.46846257, 159096.11987005, 100056.44773281, 162291.79900874,\n       107949.82137674, 161041.41129112, 163085.92290099, 127441.5917227 ,\n       110215.7279202 , 111296.73922393, 201823.43581829, 126084.3979413 ,\n       107241.51952941, 137622.83478498, 104794.95922179, 144920.78232157,\n       291524.66123828, 102298.87366472, 128766.4744373 , 100740.93227592,\n       139100.92038453, 139896.52996426, 130175.27278606, 114910.60973295,\n       134951.30244742, 162286.90134201, 182266.81900826,  85113.22384181,\n       196556.58564027, 107238.95943314, 138950.37007707, 208167.90263764,\n       118822.69133311, 118902.49337582, 152481.35268366,  94263.43035371,\n       238668.16980599, 199321.68923187, 171925.65562732, 121007.29234055,\n       303098.10688197, 125252.20794317, 148417.60563088,  92849.56271207,\n       208186.51288882, 132938.44143808, 102489.30633311, 135207.81724807,\n       129756.08584758, 169475.00749735, 138915.35158605, 329242.01327695,\n       169114.734969  , 111615.29445302, 158623.59962155, 142886.88687853,\n       137707.3324414 , 136285.26236927, 154919.30076626, 199694.68428851,\n       228994.95147139, 326091.8256779 ,  92379.35580426, 261335.67573868,\n       128884.26968612, 313981.4020986 , 246311.16355906, 184247.49980676,\n       169267.71773815, 156202.59211835,  89159.56420642, 294638.33968897,\n       161070.00299624, 224300.11839549, 182753.19033832, 108304.06188662,\n       121948.73928414, 112332.4258524 ,  93693.92353531, 166013.42890658,\n        47977.57464558, 193973.3575543 , 144989.53850844,  56963.62319073,\n       203310.42936688,  92627.5357976 , 133402.50800296,  87194.15165847,\n       125738.0917277 , 127211.93866022, 148412.99848585, 139692.94886261,\n        97740.59031438, 175855.82837469, 210619.53147513, 111132.56704523,\n       147972.77265233, 137323.8484053 ,  82017.79501079, 151008.86895047,\n       128709.0905013 , 148455.33468422, 147031.02097435, 197481.09486328,\n       134047.16403136, 133424.60093381,  76741.50849769, 127364.6802087 ,\n       152819.72790126, 100461.75321822, 283696.47642883, 153775.59138534,\n        96425.42259557, 170433.15491755, 187095.35250048,  54389.12788215,\n       158744.89121341,  35179.76559264, 103206.20142086, 117202.48179971,\n       126557.03567415, 208267.36538031, 104794.95922179, 136770.67556918,\n       137636.53486807, 173398.93346681, 156297.2464119 , 196877.9644196 ,\n       134658.84243745, 249251.97161035, 212767.95592712, 132403.02604324,\n       130932.87373866, 134127.55064359, 143667.92092464, 206559.62482634,\n       115089.6788233 , 114054.21224502, 146472.39097851, 134310.88166253,\n       153510.12265966, 143793.58536769, 413435.3388106 ,  91297.39589469,\n       216068.23291214, 119583.31900891, 144725.24919439, 181921.39412075,\n       157194.982913  , 108652.02027974, 151244.18833197, 142704.1271363 ,\n       143020.81463401, 100964.10631803, 259372.33238357, 120436.90189094,\n       245850.63174718, 354089.8419637 , 139750.81851798, 158688.2764779 ,\n       127308.88570934,  74316.27473021,  91930.20938397, 148961.80809317,\n       117114.40163518, 127218.1205671 , 185545.73075701, 223709.41836563,\n        51800.29167314, 167697.64959225, 211357.00658338, 105474.62779559,\n       137486.25671028,  71820.86591463,  79333.83922407, 101633.042902  ,\n       199535.97269192, 172664.92086072, 131230.02059905, 197147.24392903,\n       202624.65089443, 137372.20546061, 119091.30757087, 155584.52602836,\n       101075.38484371, 143986.26490843, 137812.62588308, 103742.84631707,\n       328479.0751569 , 112698.29789286, 101935.60869502, 171249.59402651,\n       270135.35776686, 254359.87078182, 123276.54449729, 159183.25850617,\n        98207.39565495, 207930.4193628 , 258682.05107921, 121386.6749361 ,\n       158841.58889549, 266337.93716932, 188932.41278212, 112240.72307677,\n       194499.71001759, 174247.83292306, 150161.7364362 , 101482.29913531,\n       141598.22013903,  92494.56485826, 110440.98771057, 206897.43161873,\n       142426.45534298, 259682.34457219, 149914.33188657, 103944.98002943,\n       158516.5154395 , 143150.78703881,  80731.08384785, 491799.61242868,\n       133155.05772917, 158688.2764779 , 246432.16575422, 148932.0078395 ,\n       153111.58774212, 140979.84224857, 152400.92107072, 118411.83606147,\n       196036.21572102, 124163.30223673,  61223.45916446, 164221.14689355,\n       159403.80303188, 241922.99308999, 164232.46815655, 180312.36596446,\n       160231.64070843, 172322.04925719, 111062.42766077, 175559.70641949,\n       116948.84241548, 133316.13748023, 173421.84885776, 145608.46901458,\n       119887.0106    , 139211.93802699, 114895.59498523, 117071.1364147 ,\n       181986.64106011, 141919.25602818, 133412.8161022 , 150134.57115304,\n       109625.24734368, 167584.82324047, 186560.75468524, 225467.08421501,\n       189517.55122209, 191739.10828659, 202873.68181121, 164890.25466452,\n        71200.69260686, 338301.02665052,  94829.1544674 , 164048.92646124,\n       110866.79884989, 321852.51407243, 360629.01817382, 130369.46681389,\n       205257.36973632, 136421.67226853, 117857.40903589, 188002.42479837,\n       160536.60169139, 246407.7331029 , 109049.96329398, 118482.19005833,\n       110206.25807884, 176481.99177984, 329368.82929885, 146123.47389719,\n       187719.76840381, 109902.51456662, 252322.65985245, 148819.55094383,\n       155463.04727852, 168720.87755584, 102642.57606378,  58159.85121035,\n       332123.45087015, 166877.12541967, 205965.22175588,  85676.99228006,\n       119316.74827121, 250516.39542886, 135648.97110772, 165811.71648118,\n       114235.18378799, 110455.34614821, 114689.61246125, 113150.48381469,\n        76208.57739137,  99548.53865293, 193478.96681912, 122301.38668179,\n       110512.56851035, 105323.78914761, 116523.98231995,  93344.91529261,\n        82528.35449554, 140345.42893995, 105909.9042729 , 161405.98086596,\n       315416.03051195,  98171.73079054, 190199.1112249 , 190623.1001389 ,\n        95563.03601276,  85113.22384181,  88375.46041784, 159555.0037892 ,\n       111303.71708944, 111035.39356614, 118838.93754861,  48989.43314773,\n       451985.09433842, 196209.63791095, 183734.31416868, 113751.36575585,\n       118453.08596752, 238633.92909456, 224438.48963189, 127970.60831534,\n       280866.11821215, 176226.79259002, 106808.84450836, 121027.92985934,\n       111726.79551586, 127723.51445502, 324452.40175979, 148667.69577345,\n       121702.00457725, 419041.44328539, 170243.60132892, 312520.45116601,\n       201204.09740746, 124328.10665997,  85222.31726293, 112717.22301724,\n       104245.84124591,  93051.31601462, 120319.37370846, 193316.38320456,\n       156631.48140335, 106287.01800555,  81758.83942696, 118893.53975673,\n       243332.16560789, 287086.70668846,  79736.2040968 , 158916.26588584,\n       160067.28869805, 113437.17732096,  90814.87349072, 125986.90197013,\n       129064.34394563, 106101.98767743, 154863.68569371, 130209.4196569 ,\n       140898.49854924, 108751.57588455, 102869.03338351, 148086.77291729,\n        95054.36493604, 109374.79204705, 414296.15769588, 131641.02746853,\n        99131.30759882, 182465.76121926, 120424.02143065, 333369.56504885,\n       154151.32499316, 184324.42140719, 325269.90524765, 121045.94238198,\n       177143.55376596, 209996.33914772, 139438.37132553, 109967.05327703,\n       281199.09313128, 115223.2819469 , 210136.53560516, 120178.91662429,\n       272632.76194827,  92900.21795481, 115400.19336798, 153692.20541191,\n       145647.07528338, 166240.72706287, 110301.82484556, 140057.07498903,\n       208528.98081744,  70346.98988653, 137117.51982137,  95245.96260074,\n        71929.99779915, 231820.85871377, 108852.56780396, 154161.04634515,\n       124772.42667147, 297812.66763068, 189302.66117599,  98619.56119771,\n       365651.47230704, 151557.16480974, 128140.47105734, 223318.64572175,\n       130000.40132832,  60157.11805995, 147135.88959514, 111169.0311028 ,\n       148683.38423385, 121072.2135612 , 132452.73838075, 169725.838667  ,\n       157792.6948404 , 122993.1652287 , 129516.66320837, 188609.57146453,\n       153243.70604601, 179013.64856938, 161902.25410841, 244352.46862821,\n       163613.08402994, 181641.70173503, 148165.94323806, 106623.1247401 ,\n       129928.4618728 ,  99973.29866416, 173772.62380981, 160789.24195862,\n       157165.7541573 , 154542.23920148, 101948.83557255, 336085.11066819,\n       123832.69143988, 113574.98047198, 185894.0249207 , 164110.04401923,\n       183875.55189228, 259228.00791539, 191725.35702755, 143819.49150957,\n       177526.58147278, 195935.28529412, 166039.82726762, 115093.07856281,\n       168765.01777969, 166347.60878445, 139177.04830261, 109914.40008748,\n       114782.83127012, 327245.47166001, 102976.92954367, 208764.40088288,\n       152941.8317172 , 171620.64529932, 108972.93522398, 119989.05760962,\n       134414.38593653, 177566.31684914, 287453.3393415 , 178064.14558193,\n       119259.95406248, 184074.83697496, 132000.33870768, 148886.45892378,\n       177463.85155054, 110301.82484556, 108037.58555974, 155761.66253554,\n        70354.44870993, 354404.15776957, 235749.68503581,  64417.88904793,\n       149036.87482908, 235519.7990174 ,  86344.14709781, 228481.69818805,\n       314319.43442114, 101650.35755196, 198500.2262886 , 125566.11452254,\n       143354.9678317 , 139516.94786111, 242927.82322666, 133294.45567232,\n       107122.37659841, 194436.59939756, 178776.97701184, 114721.05530586,\n       104015.19280304, 129212.84947141, 203247.03604092, 129926.73877235,\n       156033.00152905, 114489.62933117, 108783.14497844, 145222.6720913 ,\n       101093.79441165, 115274.64884397, 103793.15216019, 118288.30022277,\n       130740.61045128,  99341.11759339, 104489.34278903, 101390.29713574,\n       198680.89850761, 331791.95732073,  88646.58725328, 192908.01174559,\n        88905.71317691, 105866.15065143, 308454.48871686, 136340.52083704,\n        94646.49431953, 122585.51089889, 112161.3550614 ,  79907.50633679,\n       126108.29752081,  89707.74681375,  80964.78992123, 146477.15373476,\n       139934.5063081 , 117114.40163518,  67997.86736291, 132302.61132005,\n       167697.64959225, 173680.32311856, 208248.31279141, 173523.29942249,\n        84750.44596928,  78094.78618492, 158667.34376817,  89267.37104853,\n       181874.67626669, 131794.52110701, 200815.2913673 , 108213.0219064 ,\n        91648.22383287, 323600.34213992, 208435.31809575, 120285.71415841,\n       141751.23245632, 118007.0788054 , 125047.00165402,  95040.89250716,\n       122048.79038877, 109246.83810445, 166222.47796308, 118879.09115527,\n       103154.24001851, 112544.21916754, 238013.71661562, 206717.76189106,\n        98901.51662691, 299936.84170366, 141971.50660036, 105747.48905505,\n       135757.93112035, 172187.1386299 ,  92251.70987713,  92259.11695728,\n       167570.00336126, 127512.77515917,  73632.6411749 , 135417.25550638,\n       111016.80700974, 169226.37700736, 105874.54070292, 331241.16948155,\n       329070.45150962, 255025.68046044,  93992.53080321, 118865.08211187,\n       107079.45037266, 169745.37807452, 146803.38331244, 136538.20189284,\n       137335.75166528, 191055.61764959,  80999.80293313,  79736.2040968 ,\n       122163.84197592, 138597.10884613, 192577.47725561, 236545.63735383,\n        79333.83922407, 126679.27812407, 144293.68639748, 138845.86063727,\n       246814.75993041, 170098.50102835, 110293.07010541,  56667.43251429,\n       150689.04217742, 144342.17435655, 104112.5902286 ,  88959.43186262,\n        70600.1605918 , 141449.23338253,  97795.1894921 , 113339.7833268 ,\n       114399.32648162, 142385.73659893, 146594.59857779, 110784.31870354,\n       173518.32924639, 102378.99985011, 140728.72191538, 130946.7857355 ,\n       155731.33905993, 220499.41299752, 105395.34960506, 117651.50471198,\n        75732.19819093, 191048.72641684, 116431.59290591, 107676.3770425 ,\n       120210.68494669, 161549.03606009, 123811.6877265 , 155858.27729346,\n       134750.51866423, 152941.8317172 , 138929.21114091, 189743.7621089 ,\n       171641.06624529, 138478.78814153, 188362.6392873 , 139093.72313566,\n        89040.91838372, 239836.51195612, 133965.30146598, 119113.56338242,\n       424765.09690627, 124328.10665997, 116761.15786069, 223757.47799951,\n       100127.31056697, 146499.42483436, 165317.99959125, 128672.40853058,\n       104009.94583258, 350213.23085464,  80491.30930614, 114618.49502455,\n       185629.94550918,  89239.16613431, 128229.1482694 , 148057.36856056,\n       173758.49612102, 158180.95101509, 155882.7796511 , 129348.98239553,\n        58449.31276737,  39657.11252998, 168287.45528641, 207780.87224066,\n       120208.43115983, 138303.24456847, 163502.01276654, 140658.41539186,\n       192757.24725465,  86823.67265894, 106399.99117123, 149228.73299375,\n       149910.47158242,  63435.6729433 , 106206.34223083, 126322.60161589,\n       271619.22213736, 182189.8153335 , 118113.33089939,  81301.5616341 ,\n        97193.83115477, 111502.10689992, 139288.72762902, 295243.62127817,\n       131203.34175328, 145077.66256353, 120219.04329713,  93222.77148987,\n       101877.62401018, 155980.92180712, 138391.73424898, 206554.90009106,\n       178077.68549301, 118349.98963338, 176798.81925439, 106385.13665124,\n        99446.66761946, 224771.37361524, 131654.62897716, 242615.97746431,\n       175426.79752657, 109625.24734368, 114725.95997555, 114974.10096594,\n       127123.17551093, 113309.20552967, 105460.84516603, 132503.67374855,\n       141610.55625728, 253348.37683032, 145794.9811797 , 168777.22040719,\n       162767.61557686, 262666.03681547, 101935.60869502, 118308.8890567 ,\n       258553.856606  , 123264.30636909, 125919.86249437, 132331.6353035 ,\n       167630.67167959, 144851.06099302, 136460.02697113, 117115.0880938 ,\n       184906.70796922,  86281.62117662, 129731.90792121, 108889.0618541 ,\n       169426.0076287 ,  78104.15695642, 124136.83029639,  96815.62502712,\n       120372.09846917, 152934.19631557, 103448.08407656, 141825.0868143 ,\n       107757.37530178, 115229.39197825, 108031.89101382, 106520.24175394,\n       162767.61557686, 130168.00716252, 119681.85502087, 203235.34039465,\n       117228.59140231, 121731.8204895 , 162123.56725016, 144560.51750592,\n       133563.99502025, 117765.58134579, 172241.93520924, 157563.74396219,\n       117071.1364147 , 188999.64053595, 159944.2303664 , 110605.86164589,\n        87672.56826485, 101731.07366234, 233620.03895461, 253085.43825187,\n       141437.06335822,  93568.29003961, 304118.54393098,  50955.20243971,\n       216656.88315448, 141751.23245632, 127681.6342783 , 118586.3686679 ,\n       132752.28654259, 157101.66226921, 125223.97662721, 156587.67915291,\n       176833.37243526, 228984.31733585, 112735.43931056])"
     },
     "execution_count": 18,
     "metadata": {},
     "output_type": "execute_result"
    }
   ],
   "source": [
    "y_test_pred_gb"
   ],
   "metadata": {
    "collapsed": false,
    "ExecuteTime": {
     "end_time": "2024-02-04T12:18:08.013668900Z",
     "start_time": "2024-02-04T12:18:07.985866700Z"
    }
   },
   "id": "a0dc32551c2530b6"
  },
  {
   "cell_type": "code",
   "execution_count": 19,
   "outputs": [
    {
     "data": {
      "text/plain": "153314.986917395"
     },
     "execution_count": 19,
     "metadata": {},
     "output_type": "execute_result"
    }
   ],
   "source": [
    "y_test_pred_gb.mean()"
   ],
   "metadata": {
    "collapsed": false,
    "ExecuteTime": {
     "end_time": "2024-02-04T12:18:10.263556Z",
     "start_time": "2024-02-04T12:18:10.248428100Z"
    }
   },
   "id": "e7312c6f6eac9a0f"
  },
  {
   "cell_type": "code",
   "execution_count": 20,
   "outputs": [],
   "source": [
    "df_export = pd.DataFrame({\n",
    "    'Id': df_test.index,\n",
    "    'Verkaufspreis': y_test_pred_gb\n",
    "})\n",
    "df_export.to_csv('predictions.csv', index=False)"
   ],
   "metadata": {
    "collapsed": false,
    "ExecuteTime": {
     "end_time": "2024-02-04T12:18:11.292181700Z",
     "start_time": "2024-02-04T12:18:11.260332400Z"
    }
   },
   "id": "2b90b4a21f4c3998"
  },
  {
   "cell_type": "markdown",
   "source": [],
   "metadata": {
    "collapsed": false
   },
   "id": "3e4eb7c1eac5e55f"
  }
 ],
 "metadata": {
  "kernelspec": {
   "display_name": "Python 3",
   "language": "python",
   "name": "python3"
  },
  "language_info": {
   "codemirror_mode": {
    "name": "ipython",
    "version": 2
   },
   "file_extension": ".py",
   "mimetype": "text/x-python",
   "name": "python",
   "nbconvert_exporter": "python",
   "pygments_lexer": "ipython2",
   "version": "2.7.6"
  }
 },
 "nbformat": 4,
 "nbformat_minor": 5
}
