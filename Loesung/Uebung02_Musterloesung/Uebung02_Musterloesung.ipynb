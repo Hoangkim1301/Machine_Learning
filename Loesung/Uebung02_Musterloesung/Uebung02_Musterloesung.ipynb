{
 "cells": [
  {
   "cell_type": "markdown",
   "metadata": {},
   "source": [
    "# Übungszettel 2: Python, Korrelation (Musterlösung)\n",
    "\n",
    "## Maschinelles Lernen - WiSe 23/24\n",
    "\n",
    "### Abgabe 01.11.2023, 23:55 Uhr\n",
    "\n",
    "*Hinweise:*\n",
    "- Übungsaufgaben **müssen** in Gruppen von 3-4 Personen abgegeben werden. \n",
    "- Es wird pro Übungszettel nur eine Aufgabe bewertet, die übrigen Aufgaben dienen zur selbstständigen Vertiefung des Vorlesungsstoffs. Für diese Aufgaben werden nach der Abgabe Musterlösungen bereitgestellt.\n",
    "- Die Lösungen sollen in diesem IPython Notebook realisiert werden, wobei Teilaufgaben und Zwischenergebnisse ausgegeben bzw. visualisiert werden sollen.\n",
    "- Für die Abgabe sollen Sie dieses IPython Notebook und ggf. zugehörige Dateien in ein **Ziparchiv** packen und im Ilias hochladen. Das Ziparchiv soll nach folgendem Muster benannt werden:\n",
    "`UebungXX_Nachname1_Nachname2_Nachname3.zip`, wobei die Nachnamen in alphabetischer Reihenfolge angegeben und Umlaute ggf. ersetzt werden sollen."
   ]
  },
  {
   "cell_type": "markdown",
   "metadata": {},
   "source": [
    "--- \n",
    "\n",
    "## Aufgabe 1: Objektorientierte Programmierung\n",
    "\n",
    "a) Schreiben Sie eine Klasse `Dice`, die einen Würfel modelliert. Diese soll die Würfe in einer Liste speichern. Die Klasse soll über folgende Funktionen verfügen:\n",
    "\n",
    "* `roll` - generiert zufällig einen Wert zwischen 1 und 6 und fügt ihn der Historie hinzu\n",
    "* `history(start, end)` - gibt die Würfe zwischen `start` und `end` aus (für ungültige Eingaben soll eine Exception `InvalidIntervalError` geworfen werden)\n",
    "* `mean` - gibt den Mittelwert der bereits geworfenen Würfe aus\n",
    "* `var` - gibt die Varianz der bereits geworfenen Würfe aus"
   ]
  },
  {
   "cell_type": "code",
   "execution_count": 13,
   "metadata": {},
   "outputs": [],
   "source": [
    "import random\n",
    "\n",
    "class InvalidIntervalError(Exception):\n",
    "    pass\n",
    "\n",
    "\n",
    "class Dice:\n",
    "    \n",
    "    def __init__(self):\n",
    "        self.history_arr = []\n",
    "        \n",
    "    def roll(self):\n",
    "        self.history_arr.append(random.randint(1,6))\n",
    "            \n",
    "    def history(self, start, end):\n",
    "        if 0 <= start <= end <= len(self.history_arr):\n",
    "            print(\"history[{}:{}]={}\".format(start,end,self.history_arr[start:end]))\n",
    "        else: \n",
    "            raise InvalidIntervalError(\"interval (start:{}, end:{}) is not valid\".format(start,end))\n",
    "            \n",
    "    def mean(self, verbose=1):\n",
    "        m = sum(self.history_arr) / len(self.history_arr)\n",
    "        if verbose:\n",
    "            print(\"mean: {:.2f}\".format(m))\n",
    "        return m\n",
    "                  \n",
    "    def var(self, verbose=1):\n",
    "        m = self.mean(verbose=0)\n",
    "        v = sum([(x - m)**2 for x in self.history_arr]) / len(self.history_arr)\n",
    "        if verbose:\n",
    "            print(\"variance: {:.2f}\".format(v))\n",
    "        return v "
   ]
  },
  {
   "cell_type": "markdown",
   "metadata": {},
   "source": [
    "b) Erstellen Sie drei Mini-Szenarios, in dem eine Würfelinstanz erstellt wird und dann der Würfel {10, 1000, 100000}-mal geworfen wird. Geben Sie anschließend jeweils ein Intervall von 10 Würfen der Historie sowie Mittelwert und Varianz aus."
   ]
  },
  {
   "cell_type": "code",
   "execution_count": 14,
   "metadata": {},
   "outputs": [
    {
     "name": "stdout",
     "output_type": "stream",
     "text": [
      "Szenario 1:\n",
      "history[0:10]=[1, 5, 2, 4, 2, 2, 1, 3, 3, 3]\n",
      "mean: 2.60\n",
      "variance: 1.44\n",
      "\n",
      "Szenario 2:\n",
      "history[100:110]=[4, 4, 2, 1, 5, 4, 4, 3, 1, 2]\n",
      "mean: 3.52\n",
      "variance: 2.93\n",
      "\n",
      "Szenario 3:\n",
      "history[99990:100000]=[1, 4, 4, 2, 2, 4, 4, 5, 5, 2]\n",
      "mean: 3.51\n",
      "variance: 2.93\n"
     ]
    }
   ],
   "source": [
    "print(\"Szenario 1:\")    \n",
    "d1 = Dice()\n",
    "for _ in range(10):\n",
    "    d1.roll()\n",
    "\n",
    "d1.history(0,10)\n",
    "d1.mean()\n",
    "d1.var()\n",
    "    \n",
    "print(\"\\nSzenario 2:\")        \n",
    "d2 = Dice()\n",
    "for _ in range(1000): \n",
    "    d2.roll()\n",
    "\n",
    "d2.history(100,110)\n",
    "d2.mean()\n",
    "d2.var()\n",
    "    \n",
    "\n",
    "print(\"\\nSzenario 3:\")    \n",
    "d3 = Dice()\n",
    "for _ in range(100000): \n",
    "    d3.roll()\n",
    "\n",
    "d3.history(99990,100000)\n",
    "d3.mean()\n",
    "d3.var();   # ; hides the last cell result"
   ]
  },
  {
   "cell_type": "markdown",
   "metadata": {},
   "source": [
    "---\n",
    "\n",
    "## Aufgabe 2: Webscraping, Dateien ein- und auslesen"
   ]
  },
  {
   "cell_type": "markdown",
   "metadata": {},
   "source": [
    "Korrelationa) Lesen Sie den Inhalt von https://de.wikipedia.org/wiki/Philipps-Universit%C3%A4t_Marburg ein. Wählen Sie darin alle Bereiche die vom HTML Tag `<div>` mit Attribut `id=\"mw-content-text\"` eingeschlossen werden. Entfernen Sie dann jeweils alle HTML-Tags. Speichern sie den gesamten extrahierten Text in der Datei `Uni_Marburg_Wikipedia.txt`.\n",
    "\n",
    "*Tipp:* Nutzen Sie die Bibliotheken `beautifulsoup4` und `requests`."
   ]
  },
  {
   "cell_type": "code",
   "execution_count": 11,
   "metadata": {},
   "outputs": [],
   "source": [
    "url = 'https://de.wikipedia.org/wiki/Philipps-Universit%C3%A4t_Marburg'\n",
    "from bs4 import BeautifulSoup\n",
    "import requests\n",
    "page = requests.get(url)\n",
    "soup = BeautifulSoup(page.content, 'html.parser')\n",
    "\n",
    "soup = [p.get_text() for p in soup.find_all('div', id='mw-content-text')]\n",
    "text = \"\".join(soup)\n",
    "\n",
    "with open(\"Uni_Marburg_Wikipedia.txt\", \"w\") as f:\n",
    "    f.write(text)"
   ]
  },
  {
   "cell_type": "markdown",
   "metadata": {},
   "source": [
    "b) Lesen Sie die Datei `Uni_Marburg_Wikipedia.txt` ein. Lassen Sie berechnen, wie oft das Wort Informatik vorkommt. Welches sind die 10 Worte, mit mehr als 3 Buchstaben, die im Text am häufigsten vorkommen? Geben Sie diese sortiert zusammen mit ihrer Häufigkeit aus."
   ]
  },
  {
   "cell_type": "code",
   "execution_count": 12,
   "metadata": {},
   "outputs": [
    {
     "name": "stdout",
     "output_type": "stream",
     "text": [
      "1\n"
     ]
    },
    {
     "data": {
      "text/plain": [
       "[('Marburg', 110),\n",
       " ('Universität', 58),\n",
       " ('Marburger', 55),\n",
       " ('Philipps-Universität', 53),\n",
       " ('Quelltext', 32),\n",
       " ('bearbeiten]', 32),\n",
       " ('Hochschule', 30),\n",
       " ('eine', 28),\n",
       " ('wurde', 27),\n",
       " ('Marburg.', 27)]"
      ]
     },
     "execution_count": 12,
     "metadata": {},
     "output_type": "execute_result"
    }
   ],
   "source": [
    "with open(\"Uni_Marburg_Wikipedia.txt\", \"r\") as f:\n",
    "    text = f.read()\n",
    "    \n",
    "print(text.count(\"Informatik\"))\n",
    "words = text.split()\n",
    "\n",
    "word_counts = {}\n",
    "\n",
    "for w in words:\n",
    "    if len(w) > 3:\n",
    "        if w not in word_counts.keys():\n",
    "            word_counts[w] = 1\n",
    "        else:\n",
    "            word_counts[w] += 1\n",
    "             \n",
    "sorted(word_counts.items(), key=lambda item: item[1], reverse=True)[:10]"
   ]
  },
  {
   "cell_type": "markdown",
   "metadata": {},
   "source": [
    "---\n",
    "## Aufgabe 3: Pearson-Korrelation\n",
    "\n",
    "Berechnen Sie die Korrelationskoeffizienten für die folgenden Merkmale:\n",
    "\n",
    "co2     | year\n",
    "--------|-----\n",
    "792.793 | 2014\n",
    "795.940 | 2015\n",
    "801.655 | 2016\n",
    "797.966 | 2017\n",
    "759.002 | 2018"
   ]
  },
  {
   "cell_type": "markdown",
   "metadata": {},
   "source": [
    "a) Berechnen Sie die Pearson-Korrelation von Hand und geben Sie den Rechenweg an.\n",
    "\n",
    "Für die Darstellung des Rechenweges können Sie LaTex in Markdown benutzen. Alternativ können Sie auch ein Foto des Rechenweges einbinden."
   ]
  },
  {
   "cell_type": "markdown",
   "metadata": {},
   "source": [
    "$ \\text{Hier können Sie Ihre Lösung in } \\mathrm{L\\!\\!^{{}_{A}} \\!\\!\\!\\!\\!\\;\\; T\\!_{\\displaystyle E} \\! X} \\text{ einfügen...} $\n",
    "\n",
    "![Bild](https://via.placeholder.com/500x80?text=...oder+ein+Bild+einbinden.)"
   ]
  },
  {
   "cell_type": "markdown",
   "metadata": {},
   "source": [
    "$$ \n",
    "\\begin{align}\n",
    "\\bar{x} &= \\frac{1}{n} \\sum ^n _{i=1} x_i = \\frac{1} {5} (792.793 + 795.940 + 801.655 + 797.966 + 759.002) = 789.471 \\\\\n",
    "\\bar{y} &= \\frac{1}{n} \\sum ^n _{i=1} y_i = \\frac{1} {5} (2014 + 2015 + 2016 + 2017 + 2018) = 2016 \\\\\n",
    "\\end{align}\n",
    "$$\n",
    "\n",
    "$$ \n",
    "\\begin{align}\n",
    "s_{xy} &= \\frac{1}{n} \\sum ^n _{i=1}(x_i - \\bar{x})(y_i - \\bar{y}) \\\\\n",
    "&= \\frac{1}{5} ( (792.793 - 789.4712) (2014 - 2016) \\\\\n",
    "& \\ + (795.940 - 789.471) (2015 - 2016) \\\\\n",
    "& \\ + (801.655 - 789.471) (2016 - 2016) \\\\\n",
    "& \\ + (797.966 - 789.471) (2017 - 2016) \\\\\n",
    "& \\ + (759.002 - 789.471) (2018 - 2016) ) \\\\\n",
    "&= \\frac{1}{5} ( -6.644 - 6.469 + 0.0 + 8.495 - 60.939) \\\\\n",
    "&= -13.111\n",
    "\\end{align}\n",
    "$$\n",
    "\n",
    "$$ \n",
    "\\begin{align}\n",
    "s_{x} &= \\sqrt{ \\frac{1}{n} \\sum ^n _{i=1}(x_i - \\bar{x})^2} \\\\\n",
    "&= \\sqrt{ \\frac{1}{5} ((792.793 - 789.4712)^2 \\\\\n",
    "+ (795.940 - 789.471)^2 \\\\\n",
    "+ (801.655 - 789.471)^2 \\\\\n",
    "+ (797.966 - 789.471)^2 \\\\\n",
    "+ (759.002 - 789.471)^2 )} \\\\\n",
    "&= \\sqrt{ \\frac{1}{5} (11.036 + 41.848 + 148.450 + 72.165 + 928.360) } \\\\\n",
    "&= \\sqrt{ 240.372 } \\\\\n",
    "&= 15.504\n",
    "\\end{align}\n",
    "$$\n",
    "\n",
    "$$ \n",
    "\\begin{align}\n",
    "s_{y} &= \\sqrt{ \\frac{1}{n} \\sum ^n _{i=1}(y_i - \\bar{y})^2} \\\\\n",
    "&= \\sqrt{ \\frac{1}{5}  (2014 - 2016)^2 \\\\\n",
    "+ (2015 - 2016)^2 \\\\\n",
    "+ (2016 - 2016)^2 \\\\\n",
    "+ (2017 - 2016)^2 \\\\\n",
    "+ (2018 - 2016)^2 )} \\\\\n",
    "&= \\sqrt{ \\frac{1}{5} (4 + 1 + 0 + 1 + 4) } \\\\\n",
    "&= \\sqrt{ 2 } \\\\\n",
    "&= 1.414\n",
    "\\end{align}\n",
    "$$\n",
    "\n",
    "$$ \n",
    "r_{XY} = \\frac{s_{xy}}{s_x * s_y} = \\frac{-13.111} {15.504 * 1.414} = -0.598\n",
    "$$"
   ]
  },
  {
   "cell_type": "markdown",
   "metadata": {},
   "source": [
    "b) Schreiben Sie eine Funktion welche die Pearson-Korrelation zwischen zwei Merkmalen (zwei Listen von Werten) berechnet. In dieser Teilaufgabe dürfen Sie keine Pakete und insbesondere kein Numpy verwenden."
   ]
  },
  {
   "cell_type": "code",
   "execution_count": 4,
   "metadata": {},
   "outputs": [],
   "source": [
    "def mean(x):\n",
    "    return sum(x)/len(x)\n",
    "\n",
    "def cov(x,y):\n",
    "    xm = mean(x)\n",
    "    ym = mean(y)\n",
    "    return mean( [(xi-xm)*(yi-ym) for (xi, yi) in zip(x,y)]) \n",
    "\n",
    "def std(x):\n",
    "    xm = mean(x)\n",
    "    return  mean([(xi-xm)**2 for xi in x])**0.5\n",
    "\n",
    "def pcc(x,y):\n",
    "    return cov(x,y)/(std(x) * std(y))"
   ]
  },
  {
   "cell_type": "markdown",
   "metadata": {},
   "source": [
    "c) Überprüfen Sie Ihr Ergebnis aus Aufgabenteil a) mit Ihrer Implementierung."
   ]
  },
  {
   "cell_type": "code",
   "execution_count": 10,
   "metadata": {},
   "outputs": [
    {
     "data": {
      "text/plain": [
       "-0.5979787889440676"
      ]
     },
     "execution_count": 10,
     "metadata": {},
     "output_type": "execute_result"
    }
   ],
   "source": [
    "co2 = [792.793, 795.940, 801.655, 797.966, 759.002]\n",
    "year = [2014, 2015, 2016, 2017, 2018]\n",
    "\n",
    "pcc(co2, year)"
   ]
  },
  {
   "cell_type": "markdown",
   "metadata": {},
   "source": [
    "---\n",
    "## **Aufgabe 4: Spearman-Rangkorrelation (bewertet: 0,5+2,5+1,5+0,5 Punkte)**\n",
    "\n",
    "Berechnen Sie die Spearman-Rangkorrelationskoeffizienten für die folgenden Merkmale:\n",
    "\n",
    "co2     | year\n",
    "--------|-----\n",
    "792.793 | 2014\n",
    "795.940 | 2015\n",
    "801.655 | 2016\n",
    "797.966 | 2017\n",
    "759.002 | 2018"
   ]
  },
  {
   "cell_type": "markdown",
   "metadata": {},
   "source": [
    "a) Stellen Sie eine Tabelle mit den Rängen für die beiden Merkmale auf."
   ]
  },
  {
   "cell_type": "markdown",
   "metadata": {},
   "source": [
    "| x=co2   | rx | y=year | ry |\n",
    "|---------|----|--------|----|\n",
    "| 792.793 | 2  | 2014   | 1  |\n",
    "| 795.940 | 3  | 2015   | 2  |\n",
    "| 801.655 | 5  | 2016   | 3  |\n",
    "| 797.966 | 4  | 2017   | 4  |\n",
    "| 759.002 | 1  | 2018   | 5  |"
   ]
  },
  {
   "cell_type": "markdown",
   "metadata": {},
   "source": [
    "b) Berechnen Sie den Spearman-Rangkorrelationskoeffizienten von Hand und geben Sie den Rechenweg an. Für die Darstellung des Rechenweges können Sie LaTex in Markdown benutzen. Alternativ können Sie auch ein Foto des Rechenweges einbinden."
   ]
  },
  {
   "cell_type": "markdown",
   "metadata": {},
   "source": [
    "$$\n",
    "\\begin{align}\n",
    "\\bar{r}_x &= \\frac{1}{n} \\sum ^n _{i=1} r_{x_i} = \\frac{1} {5} (2 + 3 + 5 + 4 + 1) = 3 \\\\\n",
    "\\bar{r}_y &= \\frac{1}{n} \\sum ^n _{i=1} r_{y_i} = \\frac{1} {5} (1 + 2 + 3 + 4 + 5) = 3 \\\\\n",
    "\\end{align}\n",
    "$$\n",
    "\n",
    "$$ \n",
    "\\begin{align}\n",
    "s_{r_xr_y} &= \\frac{1}{n} \\sum ^n _{i=1}(r_{x_i} - \\bar{r}_x)(r_{y_i} - \\bar{r}_y) \\\\\n",
    "&= \\frac{1}{5} ( (2 - 3) (1 - 3) \\\\\n",
    "& \\ + (3 - 3) (2 - 3) \\\\\n",
    "& \\ + (5 - 3) (3 - 3) \\\\\n",
    "& \\ + (4 - 3) (4 - 3) \\\\\n",
    "& \\ + (1 - 3) (5 - 3) ) \\\\\n",
    "&= \\frac{1}{5} ( 2 + 0 + 0 + 1 - 4) \\\\\n",
    "&= -0.2\n",
    "\\end{align}\n",
    "$$\n",
    "\n",
    "$$ \n",
    "\\begin{align}\n",
    "s_{r_x} &= \\sqrt{ \\frac{1}{n} \\sum ^n _{i=1}(r_{x_i} - \\bar{r}_x)^2} \\\\\n",
    "&= \\sqrt{ \\frac{1}{5} ((2 - 3)^2 \\\\\n",
    "+ (3 - 3)^2 \\\\\n",
    "+ (5 - 3)^2 \\\\\n",
    "+ (4 - 3)^2 \\\\\n",
    "+ (1 - 3)^2 )} \\\\\n",
    "&= \\sqrt{ \\frac{1}{5} (1 + 0 + 4 + 1 + 4) } \\\\\n",
    "&= \\sqrt{ 2 } \\\\\n",
    "&= 1.414\n",
    "\\end{align}\n",
    "$$\n",
    "\n",
    "$$ \n",
    "\\begin{align}\n",
    "s_{r_y} &= \\sqrt{ \\frac{1}{n} \\sum ^n _{i=1}(r_{y_i} - \\bar{r}_y)^2} \\\\\n",
    "&= \\sqrt{ \\frac{1}{5}  (1 - 3)^2 \\\\\n",
    "+ (2 - 3)^2 \\\\\n",
    "+ (3 - 3)^2 \\\\\n",
    "+ (4 - 3)^2 \\\\\n",
    "+ (5 - 3)^2 )} \\\\\n",
    "&= \\sqrt{ \\frac{1}{5} (4 + 1 + 0 + 1 + 4) } \\\\\n",
    "&= \\sqrt{ 2 } \\\\\n",
    "&= 1.414\n",
    "\\end{align}\n",
    "$$\n",
    "\n",
    "$$ \n",
    "r_{XY}^{S} = \\frac{s_{r_x r_y}}{s_{r_x} * s_{r_y}} = \\frac{-0.2} {1.414 * 1.414} = -0.1\n",
    "$$"
   ]
  },
  {
   "cell_type": "markdown",
   "metadata": {},
   "source": [
    "c) Schreiben Sie eine Funktion welche den Spearman-Rangkorrelationskoeffizienten zwischen zwei Merkmalen (zwei Listen von Werten) berechnet. In dieser Teilaufgabe dürfen Sie keine Pakete und insbesondere kein Numpy verwenden. "
   ]
  },
  {
   "cell_type": "code",
   "execution_count": 33,
   "metadata": {},
   "outputs": [],
   "source": [
    "def mean(x):\n",
    "    return sum(x)/len(x)\n",
    "\n",
    "def cov(x,y):\n",
    "    xm = mean(x)\n",
    "    ym = mean(y)\n",
    "    return mean( [(xi-xm)*(yi-ym) for (xi, yi) in zip(x,y)]) \n",
    "\n",
    "def std(x):\n",
    "    xm = mean(x)\n",
    "    return  mean([(xi-xm)**2 for xi in x])**0.5\n",
    "\n",
    "def pcc(x,y):\n",
    "    return cov(x,y)/(std(x) * std(y))\n",
    "\n",
    "\n",
    "def argsort(x):\n",
    "    return sorted(range(len(x)), key=x.__getitem__)\n",
    "\n",
    "def rank(x):\n",
    "    idx = argsort(x)\n",
    "    \n",
    "    # special handling of ranks for same values (not required for this example)\n",
    "    rank = [0 for _ in x]\n",
    "    r_val = 0    \n",
    "    i = j = 0\n",
    "    while i < len(idx):\n",
    "        \n",
    "        if j < len(idx) and x[idx[i]] == x[idx[j]]:  # same value found, average rank\n",
    "            r_val = (i+j) / 2 + 1\n",
    "            j += 1\n",
    "        else:\n",
    "            rank[idx[i]] = r_val\n",
    "            i += 1\n",
    "    \n",
    "    # no special handling of ranks for same values\n",
    "    # rank = [i+1 for i in argsort(idx)]\n",
    "    return rank\n",
    "\n",
    "def scc(x,y):\n",
    "    return pcc(rank(x), rank(y))"
   ]
  },
  {
   "cell_type": "markdown",
   "metadata": {},
   "source": [
    "d) Überprüfen Sie Ihr Ergebnis aus Aufgabenteil b) mit Ihrer Implementierung."
   ]
  },
  {
   "cell_type": "code",
   "execution_count": 35,
   "metadata": {},
   "outputs": [
    {
     "data": {
      "text/plain": [
       "-0.09999999999999998"
      ]
     },
     "execution_count": 35,
     "metadata": {},
     "output_type": "execute_result"
    }
   ],
   "source": [
    "co2 = [792.793, 795.940, 801.655, 797.966, 759.002]\n",
    "year = [2014, 2015, 2016, 2017, 2018]\n",
    "\n",
    "scc(co2, year)"
   ]
  }
 ],
 "metadata": {
  "kernelspec": {
   "display_name": "Python 3",
   "language": "python",
   "name": "python3"
  },
  "language_info": {
   "codemirror_mode": {
    "name": "ipython",
    "version": 3
   },
   "file_extension": ".py",
   "mimetype": "text/x-python",
   "name": "python",
   "nbconvert_exporter": "python",
   "pygments_lexer": "ipython3",
   "version": "3.8.10"
  }
 },
 "nbformat": 4,
 "nbformat_minor": 4
}
