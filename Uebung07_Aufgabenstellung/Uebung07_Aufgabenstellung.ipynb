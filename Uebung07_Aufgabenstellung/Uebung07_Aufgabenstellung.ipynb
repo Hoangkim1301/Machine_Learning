{
 "cells": [
  {
   "cell_type": "markdown",
   "metadata": {},
   "source": [
    "# Übungszettel 7: Entscheidungsbäume\n",
    "\n",
    "## Maschinelles Lernen - WiSe 23/24\n",
    "\n",
    "### Abgabe 13.12.2023, 23:55 Uhr\n",
    "\n",
    "*Hinweise:*\n",
    "- Übungsaufgaben **müssen** in Gruppen von 3-4 Personen abgegeben werden. **Einzelabgaben werden nicht korrigiert bzw. bewertet.**\n",
    "- Es wird pro Übungszettel nur eine Aufgabe bewertet, die übrigen Aufgaben dienen zur selbstständigen Vertiefung des Vorlesungsstoffs. Für diese Aufgaben werden nach der Abgabe Musterlösungen bereitgestellt.\n",
    "- Die Lösungen sollen in diesem IPython Notebook realisiert werden, wobei Teilaufgaben und Zwischenergebnisse ausgegeben bzw. visualisiert werden sollen.\n",
    "- Für die Abgabe sollen Sie dieses IPython Notebook und ggf. zugehörige Dateien in ein **Ziparchiv** packen und im Ilias hochladen. Das Ziparchiv soll nach folgendem Muster benannt werden:\n",
    "`UebungXX_Nachname1_Nachname2_Nachname3.zip`, wobei die Nachnamen in alphabetischer Reihenfolge angegeben und Umlaute ggf. ersetzt werden sollen. Bei Nichtbefolgung dieser Vorgabe können Punkte abgezogen werden."
   ]
  },
  {
   "cell_type": "markdown",
   "metadata": {},
   "source": [
    "---\n",
    "## **Aufgabe 1:  Regressionsbäume (bewertet: 3+1+1 Punkte)**\n",
    "\n",
    "Gegeben sei folgende Beispielmenge:\n",
    "\n",
    "| A1 | A2 | A3 | A4 | Value |\n",
    "| -- | -- | -- | -- | ----- |\n",
    "| C  | K  | T  | X  | 0.28  |\n",
    "| B  | J  | S  | X  | 0.50  |\n",
    "| C  | J  | S  | Z  | 0.35  |\n",
    "| B  | I  | R  | Y  | 5.50  |\n",
    "| A  | J  | T  | Z  | 0.35  |\n",
    "| A  | K  | S  | Z  | 0.80  |\n",
    "| C  | I  | R  | Y  | 5.10  |\n",
    "| A  | I  | R  | Y  | 5.70  |\n",
    "| C  | I  | S  | Y  | 0.76  |\n",
    "| B  | I  | S  | X  | 1.03  |\n",
    "| B  | K  | R  | Y  | 0.46  |\n",
    "| C  | K  | T  | Z  | 0.39  |\n",
    "| B  | K  | S  | X  | 0.28  |\n",
    "| A  | K  | R  | X  | 1.10  |"
   ]
  },
  {
   "cell_type": "markdown",
   "metadata": {},
   "source": [
    "a) Erzeugen Sie einen Regressionsbaum mittels des wie folgt modifizierten Verfahrens ID3. \n",
    "Verwenden Sie das Maß Standard Deviation Reduction (SDR) zur Auswahl der Tests und den Mittelwert der Instanzen eines Blattes als Vorhersagewert. Dabei  berechnet sich die Standardabweichung einer Menge von Werten $x_1,···, x_k$ mit dem Mittelwert $\\bar{x}$ sich wie folgt:\n",
    "\n",
    "$$ SD(x_1,···, x_k) = \\sqrt{\\frac{1}{k-1} \\sum_{i=1}^k (x_i -\\bar{x})^2} $$\n",
    "\n",
    "und Standard Deviation Reduction SDR wie folgt:\n",
    "\n",
    "$$ SDR(S,A) = SD(S) − \\sum_{i} \\frac{|S_i|}{|S|} SD(S_i)$$ \n",
    "\n",
    "Hierbei soll ein Knoten, sobald er weniger als 3 Instanzen abdeckt, nicht weiter aufgeteilt und zu einem Blatt umgewandelt werden. Sollte bei einem Test ein Testausgang keine Instanzen abdecken, fließt er nicht in die Berechnung des SDRs ein und soll, da keine Daten für ihn vorhanden sind, als Blatt verwendet werden, das den Mittelwert seines Elternknotens vorhersagt. Im Falle zweier gleichwertiger Tests überlegen Sie sich, wie man diesen Konflikt lösen kann."
   ]
  },
  {
   "cell_type": "markdown",
   "metadata": {},
   "source": [
    "$$ \\text{Hier können Sie Ihre Lösung in } \\mathrm{L\\!\\!^{{}_{A}} \\!\\!\\!\\!\\!\\;\\; T\\!_{\\displaystyle E} \\! X} \\text{ einfügen...} $$\n",
    "\n",
    "![Bild](https://via.placeholder.com/500x80?text=...oder+ein+Bild+einbinden.)"
   ]
  },
  {
   "cell_type": "markdown",
   "metadata": {},
   "source": [
    "b) Zeichnen Sie den Baum"
   ]
  },
  {
   "cell_type": "markdown",
   "metadata": {},
   "source": [
    "$$ \\text{Hier können Sie Ihre Lösung in } \\mathrm{L\\!\\!^{{}_{A}} \\!\\!\\!\\!\\!\\;\\; T\\!_{\\displaystyle E} \\! X} \\text{ einfügen...} $$\n",
    "\n",
    "![Bild](https://via.placeholder.com/500x80?text=...oder+ein+Bild+einbinden.)"
   ]
  },
  {
   "cell_type": "markdown",
   "metadata": {},
   "source": [
    "c) Bestimmen Sie den Mean-Squared-Error des Baumes\n",
    "* auf den Trainingsdaten\n",
    "* auf den folgenden Testdaten:\n",
    "\n",
    "| A1 | A2 | A3 | A4 | Value |\n",
    "| -- | -- | -- | -- | ----- |\n",
    "| B  | J  | T  | Z  | 0.51  |\n",
    "| C  | K  | R  | Y  | 1.90  |\n",
    "| B  | J  | R  | X  | 0.90  |\n",
    "| A  | J  | S  | Y  | 0.47  |\n",
    "| A  | K  | T  | Z  | 0.54  |\n",
    "\n",
    "Der Mean-Squared-Error wird folgendermaßen berechnet:\n",
    "\n",
    "$$ MSE = \\frac{1}{n} \\sum_{j=1}^{n} ( y_j − p_j ) $$"
   ]
  },
  {
   "cell_type": "markdown",
   "metadata": {},
   "source": [
    "$$ \\text{Hier können Sie Ihre Lösung in } \\mathrm{L\\!\\!^{{}_{A}} \\!\\!\\!\\!\\!\\;\\; T\\!_{\\displaystyle E} \\! X} \\text{ einfügen...} $$\n",
    "\n",
    "![Bild](https://via.placeholder.com/500x80?text=...oder+ein+Bild+einbinden.)"
   ]
  }
 ],
 "metadata": {
  "kernelspec": {
   "display_name": "Python 3",
   "language": "python",
   "name": "python3"
  },
  "language_info": {
   "codemirror_mode": {
    "name": "ipython",
    "version": 3
   },
   "file_extension": ".py",
   "mimetype": "text/x-python",
   "name": "python",
   "nbconvert_exporter": "python",
   "pygments_lexer": "ipython3",
   "version": "3.8.10"
  }
 },
 "nbformat": 4,
 "nbformat_minor": 4
}
