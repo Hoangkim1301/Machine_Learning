{
 "cells": [
  {
   "cell_type": "markdown",
   "metadata": {},
   "source": [
    "# Übungszettel 1: Python\n",
    "\n",
    "## Maschinelles Lernen - WiSe 23/24\n",
    "\n",
    "### Abgabe 25.10.2023, 23:55 Uhr"
   ]
  },
  {
   "cell_type": "markdown",
   "metadata": {},
   "source": [
    "*Hinweise:*\n",
    "- Übungsaufgaben **müssen** in Gruppen von 3-4 Personen abgegeben werden. \n",
    "- Es wird pro Übungszettel nur eine Aufgabe bewertet, die übrigen Aufgaben dienen zur selbstständigen Vertiefung des Vorlesungsstoffs. Für diese Aufgaben werden nach der Abgabe Musterlösungen bereitgestellt.\n",
    "- Die Lösungen sollen in diesem IPython Notebook realisiert werden, wobei Teilaufgaben und Zwischenergebnisse ausgegeben bzw. visualisiert werden sollen.\n",
    "- Für die Abgabe sollen Sie dieses IPython Notebook und ggf. zugehörige Dateien in ein **Ziparchiv** packen und im Ilias hochladen. Das Ziparchiv soll nach folgendem Muster benannt werden:\n",
    "`UebungXX_Nachname1_Nachname2_Nachname3.zip`, wobei die Nachnamen in alphabetischer Reihenfolge angegeben und Umlaute ggf. ersetzt werden sollen."
   ]
  },
  {
   "cell_type": "markdown",
   "metadata": {},
   "source": [
    "---\n",
    "\n",
    "## Aufgabe 1: Python Grundlagen\n",
    "\n",
    "a) Schreiben Sie ein Programm, welches für einen vom Benutzer eingegebenen Wert die Fibonacci Zahlen berechnet und ausgibt."
   ]
  },
  {
   "cell_type": "code",
   "execution_count": 3,
   "metadata": {},
   "outputs": [
    {
     "name": "stdout",
     "output_type": "stream",
     "text": [
      "5\n",
      "55\n"
     ]
    }
   ],
   "source": [
    "#fibonacci numbers\n",
    "\n",
    "def fib(n):\n",
    "    if n == 0:\n",
    "        return 0\n",
    "    if n == 1:\n",
    "        return 1\n",
    "    else:\n",
    "        return fib(n-1) + fib(n-2)\n",
    "    \n",
    "print(fib(5))\n",
    "print(fib(10))"
   ]
  },
  {
   "cell_type": "markdown",
   "metadata": {},
   "source": [
    "b) Lösen Sie die ersten beiden Aufgaben auf http://www.pythonchallenge.com."
   ]
  },
  {
   "cell_type": "code",
   "execution_count": 51,
   "metadata": {},
   "outputs": [
    {
     "name": "stdout",
     "output_type": "stream",
     "text": [
      "i hope you didnt translate it by hand. thats what computers are for. doing it in by hand is inefficient and that's why this text is so long. using string.maketrans() is recommended. now apply on the url\n",
      "{\n"
     ]
    }
   ],
   "source": [
    "#secrete message to be decoded\n",
    "message = \"g fmnc wms bgblr rpylqjyrc gr zw fylb. rfyrq ufyr amknsrcpq ypc dmp. bmgle gr gl zw fylb gq glcddgagclr ylb rfyr'q ufw rfgq rcvr gq qm jmle. sqgle qrpgle.kyicrpylq() gq pcamkkclbcb. lmu ynnjw ml rfc spj\"\n",
    "\n",
    "def decode(mess, a, b):\n",
    "    #find index in the alphabet of a and b\n",
    "    shift = (ord(b)-97) - (ord(a)-97)\n",
    "    \n",
    "    # creat a list of encrypted words.\n",
    "    ciphertext = mess.split()    \n",
    "    #create a list of decoded words\n",
    "    decoded = []\n",
    "    \n",
    "    # define characters to ignore\n",
    "    ignore_chars = ['.', '(', ')','\\'']\n",
    "    \n",
    "    for ch in ciphertext:\n",
    "        cipher_ords = [ord(x) for x in ch]                      #convert each letter to its ascii value\n",
    "        #decoded_ords = [((x + shift)) % 122  for x in cipher_ords]   #shift each letter by the shift value\n",
    "        decoded_ords = []\n",
    "        for x in cipher_ords:\n",
    "            if chr(x) in ignore_chars:\n",
    "                decoded_ords.append(x) \n",
    "            elif x+shift <= 122:\n",
    "                decoded_ords.append(x  + shift)\n",
    "            else:\n",
    "                decoded_ords.append( (x + shift) % 122 + 96)    \n",
    "        decoded_chrs = [chr(x) for x in decoded_ords]             #convert each ascii value to a letter\n",
    "        decode_word = ''.join(decoded_chrs)                      #join the letters to form a word\n",
    "        decoded.append(decode_word)                             #append each decoded word to the list of decoded words    \n",
    "           \n",
    "    decoded = ' '.join(decoded)                                  #join the words to form a sentence       \n",
    "    return decoded\n",
    "\n",
    "print(decode(message, 'k', 'm'))  "
   ]
  },
  {
   "cell_type": "markdown",
   "metadata": {},
   "source": [
    "c) Schreiben Sie eine Funktion, die die $n$ größten Werte in einem Numpy Array berechnet und messen Sie die Laufzeit für $n=5$ für ein Array der Größe 100000."
   ]
  },
  {
   "cell_type": "code",
   "execution_count": 9,
   "metadata": {},
   "outputs": [
    {
     "name": "stdout",
     "output_type": "stream",
     "text": [
      "4.9998616284240835\n"
     ]
    }
   ],
   "source": [
    "import numpy as np\n",
    "\n",
    "#create an array for length 100000\n",
    "random_array = np.random.rand(100000)\n",
    "#sort this array ascending\n",
    "random_array[::-1].sort()\n",
    "#cal 5 biggest val\n",
    "sum = sum(random_array[:5])\n",
    "\n",
    "print(sum)\n",
    "\n"
   ]
  },
  {
   "cell_type": "markdown",
   "metadata": {},
   "source": [
    "---\n",
    "## Aufgabe 2: List Comprehensions\n",
    "\n",
    "Die folgenden Teilaufgaben sollen, wo immer es möglich ist, mittels List Comprehensions gelöst werden."
   ]
  },
  {
   "cell_type": "markdown",
   "metadata": {},
   "source": [
    "a) Erzeugen Sie eine Liste der Zahlen 1 bis 1000. Danach erzeugen Sie daraus eine neue Liste, die alle ungeraden Zahlen der ersten Liste quadriert enthält."
   ]
  },
  {
   "cell_type": "code",
   "execution_count": null,
   "metadata": {},
   "outputs": [],
   "source": []
  },
  {
   "cell_type": "markdown",
   "metadata": {},
   "source": [
    "b) Der Hamming-Abstand von Binärcodes ist definiert als $ h(x, y) := | \\{j \\in \\{1, ... , l\\} | x_j  \\neq y_j \\} |$ wobei $ j \\in {0, 1} $. Schreiben Sie ein Programm, das zunächst zwei zufällige Binärcodes der Länge $l$ generiert und anschließend ihren Hamming-Abstand berechnet. Berechnen Sie dann die Hammingdistanz für zwei Codes der Länge $l=10$.\n",
    "\n",
    "*Hinweis:* Benutzen Sie die Funktion `zip`. Eine genaue Beschreibung der Funktion erhält man durch `print zip.__doc__`"
   ]
  },
  {
   "cell_type": "code",
   "execution_count": null,
   "metadata": {},
   "outputs": [],
   "source": []
  },
  {
   "cell_type": "markdown",
   "metadata": {},
   "source": [
    "c) Gegeben sind die Listen `a = [1, 1, 2, 3, 5, 8, 13, 21, 34, 55, 89]` und `b = [1, 2, 3, 4, 5, 6, 7, 8, 9, 10, 11, 12, 13]`. Schreiben Sie ein Programm, das daraus eine Liste erzeugt, die nur jene Elemente enthält, die in beiden Listen vorkommen."
   ]
  },
  {
   "cell_type": "code",
   "execution_count": 7,
   "metadata": {},
   "outputs": [
    {
     "name": "stdout",
     "output_type": "stream",
     "text": [
      "{1, 2, 3, 5, 8, 13}\n"
     ]
    }
   ],
   "source": [
    "a = [1, 1, 2, 3, 5, 8, 13, 21, 34, 55, 89]\n",
    "b = [1, 2, 3, 4, 5, 6, 7, 8, 9, 10, 11, 12, 13]\n",
    "\n",
    "commen_elements = set(a) & set(b)\n",
    "print(commen_elements)"
   ]
  },
  {
   "cell_type": "markdown",
   "metadata": {},
   "source": [
    "---\n",
    "## Aufgabe 3: Higher Order Functions\n",
    "\n",
    "Schreiben Sie ein Programm, das eine Liste von Wörtern auf eine Liste von Zahlen abbildet, wobei die Zahlen die Länge der Wörter repräsentieren. Schreiben Sie das Programm in drei Varianten: "
   ]
  },
  {
   "cell_type": "markdown",
   "metadata": {},
   "source": [
    "a) mit einer for-Schleife"
   ]
  },
  {
   "cell_type": "code",
   "execution_count": null,
   "metadata": {},
   "outputs": [],
   "source": []
  },
  {
   "cell_type": "markdown",
   "metadata": {},
   "source": [
    "b) mit der Funktion `map()` "
   ]
  },
  {
   "cell_type": "code",
   "execution_count": null,
   "metadata": {},
   "outputs": [],
   "source": []
  },
  {
   "cell_type": "markdown",
   "metadata": {},
   "source": [
    "c) mit List Comprehensions."
   ]
  },
  {
   "cell_type": "code",
   "execution_count": null,
   "metadata": {},
   "outputs": [],
   "source": []
  },
  {
   "cell_type": "markdown",
   "metadata": {},
   "source": [
    "---\n",
    "## **Aufgabe 4: Matrizen (bewertet: 1+1,5+1,5+1 Punkte)**\n",
    "*Hinweis:* In den folgenden Aufgaben darf, sofern nicht anders angegeben, nur reines Python ohne zusätzliche Bibliotheken verwendet werden (insbesondere kein `numpy` für Matrixoperationen).\n",
    "Eine Matrix kann in Python durch zwei verschachtelte Listen dargestellt werden\n",
    "Zum Beispiel kann die Matrix\n",
    "\n",
    "$A = \\begin{pmatrix}\n",
    "1 & 2 & 3\\\\\n",
    "4 & 5 & 6\\\\\n",
    "7 & 8 & 9\\\\\n",
    "\\end{pmatrix}$ \n",
    "\n",
    "in Python wie folgt angegeben werden:\n",
    "\n",
    "`a = [ [1,2,3], [4,5,6], [7,8,9] ]`\n"
   ]
  },
  {
   "cell_type": "markdown",
   "metadata": {},
   "source": [
    "a) Schreiben Sie eine Funktion, die eine $n \\times n$-Matrix transponiert und testen Sie diese mit einem Beispiel."
   ]
  },
  {
   "cell_type": "code",
   "execution_count": null,
   "metadata": {},
   "outputs": [],
   "source": []
  },
  {
   "cell_type": "markdown",
   "metadata": {},
   "source": [
    "b) Schreiben Sie eine Funktion, die zwei $n \\times n$ Matrizen addiert und testen Sie diese mit einem Beispiel."
   ]
  },
  {
   "cell_type": "code",
   "execution_count": null,
   "metadata": {},
   "outputs": [],
   "source": []
  },
  {
   "cell_type": "markdown",
   "metadata": {},
   "source": [
    "c) Schreiben Sie eine Funktion, die zwei $n \\times n$ Matrizen multipliziert und testen Sie diese mit einem Beispiel."
   ]
  },
  {
   "cell_type": "code",
   "execution_count": null,
   "metadata": {
    "scrolled": true
   },
   "outputs": [],
   "source": []
  },
  {
   "cell_type": "markdown",
   "metadata": {},
   "source": [
    "d) Validieren Sie die Ergebnisse der Funktionen aus den vorigen Aufgabenteilen, indem Sie die jeweiligen Matrixoperationen in `numpy` berechnen und die Ergebnisse vergleichen."
   ]
  },
  {
   "cell_type": "code",
   "execution_count": null,
   "metadata": {},
   "outputs": [],
   "source": []
  }
 ],
 "metadata": {
  "kernelspec": {
   "display_name": "Python 3",
   "language": "python",
   "name": "python3"
  },
  "language_info": {
   "codemirror_mode": {
    "name": "ipython",
    "version": 3
   },
   "file_extension": ".py",
   "mimetype": "text/x-python",
   "name": "python",
   "nbconvert_exporter": "python",
   "pygments_lexer": "ipython3",
   "version": "3.11.5"
  }
 },
 "nbformat": 4,
 "nbformat_minor": 4
}
